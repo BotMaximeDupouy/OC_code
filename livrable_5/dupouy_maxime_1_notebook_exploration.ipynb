{
 "cells": [
  {
   "cell_type": "markdown",
   "id": "7febf81f",
   "metadata": {},
   "source": [
    "# Import"
   ]
  },
  {
   "cell_type": "code",
   "execution_count": 2,
   "id": "d77e34a7",
   "metadata": {},
   "outputs": [],
   "source": [
    "import seaborn as sns\n",
    "import matplotlib.pyplot as plt\n",
    "import pandas as pd\n",
    "import numpy as np\n",
    "from datetime import datetime, date"
   ]
  },
  {
   "cell_type": "markdown",
   "id": "f48685bf",
   "metadata": {},
   "source": [
    "# Load Data"
   ]
  },
  {
   "cell_type": "code",
   "execution_count": 3,
   "id": "b442ae75",
   "metadata": {},
   "outputs": [],
   "source": [
    "customers = pd.read_csv('./data/olist_customers_dataset.csv.zip')\n",
    "geolocalisation = pd.read_csv('./data/olist_geolocation_dataset.csv.zip')\n",
    "order_items = pd.read_csv('./data/olist_order_items_dataset.csv.zip')\n",
    "payments = pd.read_csv('./data/olist_order_payments_dataset.csv.zip')\n",
    "reviews = pd.read_csv('./data/olist_order_reviews_dataset.csv.zip')\n",
    "orders = pd.read_csv('./data/olist_orders_dataset.csv.zip')\n",
    "products = pd.read_csv('./data/olist_products_dataset.csv.zip')\n",
    "sellers = pd.read_csv('./data/olist_sellers_dataset.csv')\n",
    "product_cat = pd.read_csv('./data/product_category_name_translation.csv')"
   ]
  },
  {
   "cell_type": "code",
   "execution_count": 4,
   "id": "50731781",
   "metadata": {},
   "outputs": [],
   "source": [
    "df = orders.merge(\n",
    "    reviews, on='order_id', how='left').merge(\n",
    "    payments, on='order_id', how='left').merge(\n",
    "    order_items, on='order_id', how='left').merge(\n",
    "    products, on='product_id', how='left').merge(\n",
    "    sellers, on='seller_id', how='left').merge(\n",
    "    customers, on='customer_id', how='left').merge(\n",
    "    product_cat, on='product_category_name', how='left')"
   ]
  },
  {
   "cell_type": "markdown",
   "id": "bba72e74",
   "metadata": {},
   "source": [
    "# Premiere Exploration"
   ]
  },
  {
   "cell_type": "code",
   "execution_count": 5,
   "id": "5742cea1",
   "metadata": {},
   "outputs": [
    {
     "data": {
      "text/plain": [
       "order_id                              0\n",
       "customer_id                           0\n",
       "order_status                          0\n",
       "order_purchase_timestamp              0\n",
       "order_approved_at                   177\n",
       "order_delivered_carrier_date       2086\n",
       "order_delivered_customer_date      3421\n",
       "order_estimated_delivery_date         0\n",
       "review_id                           997\n",
       "review_score                        997\n",
       "review_comment_title             105154\n",
       "review_comment_message            68898\n",
       "review_creation_date                997\n",
       "review_answer_timestamp             997\n",
       "payment_sequential                    3\n",
       "payment_type                          3\n",
       "payment_installments                  3\n",
       "payment_value                         3\n",
       "order_item_id                       833\n",
       "product_id                          833\n",
       "seller_id                           833\n",
       "shipping_limit_date                 833\n",
       "price                               833\n",
       "freight_value                       833\n",
       "product_category_name              2542\n",
       "product_name_lenght                2542\n",
       "product_description_lenght         2542\n",
       "product_photos_qty                 2542\n",
       "product_weight_g                    853\n",
       "product_length_cm                   853\n",
       "product_height_cm                   853\n",
       "product_width_cm                    853\n",
       "seller_zip_code_prefix              833\n",
       "seller_city                         833\n",
       "seller_state                        833\n",
       "customer_unique_id                    0\n",
       "customer_zip_code_prefix              0\n",
       "customer_city                         0\n",
       "customer_state                        0\n",
       "product_category_name_english      2567\n",
       "dtype: int64"
      ]
     },
     "execution_count": 5,
     "metadata": {},
     "output_type": "execute_result"
    }
   ],
   "source": [
    "df.isnull().sum()"
   ]
  },
  {
   "cell_type": "markdown",
   "id": "a0464ef8",
   "metadata": {},
   "source": [
    "/!\\ \n",
    "- numero de client = customer_unique_id et non customer_id (numero de client affilié sur la commande !)\n",
    "- Calcul du prix de la commande : payment value parfois dupliqué sur plusieurs fois le même items\n",
    "- idem pour le calcul des reviews"
   ]
  },
  {
   "cell_type": "code",
   "execution_count": 6,
   "id": "ac38dd58",
   "metadata": {},
   "outputs": [
    {
     "data": {
      "text/html": [
       "<div>\n",
       "<style scoped>\n",
       "    .dataframe tbody tr th:only-of-type {\n",
       "        vertical-align: middle;\n",
       "    }\n",
       "\n",
       "    .dataframe tbody tr th {\n",
       "        vertical-align: top;\n",
       "    }\n",
       "\n",
       "    .dataframe thead th {\n",
       "        text-align: right;\n",
       "    }\n",
       "</style>\n",
       "<table border=\"1\" class=\"dataframe\">\n",
       "  <thead>\n",
       "    <tr style=\"text-align: right;\">\n",
       "      <th></th>\n",
       "      <th>review_comment_title</th>\n",
       "      <th>review_comment_message</th>\n",
       "    </tr>\n",
       "  </thead>\n",
       "  <tbody>\n",
       "    <tr>\n",
       "      <th>41</th>\n",
       "      <td>10</td>\n",
       "      <td>NaN</td>\n",
       "    </tr>\n",
       "    <tr>\n",
       "      <th>95</th>\n",
       "      <td>Bom atendimento</td>\n",
       "      <td>NaN</td>\n",
       "    </tr>\n",
       "    <tr>\n",
       "      <th>185</th>\n",
       "      <td>Excelente!!!</td>\n",
       "      <td>NaN</td>\n",
       "    </tr>\n",
       "    <tr>\n",
       "      <th>206</th>\n",
       "      <td>Otimo</td>\n",
       "      <td>NaN</td>\n",
       "    </tr>\n",
       "    <tr>\n",
       "      <th>210</th>\n",
       "      <td>Nota 10</td>\n",
       "      <td>NaN</td>\n",
       "    </tr>\n",
       "    <tr>\n",
       "      <th>...</th>\n",
       "      <td>...</td>\n",
       "      <td>...</td>\n",
       "    </tr>\n",
       "    <tr>\n",
       "      <th>118921</th>\n",
       "      <td>lannister é nota 10!</td>\n",
       "      <td>NaN</td>\n",
       "    </tr>\n",
       "    <tr>\n",
       "      <th>119041</th>\n",
       "      <td>Ótima</td>\n",
       "      <td>NaN</td>\n",
       "    </tr>\n",
       "    <tr>\n",
       "      <th>119051</th>\n",
       "      <td>Ótimo</td>\n",
       "      <td>NaN</td>\n",
       "    </tr>\n",
       "    <tr>\n",
       "      <th>119076</th>\n",
       "      <td>10</td>\n",
       "      <td>NaN</td>\n",
       "    </tr>\n",
       "    <tr>\n",
       "      <th>119089</th>\n",
       "      <td>recomendo</td>\n",
       "      <td>NaN</td>\n",
       "    </tr>\n",
       "  </tbody>\n",
       "</table>\n",
       "<p>1953 rows × 2 columns</p>\n",
       "</div>"
      ],
      "text/plain": [
       "        review_comment_title review_comment_message\n",
       "41                        10                    NaN\n",
       "95          Bom atendimento                     NaN\n",
       "185             Excelente!!!                    NaN\n",
       "206                    Otimo                    NaN\n",
       "210                  Nota 10                    NaN\n",
       "...                      ...                    ...\n",
       "118921  lannister é nota 10!                    NaN\n",
       "119041                Ótima                     NaN\n",
       "119051                Ótimo                     NaN\n",
       "119076                    10                    NaN\n",
       "119089             recomendo                    NaN\n",
       "\n",
       "[1953 rows x 2 columns]"
      ]
     },
     "execution_count": 6,
     "metadata": {},
     "output_type": "execute_result"
    }
   ],
   "source": [
    "df[(~df.review_comment_title.isna()) &\n",
    "   (df.review_comment_message.isna())][\n",
    "    ['review_comment_title', 'review_comment_message']\n",
    "]\n",
    "# il faudrait récupérer les titres si je travaille sur du nlp"
   ]
  },
  {
   "cell_type": "code",
   "execution_count": 7,
   "id": "f9ff41ad",
   "metadata": {},
   "outputs": [
    {
     "data": {
      "text/plain": [
       "Index(['order_id', 'customer_id', 'order_status', 'order_purchase_timestamp',\n",
       "       'order_approved_at', 'order_delivered_carrier_date',\n",
       "       'order_delivered_customer_date', 'order_estimated_delivery_date',\n",
       "       'review_id', 'review_score', 'review_comment_title',\n",
       "       'review_comment_message', 'review_creation_date',\n",
       "       'review_answer_timestamp', 'payment_sequential', 'payment_type',\n",
       "       'payment_installments', 'payment_value', 'order_item_id', 'product_id',\n",
       "       'seller_id', 'shipping_limit_date', 'price', 'freight_value',\n",
       "       'product_category_name', 'product_name_lenght',\n",
       "       'product_description_lenght', 'product_photos_qty', 'product_weight_g',\n",
       "       'product_length_cm', 'product_height_cm', 'product_width_cm',\n",
       "       'seller_zip_code_prefix', 'seller_city', 'seller_state',\n",
       "       'customer_unique_id', 'customer_zip_code_prefix', 'customer_city',\n",
       "       'customer_state', 'product_category_name_english'],\n",
       "      dtype='object')"
      ]
     },
     "execution_count": 7,
     "metadata": {},
     "output_type": "execute_result"
    }
   ],
   "source": [
    "df.columns"
   ]
  },
  {
   "cell_type": "markdown",
   "id": "4e366988",
   "metadata": {},
   "source": [
    "pas mal de colonnes semblent concernés les produits ou les vendeurs -> inutiles\n",
    "table sellers semble inutile pour notre problématique"
   ]
  },
  {
   "cell_type": "code",
   "execution_count": 8,
   "id": "0c62b26c",
   "metadata": {},
   "outputs": [],
   "source": [
    "TO_DROP = [\n",
    "    'product_name_lenght',\n",
    "    'product_description_lenght',\n",
    "    'product_photos_qty',\n",
    "    'product_weight_g',\n",
    "    'product_length_cm',\n",
    "    'product_height_cm',\n",
    "    'product_width_cm',\n",
    "    'order_estimated_delivery_date',\n",
    "    'review_answer_timestamp',\n",
    "    'product_category_name',\n",
    "    'order_approved_at',\n",
    "    'order_delivered_carrier_date',\n",
    "    'shipping_limit_date'\n",
    "]"
   ]
  },
  {
   "cell_type": "code",
   "execution_count": 9,
   "id": "d1a625ca",
   "metadata": {},
   "outputs": [],
   "source": [
    "df.drop(columns=TO_DROP, inplace=True)\n",
    "df.order_status.value_counts()\n",
    "# je garde que si order status est délivré\n",
    "df = df[df.order_status == 'delivered']"
   ]
  },
  {
   "cell_type": "code",
   "execution_count": 10,
   "id": "0d2299cf",
   "metadata": {
    "scrolled": true
   },
   "outputs": [
    {
     "name": "stdout",
     "output_type": "stream",
     "text": [
      "4085\n",
      "27\n"
     ]
    }
   ],
   "source": [
    "print(len(df.customer_city.value_counts()))\n",
    "print(len(df.customer_state.value_counts()))\n",
    "\n",
    "# une etude sur l'état semble plus appropriée\n",
    "df.drop(columns=['customer_city'], inplace=True)"
   ]
  },
  {
   "cell_type": "code",
   "execution_count": 11,
   "id": "511f621c",
   "metadata": {},
   "outputs": [
    {
     "data": {
      "text/plain": [
       "1.0     101326\n",
       "2.0      10146\n",
       "3.0       2352\n",
       "4.0        967\n",
       "5.0        454\n",
       "6.0        258\n",
       "7.0         61\n",
       "8.0         37\n",
       "9.0         29\n",
       "10.0        26\n",
       "11.0        18\n",
       "12.0        13\n",
       "13.0         8\n",
       "14.0         7\n",
       "15.0         5\n",
       "16.0         3\n",
       "17.0         3\n",
       "18.0         3\n",
       "19.0         3\n",
       "20.0         3\n",
       "21.0         1\n",
       "Name: order_item_id, dtype: int64"
      ]
     },
     "execution_count": 11,
     "metadata": {},
     "output_type": "execute_result"
    }
   ],
   "source": [
    "df.order_item_id.value_counts()"
   ]
  },
  {
   "cell_type": "code",
   "execution_count": 12,
   "id": "4d5a797b",
   "metadata": {},
   "outputs": [
    {
     "data": {
      "text/plain": [
       "96478"
      ]
     },
     "execution_count": 12,
     "metadata": {},
     "output_type": "execute_result"
    }
   ],
   "source": [
    "len(df.order_id.unique())"
   ]
  },
  {
   "cell_type": "code",
   "execution_count": 13,
   "id": "17eafb7e",
   "metadata": {},
   "outputs": [],
   "source": [
    "# orderPurchase_timestamp-order_approved\n",
    "# -> temps que le client met pour faie sa commande ?"
   ]
  },
  {
   "cell_type": "code",
   "execution_count": 41,
   "id": "7a1db074",
   "metadata": {},
   "outputs": [
    {
     "data": {
      "text/plain": [
       "<AxesSubplot:xlabel='payment_installments', ylabel='Count'>"
      ]
     },
     "execution_count": 41,
     "metadata": {},
     "output_type": "execute_result"
    },
    {
     "data": {
      "image/png": "[encoded data removed]",
      "text/plain": [
       "<Figure size 432x288 with 1 Axes>"
      ]
     },
     "metadata": {
      "needs_background": "light"
     },
     "output_type": "display_data"
    }
   ],
   "source": [
    "sns.histplot(df.payment_installments)"
   ]
  },
  {
   "cell_type": "code",
   "execution_count": 15,
   "id": "a584683b",
   "metadata": {},
   "outputs": [],
   "source": [
    "def date_convertor(serie):\n",
    "    return pd.to_datetime(serie, format=\"%Y-%m-%d %H:%M:%S\")\n",
    "\n",
    "\n",
    "to_date = ['review_creation_date',\n",
    "           'order_delivered_customer_date',\n",
    "           'order_purchase_timestamp']\n",
    "\n",
    "for column in to_date:\n",
    "    df[column] = date_convertor(df[column])"
   ]
  },
  {
   "cell_type": "code",
   "execution_count": 16,
   "id": "762eb150",
   "metadata": {},
   "outputs": [
    {
     "name": "stdout",
     "output_type": "stream",
     "text": [
      "2016-09-15 12:16:38\n",
      "2018-08-29 15:00:37\n"
     ]
    }
   ],
   "source": [
    "print(df.order_purchase_timestamp.min())\n",
    "print(df.order_purchase_timestamp.max())"
   ]
  },
  {
   "cell_type": "code",
   "execution_count": 17,
   "id": "9d953687",
   "metadata": {},
   "outputs": [
    {
     "data": {
      "text/plain": [
       "0        0 days\n",
       "1        0 days\n",
       "2        0 days\n",
       "3        0 days\n",
       "4        0 days\n",
       "          ...  \n",
       "119138   0 days\n",
       "119139   0 days\n",
       "119140   0 days\n",
       "119141   0 days\n",
       "119142   0 days\n",
       "Name: review_creation_date, Length: 115723, dtype: timedelta64[ns]"
      ]
     },
     "execution_count": 17,
     "metadata": {},
     "output_type": "execute_result"
    }
   ],
   "source": [
    "pd.to_timedelta(df.review_creation_date.dt.strftime('%S'))"
   ]
  },
  {
   "cell_type": "code",
   "execution_count": 18,
   "id": "29b833e5",
   "metadata": {},
   "outputs": [],
   "source": [
    "df['commentaire_avant_reception'] = 0\n",
    "df.loc[\n",
    "    (df['review_creation_date']-df['order_delivered_customer_date']) /\n",
    "    np.timedelta64(1, 's') < 0,\n",
    "    'commentaire_avant_reception'] = 1"
   ]
  },
  {
   "cell_type": "code",
   "execution_count": 19,
   "id": "911eb623",
   "metadata": {},
   "outputs": [],
   "source": [
    "nombre_commandes = df[['customer_unique_id', 'order_id']].drop_duplicates()\n",
    "nombre_commandes = nombre_commandes.groupby('customer_unique_id',\n",
    "                                            as_index=False).count()\n",
    "nombre_commandes.rename(columns={\"order_id\": \"nb_commandes\"}, inplace=True)\n",
    "df = df.merge(nombre_commandes, on='customer_unique_id')"
   ]
  },
  {
   "cell_type": "code",
   "execution_count": 20,
   "id": "e981f934",
   "metadata": {},
   "outputs": [
    {
     "data": {
      "text/plain": [
       "1     90557\n",
       "2      2573\n",
       "3       181\n",
       "4        28\n",
       "5         9\n",
       "6         5\n",
       "7         3\n",
       "15        1\n",
       "9         1\n",
       "Name: nb_commandes, dtype: int64"
      ]
     },
     "execution_count": 20,
     "metadata": {},
     "output_type": "execute_result"
    }
   ],
   "source": [
    "df[['customer_unique_id',\n",
    "    'nb_commandes']].drop_duplicates().nb_commandes.value_counts()\n",
    "# seulement 3% des clients ont plus d'une commande !"
   ]
  },
  {
   "cell_type": "code",
   "execution_count": 21,
   "id": "4806422a",
   "metadata": {},
   "outputs": [
    {
     "name": "stderr",
     "output_type": "stream",
     "text": [
      "/Users/maximedupouy/.pyenv/versions/3.8.6/envs/lewagon/lib/python3.8/site-packages/seaborn/_decorators.py:36: FutureWarning: Pass the following variable as a keyword arg: x. From version 0.12, the only valid positional argument will be `data`, and passing other arguments without an explicit keyword will result in an error or misinterpretation.\n",
      "  warnings.warn(\n"
     ]
    },
    {
     "data": {
      "text/plain": [
       "<AxesSubplot:>"
      ]
     },
     "execution_count": 21,
     "metadata": {},
     "output_type": "execute_result"
    },
    {
     "data": {
      "image/png": "[encoded data removed]",
      "text/plain": [
       "<Figure size 864x432 with 1 Axes>"
      ]
     },
     "metadata": {
      "needs_background": "light"
     },
     "output_type": "display_data"
    }
   ],
   "source": [
    "a = df.product_category_name_english.value_counts()\n",
    "limit = 15\n",
    "plt.figure(figsize=(12, 6))\n",
    "sns.barplot(a.values[:limit], y=a.index[:limit])\n",
    "# sns.countplot(df.product_category_name_english, orient='v')"
   ]
  },
  {
   "cell_type": "code",
   "execution_count": 40,
   "id": "ee3d778d",
   "metadata": {},
   "outputs": [
    {
     "data": {
      "image/png": "[encoded data removed]",
      "text/plain": [
       "<Figure size 1080x720 with 1 Axes>"
      ]
     },
     "metadata": {
      "needs_background": "light"
     },
     "output_type": "display_data"
    }
   ],
   "source": [
    "customer_by_state = df[['customer_unique_id',\n",
    "                        'customer_state']].groupby(\n",
    "    'customer_state').count().reset_index()\n",
    "customer_by_state = customer_by_state.sort_values(by=['customer_unique_id'])\n",
    "plt.figure(figsize=(15, 10))\n",
    "plt.bar(customer_by_state['customer_state'], customer_by_state[\n",
    "    'customer_unique_id'])\n",
    "plt.show()"
   ]
  },
  {
   "cell_type": "markdown",
   "id": "7f0cf365",
   "metadata": {},
   "source": [
    "# Create data frame"
   ]
  },
  {
   "cell_type": "code",
   "execution_count": 23,
   "id": "9ec8eacf",
   "metadata": {},
   "outputs": [],
   "source": [
    "FUNCTIONS = {'mean': np.mean,\n",
    "             'count': np.count_nonzero,\n",
    "             'sum': sum,\n",
    "             'list': list,\n",
    "             'max': max}\n",
    "\n",
    "TO_DROP = [\n",
    "    'product_name_lenght',\n",
    "    'product_description_lenght',\n",
    "    'product_photos_qty',\n",
    "    'product_weight_g',\n",
    "    'product_length_cm',\n",
    "    'product_height_cm',\n",
    "    'product_width_cm',\n",
    "    'order_estimated_delivery_date',\n",
    "    'review_answer_timestamp',\n",
    "    'product_category_name',\n",
    "    'order_approved_at',\n",
    "    'order_delivered_carrier_date',\n",
    "    'shipping_limit_date'\n",
    "]\n",
    "\n",
    "DATE_MAX = date(2018, 12, 31)\n",
    "\n",
    "TO_DATE = ['review_creation_date',\n",
    "           'order_delivered_customer_date',\n",
    "           'order_purchase_timestamp']"
   ]
  },
  {
   "cell_type": "code",
   "execution_count": 24,
   "id": "3b816cd5",
   "metadata": {},
   "outputs": [],
   "source": [
    "TO_OPEN = [\n",
    "    'olist_customers_dataset',\n",
    "    'olist_geolocation_dataset',\n",
    "    'olist_order_items_dataset',\n",
    "    'olist_order_payments_dataset',\n",
    "    'olist_order_reviews_dataset',\n",
    "    'olist_orders_dataset',\n",
    "    'olist_products_dataset',\n",
    "]\n",
    "EXTENSION = '.csv.zip'"
   ]
  },
  {
   "cell_type": "code",
   "execution_count": 25,
   "id": "7cfe096c",
   "metadata": {},
   "outputs": [],
   "source": [
    "class CreateDataset:\n",
    "    def __init__(self):\n",
    "        pass\n",
    "\n",
    "    def go(self, path):\n",
    "        data = self.read_file(path)\n",
    "        data['olist_order_items_dataset'] = self.pre_traitement(\n",
    "            data['olist_order_items_dataset'])\n",
    "        self.df = self.merging(data)\n",
    "        return self.df\n",
    "\n",
    "    def pre_traitement(self, order_items):\n",
    "        '''create a new columns for total price for an order'''\n",
    "        orders_value = order_items.groupby('order_id',\n",
    "                                           as_index=False)[\n",
    "            ['price', 'freight_value']\n",
    "        ].sum()\n",
    "        orders_value['total_order_value'] = orders_value[\n",
    "                                            'price'] + orders_value[\n",
    "                                                    'freight_value']\n",
    "        orders_value = orders_value[\n",
    "            ['order_id', 'total_order_value']\n",
    "                                    ].drop_duplicates()\n",
    "        order_items = order_items.merge(orders_value, on='order_id')\n",
    "        return order_items\n",
    "\n",
    "    def read_file(self, path) -> dict:\n",
    "        data = {}\n",
    "        for file_name in TO_OPEN:\n",
    "            path_file = path + file_name+EXTENSION\n",
    "            data[file_name] = pd.read_csv(path_file)\n",
    "        return data\n",
    "\n",
    "    def merging(self, data: dict):\n",
    "        '''create data from all the datasets\n",
    "        filter on order_status == delivered '''\n",
    "        self.df = data['olist_orders_dataset'].merge(\n",
    "                        data['olist_order_reviews_dataset'],\n",
    "                        on='order_id',\n",
    "                        how='left').merge(\n",
    "                        data['olist_order_payments_dataset'],\n",
    "                        on='order_id',\n",
    "                        how='left').merge(\n",
    "                        data['olist_order_items_dataset'],\n",
    "                        on='order_id',\n",
    "                        how='left').merge(\n",
    "                        data['olist_products_dataset'],\n",
    "                        on='product_id',\n",
    "                        how='left').merge(\n",
    "                        data['olist_customers_dataset'],\n",
    "                        on='customer_id',\n",
    "                        how='left')\n",
    "        self.df = self.df[self.df.order_status == 'delivered']\n",
    "        return self.df.drop_duplicates()"
   ]
  },
  {
   "cell_type": "code",
   "execution_count": 26,
   "id": "4a8c2b91",
   "metadata": {},
   "outputs": [
    {
     "name": "stderr",
     "output_type": "stream",
     "text": [
      "29: E231 missing whitespace after ':'\n",
      "46: E231 missing whitespace after ':'\n"
     ]
    }
   ],
   "source": [
    "class CleaningDataset:\n",
    "    def __init__(self, df):\n",
    "        self.df = df\n",
    "\n",
    "    def drop_(self, to_drop: list) -> pd.core.frame.DataFrame:\n",
    "        '''take a list of columns and return data without those'''\n",
    "        return self.df.drop(columns=TO_DROP, inplace=True)\n",
    "\n",
    "    def date_convertor(self,\n",
    "                       serie:pd.core.series.Series) -> pd.core.series.Series:\n",
    "        '''take a pandas serie and return it in format datetime'''\n",
    "        return pd.to_datetime(serie, format=\"%Y-%m-%d %H:%M:%S\")\n",
    "\n",
    "    def converting_date(self, to_convert_date:list) -> pd.core.frame.DataFrame:\n",
    "        '''take a list of columns and return them in format datetime'''\n",
    "        for column in to_convert_date:\n",
    "            self.df[column] = date_convertor(self.df[column])\n",
    "        return self.df\n",
    "\n",
    "    def get_max(row):\n",
    "        '''return the payment type with the max payment value'''\n",
    "        if len(row.payment_type) == 1:\n",
    "            return row.payment_type[0]\n",
    "        else:\n",
    "            row.payment_type = sorted(row.payment_type, key=lambda y: order[y])\n",
    "            index_value_max = row.payment_value.index(max(row.payment_value))\n",
    "        return row.payment_type[index_value_max]\n",
    "\n",
    "    def groupby_merging(self,\n",
    "                        columns_selection: list,\n",
    "                        col_to_groupby: str,\n",
    "                        col_to_aggregate: str,\n",
    "                        new_col_name: str,\n",
    "                        function: str,\n",
    "                        drop=True) -> pd.core.frame.DataFrame:\n",
    "        '''\n",
    "        groupby, aggregate and merge new feature with:\n",
    "        - column 1 = col to groupby,\n",
    "        - column 2 = col to apply a function on\n",
    "        - new_col_name = nom de la nouvelle colonne\n",
    "        - fonction to apply\n",
    "        - drop = bool  for dropping duolicates or not\n",
    "        '''\n",
    "        new_feature = self.df[columns_selection]\n",
    "        if drop:\n",
    "            new_feature.drop_duplicates(inplace=True)\n",
    "        new_feature = new_feature.groupby(col_to_groupby,\n",
    "                                          as_index=False).agg(\n",
    "                                            FUNCTIONS[function])\n",
    "        new_feature.rename(columns={col_to_aggregate: new_col_name},\n",
    "                           inplace=True)\n",
    "        new_feature = new_feature[['customer_unique_id', new_col_name]]\n",
    "        self.df = self.df.merge(new_feature,\n",
    "                                on='customer_unique_id',\n",
    "                                how='left')\n",
    "        return self.df\n",
    "\n",
    "    def scorer_payment_sequential(self) -> pd.core.frame.DataFrame:\n",
    "        self.df.loc[(self.df['average_payment_seq'] > 0)\n",
    "                    & (self.df['average_payment_seq'] <= 0.5),\n",
    "                    'payment_sequential'] = 0.25\n",
    "        self.df.loc[(self.df['average_payment_seq'] > 0.5) &\n",
    "                    (self.df['average_payment_seq'] < 1),\n",
    "                    'payment_sequential'] = 0.75\n",
    "        return self.df\n",
    "\n",
    "    def com_before_reception(self) -> pd.core.frame.DataFrame:\n",
    "        '''\n",
    "        Create a new col review before order reception: 1 if true, 0 if false\n",
    "        '''\n",
    "        self.df['review_before_reception'] = 0\n",
    "        self.df.loc[\n",
    "            (self.df['review_creation_date'] - self.df[\n",
    "                        'order_delivered_customer_date']) /\n",
    "            np.timedelta64(1, 's') < 0, 'review_before_reception'] = 1\n",
    "        columns_selection = ['customer_unique_id', 'review_before_reception']\n",
    "        self.df = self.groupby_merging(columns_selection,\n",
    "                                       'customer_unique_id',\n",
    "                                       'review_before_reception',\n",
    "                                       'mean_review_before_reception',\n",
    "                                       'mean',\n",
    "                                       drop=False)\n",
    "        self.df['review_before_reception'] = self.df[\n",
    "            'mean_review_before_reception'].apply(\n",
    "                                            lambda x: 1 if x >= 0.5 else 0)\n",
    "        return self.df\n",
    "\n",
    "    def number_commandes(self) -> pd.core.frame.DataFrame:\n",
    "        '''\n",
    "        add a new feature: 'number_of_orders'\n",
    "        count how many orders each customer did\n",
    "        '''\n",
    "        columns_selection = ['customer_unique_id',\n",
    "                             'order_id']\n",
    "        self.df = self.groupby_merging(columns_selection,\n",
    "                                       'customer_unique_id',\n",
    "                                       'order_id',\n",
    "                                       'number_of_orders',\n",
    "                                       'count')\n",
    "        return self.df\n",
    "\n",
    "    def mean_review(self) -> pd.core.frame.DataFrame:\n",
    "        '''\n",
    "        add a new feature: \"mean_review_score\"\n",
    "        mean review score for each customer\n",
    "        '''\n",
    "        columns_selection = ['customer_unique_id',\n",
    "                             'order_id',\n",
    "                             'review_score']\n",
    "        self.df = self.groupby_merging(columns_selection,\n",
    "                                       ['customer_unique_id', 'order_id'],\n",
    "                                       'review_score',\n",
    "                                       'mean_review_score',\n",
    "                                       'mean',\n",
    "                                       drop=True)\n",
    "        return self.df\n",
    "\n",
    "    def average_order_price(self) -> pd.core.frame.DataFrame:\n",
    "        '''\n",
    "        add a a feature: \"mean_orders_price\"\n",
    "        average spend for each customer\n",
    "        '''\n",
    "        columns_selection = ['customer_unique_id',\n",
    "                             'order_id',\n",
    "                             'total_order_value']\n",
    "        self.df = self.groupby_merging(columns_selection,\n",
    "                                       'customer_unique_id',\n",
    "                                       'total_order_value',\n",
    "                                       'mean_order_price',\n",
    "                                       'mean',\n",
    "                                       drop=True)\n",
    "        return self.df\n",
    "\n",
    "    def cum_sum_order_price(self) -> pd.core.frame.DataFrame:\n",
    "        '''\n",
    "        add a a feature: \"cum_sum_order\"\n",
    "        cumulative spend for a customer\n",
    "        '''\n",
    "        columns_selection = ['customer_unique_id',\n",
    "                             'order_id',\n",
    "                             'total_order_value']\n",
    "        self.df = self.groupby_merging(columns_selection,\n",
    "                                       'customer_unique_id',\n",
    "                                       'total_order_value',\n",
    "                                       'cum_sum_order',\n",
    "                                       'sum',\n",
    "                                       drop=True)\n",
    "        return self.df\n",
    "\n",
    "    def review_title(self) -> pd.core.frame.DataFrame:\n",
    "        '''\n",
    "        modify feature: 'review_comment_message'\n",
    "        add the title to the 'review_comment_message'\n",
    "        '''\n",
    "        self.df[['review_comment_title',\n",
    "                 'review_comment_message']] = self.df[\n",
    "            ['review_comment_title',\n",
    "             'review_comment_message']].fillna('')\n",
    "        self.df['review_comment_message'] = self.df[\n",
    "                        'review_comment_message'] + self.df[\n",
    "                                        'review_comment_title']\n",
    "        self.df['review_comment_message'] = self.df[\n",
    "                                                    'review_comment_message'\n",
    "                                                    ].replace('', np.nan)\n",
    "        return self.df\n",
    "\n",
    "    def last_visit(self):\n",
    "        '''\n",
    "        add a feature: last_visit\n",
    "        indicate how many days from DATE_MAX to the last order\n",
    "        '''\n",
    "        self.df['timedelta'] = (pd.to_datetime(DATE_MAX) -\n",
    "                                self.df[\n",
    "                                    'order_purchase_timestamp'\n",
    "                                        ]) / np.timedelta64(1, 'D')\n",
    "        columns_selection = ['customer_unique_id', 'timedelta']\n",
    "        self.df = self.groupby_merging(columns_selection,\n",
    "                                       'customer_unique_id',\n",
    "                                       'timedelta',\n",
    "                                       'recently_order',\n",
    "                                       'max')\n",
    "        return self.df.drop(columns=['timedelta'], inplace=True)\n",
    "\n",
    "    def payment_type_pref(self):\n",
    "        '''\n",
    "        add a feature: payment_type_pref\n",
    "        '''\n",
    "        df_ = self.df[['customer_unique_id',\n",
    "                       'payment_value',\n",
    "                       'payment_type',\n",
    "                       'payment_installments']].drop_duplicates()\n",
    "        df_ = df_.groupby(['customer_unique_id', 'payment_type'],\n",
    "                          as_index=False).sum()\n",
    "        df_ = df_[['customer_unique_id',\n",
    "                   'payment_value',\n",
    "                   'payment_type']].groupby('customer_unique_id',\n",
    "                                            as_index=False).agg(list)\n",
    "        df_['payment_pref'] = df_.apply(lambda x: get_max(x), axis=1)\n",
    "        df_ = df_[['customer_unique_id', 'payment_pref']]\n",
    "        self.df = self.df.merge(df_, on='customer_unique_id', how='left')\n",
    "        return self.df\n",
    "\n",
    "    def normalisation(self, features_to_normalized, default=False):\n",
    "        '''if set to true, normalised data'''\n",
    "        if default:\n",
    "            for feature in features_to_normalized:\n",
    "                scaler = StandardScaler()\n",
    "                self.df[feature] = scaler.fit_transform(self.df[[feature]])\n",
    "        return self.df\n",
    "\n",
    "    def encoding_frequency(self, features_to_encode):\n",
    "        '''encode by frequency some features'''\n",
    "        for feature in features_to_encode:\n",
    "            new_col_name = feature + '_encode'\n",
    "            selection = self.df[['customer_unique_id', feature]]\n",
    "            to_encode = {item[0]: item[1] for\n",
    "                         item in selection[feature].value_counts().iteritems()}\n",
    "            selection[feature] = selection[\n",
    "                feature].apply(\n",
    "                lambda x: to_encode[x] / sum(to_encode.values()))\n",
    "            selection.rename(columns={feature: new_col_name}, inplace=True)\n",
    "            selection.drop_duplicates(inplace=True)\n",
    "            self.df = self.df.merge(selection, on='customer_unique_id')\n",
    "        return self.df\n",
    "\n",
    "    def remove_outliers(self, defautl=False):\n",
    "        '''remove outliers for mean_order_price\n",
    "        and recently_order\n",
    "        '''\n",
    "        quantile = self.df.mean_order_price.quantile(0.99)\n",
    "        self.df = self.df[self.df.mean_order_price < quantile]\n",
    "        self.df = self.df[self.df.recently_order < 800]\n",
    "        return self.df\n",
    "\n",
    "    def final_cleaning(self):\n",
    "        '''\n",
    "        drop columns without a real interest\n",
    "        drop duplicates: return a dataset with a row for one client\n",
    "        '''\n",
    "        no_interest = [\n",
    "            'order_id', 'customer_id', 'order_status',\n",
    "            'order_purchase_timestamp', 'review_id', 'review_score',\n",
    "            'review_comment_title', 'review_creation_date',\n",
    "            'payment_sequential', 'payment_type', 'order_item_id',\n",
    "            'product_id', 'seller_id', 'price', 'freight_value',\n",
    "            'customer_zip_code_prefix', 'customer_city',\n",
    "            'review_before_reception', 'mean_review_before_reception',\n",
    "            'total_order_value']\n",
    "        self.df.drop(columns=no_interest, inplace=True)\n",
    "        self.df.drop_duplicates(inplace=True)\n",
    "        return self.df\n",
    "\n"
   ]
  },
  {
   "cell_type": "code",
   "execution_count": 27,
   "id": "2cef4d55",
   "metadata": {},
   "outputs": [],
   "source": [
    "def main():\n",
    "    data = CreateDataset().go('./data/')\n",
    "    data = CleaningDataset(data)\n",
    "    data.drop_(TO_DROP)\n",
    "    data.converting_date(TO_DATE)\n",
    "    data.com_before_reception()\n",
    "    data.review_title()\n",
    "    data.number_commandes()\n",
    "    data.mean_review()\n",
    "    data.average_order_price()\n",
    "    data.cum_sum_order_price()\n",
    "    data.last_visit()\n",
    "    data.normalisation(['mean_order_price',\n",
    "                        'cum_sum_order',\n",
    "                        'order_number',\n",
    "                        'mean_review_score',\n",
    "                       'recently_order'],\n",
    "                       False)\n",
    "    data.encoding_frequency(['customer_state'])\n",
    "    data.final_cleaning()\n",
    "    return data"
   ]
  },
  {
   "cell_type": "code",
   "execution_count": 28,
   "id": "1c35a3b1",
   "metadata": {
    "scrolled": false
   },
   "outputs": [
    {
     "name": "stderr",
     "output_type": "stream",
     "text": [
      "/Users/maximedupouy/.pyenv/versions/3.8.6/envs/lewagon/lib/python3.8/site-packages/pandas/util/_decorators.py:311: SettingWithCopyWarning: \n",
      "A value is trying to be set on a copy of a slice from a DataFrame\n",
      "\n",
      "See the caveats in the documentation: https://pandas.pydata.org/pandas-docs/stable/user_guide/indexing.html#returning-a-view-versus-a-copy\n",
      "  return func(*args, **kwargs)\n",
      "/Users/maximedupouy/.pyenv/versions/3.8.6/envs/lewagon/lib/python3.8/site-packages/pandas/core/frame.py:3607: SettingWithCopyWarning: \n",
      "A value is trying to be set on a copy of a slice from a DataFrame.\n",
      "Try using .loc[row_indexer,col_indexer] = value instead\n",
      "\n",
      "See the caveats in the documentation: https://pandas.pydata.org/pandas-docs/stable/user_guide/indexing.html#returning-a-view-versus-a-copy\n",
      "  self._set_item(key, value)\n",
      "/Users/maximedupouy/.pyenv/versions/3.8.6/envs/lewagon/lib/python3.8/site-packages/pandas/core/frame.py:5034: SettingWithCopyWarning: \n",
      "A value is trying to be set on a copy of a slice from a DataFrame\n",
      "\n",
      "See the caveats in the documentation: https://pandas.pydata.org/pandas-docs/stable/user_guide/indexing.html#returning-a-view-versus-a-copy\n",
      "  return super().rename(\n"
     ]
    },
    {
     "data": {
      "text/html": [
       "<div>\n",
       "<style scoped>\n",
       "    .dataframe tbody tr th:only-of-type {\n",
       "        vertical-align: middle;\n",
       "    }\n",
       "\n",
       "    .dataframe tbody tr th {\n",
       "        vertical-align: top;\n",
       "    }\n",
       "\n",
       "    .dataframe thead th {\n",
       "        text-align: right;\n",
       "    }\n",
       "</style>\n",
       "<table border=\"1\" class=\"dataframe\">\n",
       "  <thead>\n",
       "    <tr style=\"text-align: right;\">\n",
       "      <th></th>\n",
       "      <th>order_delivered_customer_date</th>\n",
       "      <th>review_comment_message</th>\n",
       "      <th>payment_installments</th>\n",
       "      <th>payment_value</th>\n",
       "      <th>customer_unique_id</th>\n",
       "      <th>customer_state</th>\n",
       "      <th>number_of_orders</th>\n",
       "      <th>mean_review_score</th>\n",
       "      <th>mean_order_price</th>\n",
       "      <th>cum_sum_order</th>\n",
       "      <th>recently_order</th>\n",
       "      <th>customer_state_encode</th>\n",
       "    </tr>\n",
       "  </thead>\n",
       "  <tbody>\n",
       "    <tr>\n",
       "      <th>0</th>\n",
       "      <td>2017-10-10 21:25:13</td>\n",
       "      <td>Não testei o produto ainda, mas ele veio corre...</td>\n",
       "      <td>1.0</td>\n",
       "      <td>18.12</td>\n",
       "      <td>7c396fd4830fd04220f754e42b4e5bff</td>\n",
       "      <td>SP</td>\n",
       "      <td>2</td>\n",
       "      <td>5.0</td>\n",
       "      <td>41.41</td>\n",
       "      <td>82.82</td>\n",
       "      <td>482.523171</td>\n",
       "      <td>0.423539</td>\n",
       "    </tr>\n",
       "    <tr>\n",
       "      <th>1</th>\n",
       "      <td>2017-10-10 21:25:13</td>\n",
       "      <td>Não testei o produto ainda, mas ele veio corre...</td>\n",
       "      <td>1.0</td>\n",
       "      <td>18.12</td>\n",
       "      <td>7c396fd4830fd04220f754e42b4e5bff</td>\n",
       "      <td>SP</td>\n",
       "      <td>2</td>\n",
       "      <td>4.0</td>\n",
       "      <td>41.41</td>\n",
       "      <td>82.82</td>\n",
       "      <td>482.523171</td>\n",
       "      <td>0.423539</td>\n",
       "    </tr>\n",
       "    <tr>\n",
       "      <th>2</th>\n",
       "      <td>2017-10-10 21:25:13</td>\n",
       "      <td>Não testei o produto ainda, mas ele veio corre...</td>\n",
       "      <td>1.0</td>\n",
       "      <td>2.00</td>\n",
       "      <td>7c396fd4830fd04220f754e42b4e5bff</td>\n",
       "      <td>SP</td>\n",
       "      <td>2</td>\n",
       "      <td>5.0</td>\n",
       "      <td>41.41</td>\n",
       "      <td>82.82</td>\n",
       "      <td>482.523171</td>\n",
       "      <td>0.423539</td>\n",
       "    </tr>\n",
       "    <tr>\n",
       "      <th>3</th>\n",
       "      <td>2017-10-10 21:25:13</td>\n",
       "      <td>Não testei o produto ainda, mas ele veio corre...</td>\n",
       "      <td>1.0</td>\n",
       "      <td>2.00</td>\n",
       "      <td>7c396fd4830fd04220f754e42b4e5bff</td>\n",
       "      <td>SP</td>\n",
       "      <td>2</td>\n",
       "      <td>4.0</td>\n",
       "      <td>41.41</td>\n",
       "      <td>82.82</td>\n",
       "      <td>482.523171</td>\n",
       "      <td>0.423539</td>\n",
       "    </tr>\n",
       "    <tr>\n",
       "      <th>4</th>\n",
       "      <td>2017-10-10 21:25:13</td>\n",
       "      <td>Não testei o produto ainda, mas ele veio corre...</td>\n",
       "      <td>1.0</td>\n",
       "      <td>18.59</td>\n",
       "      <td>7c396fd4830fd04220f754e42b4e5bff</td>\n",
       "      <td>SP</td>\n",
       "      <td>2</td>\n",
       "      <td>5.0</td>\n",
       "      <td>41.41</td>\n",
       "      <td>82.82</td>\n",
       "      <td>482.523171</td>\n",
       "      <td>0.423539</td>\n",
       "    </tr>\n",
       "    <tr>\n",
       "      <th>...</th>\n",
       "      <td>...</td>\n",
       "      <td>...</td>\n",
       "      <td>...</td>\n",
       "      <td>...</td>\n",
       "      <td>...</td>\n",
       "      <td>...</td>\n",
       "      <td>...</td>\n",
       "      <td>...</td>\n",
       "      <td>...</td>\n",
       "      <td>...</td>\n",
       "      <td>...</td>\n",
       "      <td>...</td>\n",
       "    </tr>\n",
       "    <tr>\n",
       "      <th>126123</th>\n",
       "      <td>2017-03-17 15:08:01</td>\n",
       "      <td>NaN</td>\n",
       "      <td>3.0</td>\n",
       "      <td>85.08</td>\n",
       "      <td>6359f309b166b0196dbf7ad2ac62bb5a</td>\n",
       "      <td>SP</td>\n",
       "      <td>1</td>\n",
       "      <td>5.0</td>\n",
       "      <td>85.08</td>\n",
       "      <td>85.08</td>\n",
       "      <td>661.587442</td>\n",
       "      <td>0.423539</td>\n",
       "    </tr>\n",
       "    <tr>\n",
       "      <th>126124</th>\n",
       "      <td>2018-02-28 17:37:56</td>\n",
       "      <td>So uma peça que veio rachado mas tudo bem rs</td>\n",
       "      <td>3.0</td>\n",
       "      <td>195.00</td>\n",
       "      <td>da62f9e57a76d978d02ab5362c509660</td>\n",
       "      <td>SP</td>\n",
       "      <td>1</td>\n",
       "      <td>4.0</td>\n",
       "      <td>195.00</td>\n",
       "      <td>195.00</td>\n",
       "      <td>327.459051</td>\n",
       "      <td>0.423539</td>\n",
       "    </tr>\n",
       "    <tr>\n",
       "      <th>126125</th>\n",
       "      <td>2017-09-21 11:24:17</td>\n",
       "      <td>Foi entregue antes do prazo.</td>\n",
       "      <td>5.0</td>\n",
       "      <td>271.01</td>\n",
       "      <td>737520a9aad80b3fbbdad19b66b37b30</td>\n",
       "      <td>BA</td>\n",
       "      <td>1</td>\n",
       "      <td>5.0</td>\n",
       "      <td>271.01</td>\n",
       "      <td>271.01</td>\n",
       "      <td>490.384225</td>\n",
       "      <td>0.033932</td>\n",
       "    </tr>\n",
       "    <tr>\n",
       "      <th>126126</th>\n",
       "      <td>2018-01-25 23:32:54</td>\n",
       "      <td>Foi entregue somente 1. Quero saber do outro p...</td>\n",
       "      <td>4.0</td>\n",
       "      <td>441.16</td>\n",
       "      <td>5097a5312c8b157bb7be58ae360ef43c</td>\n",
       "      <td>RJ</td>\n",
       "      <td>1</td>\n",
       "      <td>2.0</td>\n",
       "      <td>441.16</td>\n",
       "      <td>441.16</td>\n",
       "      <td>356.105243</td>\n",
       "      <td>0.129691</td>\n",
       "    </tr>\n",
       "    <tr>\n",
       "      <th>126128</th>\n",
       "      <td>2018-03-16 13:08:30</td>\n",
       "      <td>NaN</td>\n",
       "      <td>1.0</td>\n",
       "      <td>86.86</td>\n",
       "      <td>60350aa974b26ff12caad89e55993bd6</td>\n",
       "      <td>PR</td>\n",
       "      <td>1</td>\n",
       "      <td>5.0</td>\n",
       "      <td>86.86</td>\n",
       "      <td>86.86</td>\n",
       "      <td>297.126736</td>\n",
       "      <td>0.050545</td>\n",
       "    </tr>\n",
       "  </tbody>\n",
       "</table>\n",
       "<p>103061 rows × 12 columns</p>\n",
       "</div>"
      ],
      "text/plain": [
       "       order_delivered_customer_date  \\\n",
       "0                2017-10-10 21:25:13   \n",
       "1                2017-10-10 21:25:13   \n",
       "2                2017-10-10 21:25:13   \n",
       "3                2017-10-10 21:25:13   \n",
       "4                2017-10-10 21:25:13   \n",
       "...                              ...   \n",
       "126123           2017-03-17 15:08:01   \n",
       "126124           2018-02-28 17:37:56   \n",
       "126125           2017-09-21 11:24:17   \n",
       "126126           2018-01-25 23:32:54   \n",
       "126128           2018-03-16 13:08:30   \n",
       "\n",
       "                                   review_comment_message  \\\n",
       "0       Não testei o produto ainda, mas ele veio corre...   \n",
       "1       Não testei o produto ainda, mas ele veio corre...   \n",
       "2       Não testei o produto ainda, mas ele veio corre...   \n",
       "3       Não testei o produto ainda, mas ele veio corre...   \n",
       "4       Não testei o produto ainda, mas ele veio corre...   \n",
       "...                                                   ...   \n",
       "126123                                                NaN   \n",
       "126124       So uma peça que veio rachado mas tudo bem rs   \n",
       "126125                       Foi entregue antes do prazo.   \n",
       "126126  Foi entregue somente 1. Quero saber do outro p...   \n",
       "126128                                                NaN   \n",
       "\n",
       "        payment_installments  payment_value                customer_unique_id  \\\n",
       "0                        1.0          18.12  7c396fd4830fd04220f754e42b4e5bff   \n",
       "1                        1.0          18.12  7c396fd4830fd04220f754e42b4e5bff   \n",
       "2                        1.0           2.00  7c396fd4830fd04220f754e42b4e5bff   \n",
       "3                        1.0           2.00  7c396fd4830fd04220f754e42b4e5bff   \n",
       "4                        1.0          18.59  7c396fd4830fd04220f754e42b4e5bff   \n",
       "...                      ...            ...                               ...   \n",
       "126123                   3.0          85.08  6359f309b166b0196dbf7ad2ac62bb5a   \n",
       "126124                   3.0         195.00  da62f9e57a76d978d02ab5362c509660   \n",
       "126125                   5.0         271.01  737520a9aad80b3fbbdad19b66b37b30   \n",
       "126126                   4.0         441.16  5097a5312c8b157bb7be58ae360ef43c   \n",
       "126128                   1.0          86.86  60350aa974b26ff12caad89e55993bd6   \n",
       "\n",
       "       customer_state  number_of_orders  mean_review_score  mean_order_price  \\\n",
       "0                  SP                 2                5.0             41.41   \n",
       "1                  SP                 2                4.0             41.41   \n",
       "2                  SP                 2                5.0             41.41   \n",
       "3                  SP                 2                4.0             41.41   \n",
       "4                  SP                 2                5.0             41.41   \n",
       "...               ...               ...                ...               ...   \n",
       "126123             SP                 1                5.0             85.08   \n",
       "126124             SP                 1                4.0            195.00   \n",
       "126125             BA                 1                5.0            271.01   \n",
       "126126             RJ                 1                2.0            441.16   \n",
       "126128             PR                 1                5.0             86.86   \n",
       "\n",
       "        cum_sum_order  recently_order  customer_state_encode  \n",
       "0               82.82      482.523171               0.423539  \n",
       "1               82.82      482.523171               0.423539  \n",
       "2               82.82      482.523171               0.423539  \n",
       "3               82.82      482.523171               0.423539  \n",
       "4               82.82      482.523171               0.423539  \n",
       "...               ...             ...                    ...  \n",
       "126123          85.08      661.587442               0.423539  \n",
       "126124         195.00      327.459051               0.423539  \n",
       "126125         271.01      490.384225               0.033932  \n",
       "126126         441.16      356.105243               0.129691  \n",
       "126128          86.86      297.126736               0.050545  \n",
       "\n",
       "[103061 rows x 12 columns]"
      ]
     },
     "execution_count": 28,
     "metadata": {},
     "output_type": "execute_result"
    }
   ],
   "source": [
    "data = main()\n",
    "data.df"
   ]
  },
  {
   "cell_type": "code",
   "execution_count": 29,
   "id": "ab077e60",
   "metadata": {},
   "outputs": [
    {
     "data": {
      "text/plain": [
       "True"
      ]
     },
     "execution_count": 29,
     "metadata": {},
     "output_type": "execute_result"
    }
   ],
   "source": [
    "# verification que je ne perdre pas de client en cours de route !\n",
    "len(df[\n",
    "    df.order_status == 'delivered'\n",
    "]['customer_unique_id'].unique()) == len(data.df.customer_unique_id.unique())"
   ]
  },
  {
   "cell_type": "markdown",
   "id": "1d4998d7",
   "metadata": {},
   "source": [
    "# Data analysis 2"
   ]
  },
  {
   "cell_type": "code",
   "execution_count": 30,
   "id": "ebb766c9",
   "metadata": {},
   "outputs": [
    {
     "data": {
      "image/png": "[encoded data removed]",
      "text/plain": [
       "<Figure size 432x288 with 1 Axes>"
      ]
     },
     "metadata": {
      "needs_background": "light"
     },
     "output_type": "display_data"
    },
    {
     "data": {
      "image/png": "[encoded data removed]",
      "text/plain": [
       "<Figure size 432x288 with 1 Axes>"
      ]
     },
     "metadata": {
      "needs_background": "light"
     },
     "output_type": "display_data"
    },
    {
     "data": {
      "image/png": "[encoded data removed]",
      "text/plain": [
       "<Figure size 432x288 with 1 Axes>"
      ]
     },
     "metadata": {
      "needs_background": "light"
     },
     "output_type": "display_data"
    },
    {
     "data": {
      "image/png": "[encoded data removed]",
      "text/plain": [
       "<Figure size 432x288 with 1 Axes>"
      ]
     },
     "metadata": {
      "needs_background": "light"
     },
     "output_type": "display_data"
    },
    {
     "data": {
      "image/png": "[encoded data removed]",
      "text/plain": [
       "<Figure size 432x288 with 1 Axes>"
      ]
     },
     "metadata": {
      "needs_background": "light"
     },
     "output_type": "display_data"
    }
   ],
   "source": [
    "df_data_analysis = data.df[['customer_unique_id',\n",
    "                            'recently_order',\n",
    "                            'mean_order_price',\n",
    "                            'number_of_orders',\n",
    "                            'customer_state_encode',\n",
    "                            'mean_review_score']].drop_duplicates()\n",
    "for col in ['recently_order',\n",
    "            'mean_order_price',\n",
    "            'number_of_orders',\n",
    "            'customer_state_encode',\n",
    "            'mean_review_score']:\n",
    "    a = sns.histplot(df_data_analysis[col])\n",
    "    plt.show(a)"
   ]
  },
  {
   "cell_type": "markdown",
   "id": "a51e2ef2",
   "metadata": {},
   "source": [
    "Il semble y avoir des données abérantes :\n",
    "- sur la recency : quelques données sont séparés -> à supprimer\n",
    "- la colonnes mean_order_price (monetary) semble écraser : supprimer la/les valeurs dans le 99% percentiles\n",
    "--> focntion remove outliers dans class\n"
   ]
  },
  {
   "cell_type": "code",
   "execution_count": 31,
   "id": "88e3e3a5",
   "metadata": {},
   "outputs": [
    {
     "data": {
      "text/html": [
       "<div>\n",
       "<style scoped>\n",
       "    .dataframe tbody tr th:only-of-type {\n",
       "        vertical-align: middle;\n",
       "    }\n",
       "\n",
       "    .dataframe tbody tr th {\n",
       "        vertical-align: top;\n",
       "    }\n",
       "\n",
       "    .dataframe thead th {\n",
       "        text-align: right;\n",
       "    }\n",
       "</style>\n",
       "<table border=\"1\" class=\"dataframe\">\n",
       "  <thead>\n",
       "    <tr style=\"text-align: right;\">\n",
       "      <th></th>\n",
       "      <th>order_delivered_customer_date</th>\n",
       "      <th>review_comment_message</th>\n",
       "      <th>payment_installments</th>\n",
       "      <th>payment_value</th>\n",
       "      <th>customer_unique_id</th>\n",
       "      <th>customer_state</th>\n",
       "      <th>number_of_orders</th>\n",
       "      <th>mean_review_score</th>\n",
       "      <th>mean_order_price</th>\n",
       "      <th>cum_sum_order</th>\n",
       "      <th>recently_order</th>\n",
       "      <th>customer_state_encode</th>\n",
       "    </tr>\n",
       "  </thead>\n",
       "  <tbody>\n",
       "    <tr>\n",
       "      <th>0</th>\n",
       "      <td>2017-10-10 21:25:13</td>\n",
       "      <td>Não testei o produto ainda, mas ele veio corre...</td>\n",
       "      <td>1.0</td>\n",
       "      <td>18.12</td>\n",
       "      <td>7c396fd4830fd04220f754e42b4e5bff</td>\n",
       "      <td>SP</td>\n",
       "      <td>2</td>\n",
       "      <td>5.0</td>\n",
       "      <td>41.41</td>\n",
       "      <td>82.82</td>\n",
       "      <td>482.523171</td>\n",
       "      <td>0.423539</td>\n",
       "    </tr>\n",
       "    <tr>\n",
       "      <th>1</th>\n",
       "      <td>2017-10-10 21:25:13</td>\n",
       "      <td>Não testei o produto ainda, mas ele veio corre...</td>\n",
       "      <td>1.0</td>\n",
       "      <td>18.12</td>\n",
       "      <td>7c396fd4830fd04220f754e42b4e5bff</td>\n",
       "      <td>SP</td>\n",
       "      <td>2</td>\n",
       "      <td>4.0</td>\n",
       "      <td>41.41</td>\n",
       "      <td>82.82</td>\n",
       "      <td>482.523171</td>\n",
       "      <td>0.423539</td>\n",
       "    </tr>\n",
       "    <tr>\n",
       "      <th>2</th>\n",
       "      <td>2017-10-10 21:25:13</td>\n",
       "      <td>Não testei o produto ainda, mas ele veio corre...</td>\n",
       "      <td>1.0</td>\n",
       "      <td>2.00</td>\n",
       "      <td>7c396fd4830fd04220f754e42b4e5bff</td>\n",
       "      <td>SP</td>\n",
       "      <td>2</td>\n",
       "      <td>5.0</td>\n",
       "      <td>41.41</td>\n",
       "      <td>82.82</td>\n",
       "      <td>482.523171</td>\n",
       "      <td>0.423539</td>\n",
       "    </tr>\n",
       "    <tr>\n",
       "      <th>3</th>\n",
       "      <td>2017-10-10 21:25:13</td>\n",
       "      <td>Não testei o produto ainda, mas ele veio corre...</td>\n",
       "      <td>1.0</td>\n",
       "      <td>2.00</td>\n",
       "      <td>7c396fd4830fd04220f754e42b4e5bff</td>\n",
       "      <td>SP</td>\n",
       "      <td>2</td>\n",
       "      <td>4.0</td>\n",
       "      <td>41.41</td>\n",
       "      <td>82.82</td>\n",
       "      <td>482.523171</td>\n",
       "      <td>0.423539</td>\n",
       "    </tr>\n",
       "    <tr>\n",
       "      <th>4</th>\n",
       "      <td>2017-10-10 21:25:13</td>\n",
       "      <td>Não testei o produto ainda, mas ele veio corre...</td>\n",
       "      <td>1.0</td>\n",
       "      <td>18.59</td>\n",
       "      <td>7c396fd4830fd04220f754e42b4e5bff</td>\n",
       "      <td>SP</td>\n",
       "      <td>2</td>\n",
       "      <td>5.0</td>\n",
       "      <td>41.41</td>\n",
       "      <td>82.82</td>\n",
       "      <td>482.523171</td>\n",
       "      <td>0.423539</td>\n",
       "    </tr>\n",
       "    <tr>\n",
       "      <th>...</th>\n",
       "      <td>...</td>\n",
       "      <td>...</td>\n",
       "      <td>...</td>\n",
       "      <td>...</td>\n",
       "      <td>...</td>\n",
       "      <td>...</td>\n",
       "      <td>...</td>\n",
       "      <td>...</td>\n",
       "      <td>...</td>\n",
       "      <td>...</td>\n",
       "      <td>...</td>\n",
       "      <td>...</td>\n",
       "    </tr>\n",
       "    <tr>\n",
       "      <th>126123</th>\n",
       "      <td>2017-03-17 15:08:01</td>\n",
       "      <td>NaN</td>\n",
       "      <td>3.0</td>\n",
       "      <td>85.08</td>\n",
       "      <td>6359f309b166b0196dbf7ad2ac62bb5a</td>\n",
       "      <td>SP</td>\n",
       "      <td>1</td>\n",
       "      <td>5.0</td>\n",
       "      <td>85.08</td>\n",
       "      <td>85.08</td>\n",
       "      <td>661.587442</td>\n",
       "      <td>0.423539</td>\n",
       "    </tr>\n",
       "    <tr>\n",
       "      <th>126124</th>\n",
       "      <td>2018-02-28 17:37:56</td>\n",
       "      <td>So uma peça que veio rachado mas tudo bem rs</td>\n",
       "      <td>3.0</td>\n",
       "      <td>195.00</td>\n",
       "      <td>da62f9e57a76d978d02ab5362c509660</td>\n",
       "      <td>SP</td>\n",
       "      <td>1</td>\n",
       "      <td>4.0</td>\n",
       "      <td>195.00</td>\n",
       "      <td>195.00</td>\n",
       "      <td>327.459051</td>\n",
       "      <td>0.423539</td>\n",
       "    </tr>\n",
       "    <tr>\n",
       "      <th>126125</th>\n",
       "      <td>2017-09-21 11:24:17</td>\n",
       "      <td>Foi entregue antes do prazo.</td>\n",
       "      <td>5.0</td>\n",
       "      <td>271.01</td>\n",
       "      <td>737520a9aad80b3fbbdad19b66b37b30</td>\n",
       "      <td>BA</td>\n",
       "      <td>1</td>\n",
       "      <td>5.0</td>\n",
       "      <td>271.01</td>\n",
       "      <td>271.01</td>\n",
       "      <td>490.384225</td>\n",
       "      <td>0.033932</td>\n",
       "    </tr>\n",
       "    <tr>\n",
       "      <th>126126</th>\n",
       "      <td>2018-01-25 23:32:54</td>\n",
       "      <td>Foi entregue somente 1. Quero saber do outro p...</td>\n",
       "      <td>4.0</td>\n",
       "      <td>441.16</td>\n",
       "      <td>5097a5312c8b157bb7be58ae360ef43c</td>\n",
       "      <td>RJ</td>\n",
       "      <td>1</td>\n",
       "      <td>2.0</td>\n",
       "      <td>441.16</td>\n",
       "      <td>441.16</td>\n",
       "      <td>356.105243</td>\n",
       "      <td>0.129691</td>\n",
       "    </tr>\n",
       "    <tr>\n",
       "      <th>126128</th>\n",
       "      <td>2018-03-16 13:08:30</td>\n",
       "      <td>NaN</td>\n",
       "      <td>1.0</td>\n",
       "      <td>86.86</td>\n",
       "      <td>60350aa974b26ff12caad89e55993bd6</td>\n",
       "      <td>PR</td>\n",
       "      <td>1</td>\n",
       "      <td>5.0</td>\n",
       "      <td>86.86</td>\n",
       "      <td>86.86</td>\n",
       "      <td>297.126736</td>\n",
       "      <td>0.050545</td>\n",
       "    </tr>\n",
       "  </tbody>\n",
       "</table>\n",
       "<p>101722 rows × 12 columns</p>\n",
       "</div>"
      ],
      "text/plain": [
       "       order_delivered_customer_date  \\\n",
       "0                2017-10-10 21:25:13   \n",
       "1                2017-10-10 21:25:13   \n",
       "2                2017-10-10 21:25:13   \n",
       "3                2017-10-10 21:25:13   \n",
       "4                2017-10-10 21:25:13   \n",
       "...                              ...   \n",
       "126123           2017-03-17 15:08:01   \n",
       "126124           2018-02-28 17:37:56   \n",
       "126125           2017-09-21 11:24:17   \n",
       "126126           2018-01-25 23:32:54   \n",
       "126128           2018-03-16 13:08:30   \n",
       "\n",
       "                                   review_comment_message  \\\n",
       "0       Não testei o produto ainda, mas ele veio corre...   \n",
       "1       Não testei o produto ainda, mas ele veio corre...   \n",
       "2       Não testei o produto ainda, mas ele veio corre...   \n",
       "3       Não testei o produto ainda, mas ele veio corre...   \n",
       "4       Não testei o produto ainda, mas ele veio corre...   \n",
       "...                                                   ...   \n",
       "126123                                                NaN   \n",
       "126124       So uma peça que veio rachado mas tudo bem rs   \n",
       "126125                       Foi entregue antes do prazo.   \n",
       "126126  Foi entregue somente 1. Quero saber do outro p...   \n",
       "126128                                                NaN   \n",
       "\n",
       "        payment_installments  payment_value                customer_unique_id  \\\n",
       "0                        1.0          18.12  7c396fd4830fd04220f754e42b4e5bff   \n",
       "1                        1.0          18.12  7c396fd4830fd04220f754e42b4e5bff   \n",
       "2                        1.0           2.00  7c396fd4830fd04220f754e42b4e5bff   \n",
       "3                        1.0           2.00  7c396fd4830fd04220f754e42b4e5bff   \n",
       "4                        1.0          18.59  7c396fd4830fd04220f754e42b4e5bff   \n",
       "...                      ...            ...                               ...   \n",
       "126123                   3.0          85.08  6359f309b166b0196dbf7ad2ac62bb5a   \n",
       "126124                   3.0         195.00  da62f9e57a76d978d02ab5362c509660   \n",
       "126125                   5.0         271.01  737520a9aad80b3fbbdad19b66b37b30   \n",
       "126126                   4.0         441.16  5097a5312c8b157bb7be58ae360ef43c   \n",
       "126128                   1.0          86.86  60350aa974b26ff12caad89e55993bd6   \n",
       "\n",
       "       customer_state  number_of_orders  mean_review_score  mean_order_price  \\\n",
       "0                  SP                 2                5.0             41.41   \n",
       "1                  SP                 2                4.0             41.41   \n",
       "2                  SP                 2                5.0             41.41   \n",
       "3                  SP                 2                4.0             41.41   \n",
       "4                  SP                 2                5.0             41.41   \n",
       "...               ...               ...                ...               ...   \n",
       "126123             SP                 1                5.0             85.08   \n",
       "126124             SP                 1                4.0            195.00   \n",
       "126125             BA                 1                5.0            271.01   \n",
       "126126             RJ                 1                2.0            441.16   \n",
       "126128             PR                 1                5.0             86.86   \n",
       "\n",
       "        cum_sum_order  recently_order  customer_state_encode  \n",
       "0               82.82      482.523171               0.423539  \n",
       "1               82.82      482.523171               0.423539  \n",
       "2               82.82      482.523171               0.423539  \n",
       "3               82.82      482.523171               0.423539  \n",
       "4               82.82      482.523171               0.423539  \n",
       "...               ...             ...                    ...  \n",
       "126123          85.08      661.587442               0.423539  \n",
       "126124         195.00      327.459051               0.423539  \n",
       "126125         271.01      490.384225               0.033932  \n",
       "126126         441.16      356.105243               0.129691  \n",
       "126128          86.86      297.126736               0.050545  \n",
       "\n",
       "[101722 rows x 12 columns]"
      ]
     },
     "execution_count": 31,
     "metadata": {},
     "output_type": "execute_result"
    }
   ],
   "source": [
    "data.remove_outliers(True)"
   ]
  },
  {
   "cell_type": "code",
   "execution_count": 32,
   "id": "45c77e75",
   "metadata": {},
   "outputs": [
    {
     "data": {
      "image/png": "[encoded data removed]",
      "text/plain": [
       "<Figure size 432x288 with 1 Axes>"
      ]
     },
     "metadata": {
      "needs_background": "light"
     },
     "output_type": "display_data"
    },
    {
     "data": {
      "image/png": "[encoded data removed]",
      "text/plain": [
       "<Figure size 432x288 with 1 Axes>"
      ]
     },
     "metadata": {
      "needs_background": "light"
     },
     "output_type": "display_data"
    },
    {
     "data": {
      "image/png": "[encoded data removed]",
      "text/plain": [
       "<Figure size 432x288 with 1 Axes>"
      ]
     },
     "metadata": {
      "needs_background": "light"
     },
     "output_type": "display_data"
    },
    {
     "data": {
      "image/png": "[encoded data removed]",
      "text/plain": [
       "<Figure size 432x288 with 1 Axes>"
      ]
     },
     "metadata": {
      "needs_background": "light"
     },
     "output_type": "display_data"
    },
    {
     "data": {
      "image/png": "[encoded data removed]",
      "text/plain": [
       "<Figure size 432x288 with 1 Axes>"
      ]
     },
     "metadata": {
      "needs_background": "light"
     },
     "output_type": "display_data"
    },
    {
     "data": {
      "image/png": "[encoded data removed]",
      "text/plain": [
       "<Figure size 432x288 with 1 Axes>"
      ]
     },
     "metadata": {
      "needs_background": "light"
     },
     "output_type": "display_data"
    }
   ],
   "source": [
    "df_data_analysis = data.df[['customer_unique_id',\n",
    "                            'recently_order',\n",
    "                            'mean_order_price',\n",
    "                            'number_of_orders',\n",
    "                            'cum_sum_order',\n",
    "                            'customer_state_encode',\n",
    "                            'mean_review_score']].drop_duplicates()\n",
    "for col in ['recently_order',\n",
    "            'mean_order_price',\n",
    "            'number_of_orders',\n",
    "            'customer_state_encode',\n",
    "            'cum_sum_order',\n",
    "            'mean_review_score']:\n",
    "    a = sns.histplot(df_data_analysis[col])\n",
    "    plt.show(a)"
   ]
  },
  {
   "cell_type": "code",
   "execution_count": 33,
   "id": "93135fc9",
   "metadata": {},
   "outputs": [],
   "source": [
    "df_clean = data.df[['customer_unique_id',\n",
    "                    'recently_order',\n",
    "                    'mean_order_price',\n",
    "                    'cum_sum_order',\n",
    "                    'number_of_orders',\n",
    "                    'customer_state_encode',\n",
    "                   'mean_review_score']].drop_duplicates()"
   ]
  },
  {
   "cell_type": "code",
   "execution_count": 34,
   "id": "56c934f7",
   "metadata": {},
   "outputs": [
    {
     "data": {
      "text/plain": [
       "<AxesSubplot:>"
      ]
     },
     "execution_count": 34,
     "metadata": {},
     "output_type": "execute_result"
    },
    {
     "data": {
      "image/png": "[encoded data removed]",
      "text/plain": [
       "<Figure size 864x864 with 2 Axes>"
      ]
     },
     "metadata": {
      "needs_background": "light"
     },
     "output_type": "display_data"
    }
   ],
   "source": [
    "plt.figure(figsize=(12, 12))\n",
    "sns.heatmap(df_clean.corr(), annot=True)"
   ]
  },
  {
   "cell_type": "code",
   "execution_count": 35,
   "id": "f78fbebb",
   "metadata": {},
   "outputs": [],
   "source": [
    "# cumsum et mean_order_price sont très corrélés, ce qui parait logique vu\n",
    "# que seul 3% des clients ont fait plus d'une commande\n",
    "# j'enleve donc mean_order_price\n",
    "df_clean.drop(columns=['mean_order_price'], inplace=True)"
   ]
  },
  {
   "cell_type": "code",
   "execution_count": 36,
   "id": "ee879789",
   "metadata": {},
   "outputs": [],
   "source": [
    "df_clean.to_csv('./df_clean.csv')"
   ]
  },
  {
   "cell_type": "code",
   "execution_count": 42,
   "id": "825aac12",
   "metadata": {},
   "outputs": [],
   "source": [
    "data_ari = data.df.copy()\n",
    "data_ari.drop(columns=['customer_state_encode'], inplace=True)"
   ]
  },
  {
   "cell_type": "code",
   "execution_count": 38,
   "id": "30ae400a",
   "metadata": {},
   "outputs": [],
   "source": [
    "data_ari.to_csv('./data_ari.csv')"
   ]
  }
 ],
 "metadata": {
  "kernelspec": {
   "display_name": "Python 3 (ipykernel)",
   "language": "python",
   "name": "python3"
  },
  "language_info": {
   "codemirror_mode": {
    "name": "ipython",
    "version": 3
   },
   "file_extension": ".py",
   "mimetype": "text/x-python",
   "name": "python",
   "nbconvert_exporter": "python",
   "pygments_lexer": "ipython3",
   "version": "3.8.6"
  },
  "toc": {
   "base_numbering": 1,
   "nav_menu": {},
   "number_sections": true,
   "sideBar": true,
   "skip_h1_title": false,
   "title_cell": "Table of Contents",
   "title_sidebar": "Contents",
   "toc_cell": false,
   "toc_position": {},
   "toc_section_display": true,
   "toc_window_display": false
  }
 },
 "nbformat": 4,
 "nbformat_minor": 5
}
