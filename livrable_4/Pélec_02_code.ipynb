{
 "cells": [
  {
   "cell_type": "markdown",
   "id": "f8f0f506",
   "metadata": {},
   "source": [
    "# Import"
   ]
  },
  {
   "cell_type": "code",
   "execution_count": 1,
   "id": "5cb0e64b",
   "metadata": {},
   "outputs": [],
   "source": [
    "import pandas as pd\n",
    "import numpy as np\n",
    "import matplotlib.pyplot as plt\n",
    "import seaborn as sns\n",
    "from scipy import stats\n",
    "from sklearn.dummy import DummyRegressor\n",
    "from sklearn.model_selection import train_test_split\n",
    "from sklearn.metrics import mean_squared_error, r2_score, median_absolute_error, mean_absolute_percentage_error\n",
    "from sklearn.model_selection import cross_validate\n",
    "from sklearn.model_selection import GridSearchCV\n",
    "from scipy.special import inv_boxcox"
   ]
  },
  {
   "cell_type": "markdown",
   "id": "8afe6947",
   "metadata": {},
   "source": [
    "# Link / objectives"
   ]
  },
  {
   "cell_type": "markdown",
   "id": "f58c059e",
   "metadata": {},
   "source": [
    "Energy star : https://www.energystar.gov/buildings/benchmark/analyze_benchmarking_results"
   ]
  },
  {
   "cell_type": "markdown",
   "id": "075f8ca1",
   "metadata": {},
   "source": [
    "Problématique de la ville de Seattle\n",
    "Des relevés minutieux ont été effectués par vos agents en __2015 et en 2016__. Cependant, ces relevés sont coûteux à obtenir, et à partir de ceux déjà réalisés, vous voulez tenter de prédire les émissions de CO2 et la consommation totale d’énergie de bâtiments pour lesquels elles n’ont pas encore été mesurées.\n",
    "\n",
    "Votre prédiction se basera sur les données déclaratives du permis d'exploitation commerciale (taille et usage des bâtiments, mention de travaux récents, date de construction..)\n",
    "\n",
    "Vous cherchez également à évaluer l’intérêt de __l’\"ENERGY STAR Score\"__ pour la prédiction d’émissions, qui est fastidieux à calculer avec l’approche utilisée actuellement par votre équipe.\n",
    "\n",
    "Votre mission:\n",
    "\n",
    "- __Réaliser une courte analyse exploratoire.__\n",
    "- __Tester différents modèles de prédiction afin de répondre au mieux à la problématique.__\\\n",
    "\n",
    "\n",
    "Avant de quitter la salle de brief, Douglas, le project lead, vous donne quelques pistes, et erreurs à éviter :\n",
    "\n",
    "- L’objectif est de te passer des relevés de consommation annuels (attention à la fuite de données), mais rien ne t'interdit d’en déduire des variables plus simples (nature et proportions des sources d’énergie utilisées). \n",
    "\n",
    "- Fais bien attention au traitement des différentes variables, à la fois pour trouver de nouvelles informations (peut-on déduire des choses intéressantes d’une simple adresse ?) et optimiser les performances en appliquant des transformations simples aux variables (normalisation, passage au log, etc.).\n",
    "\n",
    "- Mets en place une évaluation rigoureuse des performances de la régression, et optimise les hyperparamètres et le choix d’algorithme de ML à l’aide d’une validation croisée."
   ]
  },
  {
   "cell_type": "markdown",
   "id": "3abed921",
   "metadata": {},
   "source": [
    "# Load and clean"
   ]
  },
  {
   "cell_type": "code",
   "execution_count": 2,
   "id": "4a4125df",
   "metadata": {},
   "outputs": [],
   "source": [
    "df = pd.read_csv('./dataframe_clean_groupby.csv', index_col=0)"
   ]
  },
  {
   "cell_type": "markdown",
   "id": "4ea4fe3f",
   "metadata": {},
   "source": [
    "# Site energy use prediction"
   ]
  },
  {
   "cell_type": "markdown",
   "id": "a7f88853",
   "metadata": {},
   "source": [
    "## Fonctions"
   ]
  },
  {
   "cell_type": "code",
   "execution_count": 3,
   "id": "fd0c71d3",
   "metadata": {},
   "outputs": [],
   "source": [
    "def grid_search(model, grid, scoring, X,y):\n",
    "    search = GridSearchCV(model, grid,\n",
    "                           scoring = scoring, n_jobs=-1)\n",
    "    search.fit(X,y)\n",
    "    return search.best_score_, search.best_params_, search.best_estimator_"
   ]
  },
  {
   "cell_type": "code",
   "execution_count": 4,
   "id": "f11b9c7b",
   "metadata": {},
   "outputs": [],
   "source": [
    "#cv scoring\n",
    "scoring=['r2', 'neg_mean_absolute_error', 'neg_root_mean_squared_error']\n",
    "\n",
    "def training(model, X, y, cv=5, scoring=scoring):\n",
    "    res = cross_validate(model, X, y, cv = 5, scoring=scoring)\n",
    "    scores = {\n",
    "    'time': round(res['fit_time'].mean(),2), \n",
    "    'MAE' : round(res['test_neg_mean_absolute_error'].mean(), 2), \n",
    "    'RMSE' : round(res['test_neg_root_mean_squared_error'].mean(),2),\n",
    "    'r2': round(res['test_r2'].mean(),2)\n",
    "    }\n",
    "    return scores"
   ]
  },
  {
   "cell_type": "code",
   "execution_count": 5,
   "id": "da8c6b94",
   "metadata": {},
   "outputs": [],
   "source": [
    "from sklearn.model_selection import learning_curve\n",
    "\n",
    "def learning_curves(estimator, X, y, train_size, cv=5):\n",
    "    '''Take :\n",
    "    - estimator = model\n",
    "    - X=data\n",
    "    - y=target\n",
    "    - train_size = range for testing (ex : [25,50,75,100,250,500,750,1000]\n",
    "    -cv = cross validation\n",
    "    '''\n",
    "    train_sizes, train_scores, test_scores= learning_curve(estimator, X, y, train_sizes=train_size, cv=5)\n",
    "    train_scores_mean = np.mean(train_scores, axis=1)\n",
    "    test_scores_mean = np.mean(test_scores, axis=1)\n",
    "    plt.plot(train_sizes, train_scores_mean, label = 'Training score')\n",
    "    plt.plot(train_sizes, test_scores_mean, label = 'Cross val score')\n",
    "    plt.ylabel('r2 score', fontsize = 14)\n",
    "    plt.xlabel('Training set size', fontsize = 14)\n",
    "    plt.title('Learning curves', fontsize = 18, y = 1.03)\n",
    "    plt.legend()"
   ]
  },
  {
   "cell_type": "code",
   "execution_count": 6,
   "id": "2209e6c0",
   "metadata": {},
   "outputs": [],
   "source": [
    "def adjusted_r_squarred(r_squarred, X, y):\n",
    "    return 1-(1-r_squarred)*(len(y)-1)/(len(y)-X.shape[1]-1)\n",
    "\n",
    "def calcul_mdape(y_true, y_pred):\n",
    "    return np.median((np.abs(np.subtract(y_true, y_pred)/ y_true))) * 100"
   ]
  },
  {
   "cell_type": "markdown",
   "id": "880ec6bb",
   "metadata": {},
   "source": [
    "## Dernier ajustements"
   ]
  },
  {
   "cell_type": "code",
   "execution_count": 200,
   "id": "bcf1ae2a",
   "metadata": {},
   "outputs": [],
   "source": [
    "df_energy = df.copy()"
   ]
  },
  {
   "cell_type": "code",
   "execution_count": 201,
   "id": "9580d380",
   "metadata": {},
   "outputs": [],
   "source": [
    "#df_energy=df_energy[df_energy['SiteEnergyUse(kBtu)']>0]\n",
    "#df_energy = df_energy[df_energy['SiteEnergyUse(kBtu)']<df_energy['SiteEnergyUse(kBtu)'].max()]\n",
    "df_energy=df_energy.drop(columns=['Latitude', 'Longitude', 'OSEBuildingID'])"
   ]
  },
  {
   "cell_type": "code",
   "execution_count": 202,
   "id": "3fce0f6b",
   "metadata": {},
   "outputs": [],
   "source": [
    "# https://towardsdatascience.com/box-cox-transformation-explained-51d745e34203\n",
    "def box_cot(df_series):\n",
    "    # Python3 code to show Box-cox Transformation\n",
    "    # of non-normal data\n",
    "\n",
    "    # transform training data & save lambda value\n",
    "    fitted_data, fitted_lambda = stats.boxcox(df_series)\n",
    "\n",
    "    # creating axes to draw plots\n",
    "    fig, ax = plt.subplots(1, 2)\n",
    "\n",
    "    # plotting the original data(non-normal) and\n",
    "    # fitted data (normal)\n",
    "    sns.distplot(df_series, hist = False, kde = True,\n",
    "    kde_kws = {'shade': True, 'linewidth': 2},\n",
    "                 label = \"Non-Normal\", color =\"green\", ax = ax[0])\n",
    "\n",
    "    sns.distplot(fitted_data, hist = False, kde = True,\n",
    "    kde_kws = {'shade': True, 'linewidth': 2},\n",
    "    label = \"Normal\", color =\"green\", ax = ax[1])\n",
    "\n",
    "    # adding legends to the subplots\n",
    "    plt.legend(loc = \"upper right\")\n",
    "\n",
    "    # rescaling the subplots\n",
    "    fig.set_figheight(5)\n",
    "    fig.set_figwidth(10)\n",
    "    plt.show();\n",
    "    print(f\"Lambda value used for Transformation: {fitted_lambda}\")\n",
    "    return fitted_data, fitted_lambda"
   ]
  },
  {
   "cell_type": "code",
   "execution_count": 203,
   "id": "f689f3e6",
   "metadata": {},
   "outputs": [
    {
     "name": "stderr",
     "output_type": "stream",
     "text": [
      "/Users/maximedupouy/.pyenv/versions/3.8.6/envs/lewagon/lib/python3.8/site-packages/seaborn/distributions.py:2557: FutureWarning: `distplot` is a deprecated function and will be removed in a future version. Please adapt your code to use either `displot` (a figure-level function with similar flexibility) or `kdeplot` (an axes-level function for kernel density plots).\n",
      "  warnings.warn(msg, FutureWarning)\n",
      "/Users/maximedupouy/.pyenv/versions/3.8.6/envs/lewagon/lib/python3.8/site-packages/seaborn/distributions.py:2557: FutureWarning: `distplot` is a deprecated function and will be removed in a future version. Please adapt your code to use either `displot` (a figure-level function with similar flexibility) or `kdeplot` (an axes-level function for kernel density plots).\n",
      "  warnings.warn(msg, FutureWarning)\n"
     ]
    },
    {
     "data": {
      "image/png": "[encoded data removed]",
      "text/plain": [
       "<Figure size 720x360 with 2 Axes>"
      ]
     },
     "metadata": {
      "needs_background": "light"
     },
     "output_type": "display_data"
    },
    {
     "name": "stdout",
     "output_type": "stream",
     "text": [
      "Lambda value used for Transformation: -0.05063349852267184\n"
     ]
    }
   ],
   "source": [
    "fitted_data, fitted_lambda = box_cot(df_energy['SiteEnergyUse(kBtu)'])"
   ]
  },
  {
   "cell_type": "code",
   "execution_count": 204,
   "id": "3404294c",
   "metadata": {},
   "outputs": [],
   "source": [
    "df_energy['energy_box_cox'] = fitted_data"
   ]
  },
  {
   "cell_type": "code",
   "execution_count": 205,
   "id": "31aec6b0",
   "metadata": {},
   "outputs": [],
   "source": [
    "# drop energystar score for my primary approch\n",
    "df_energy_full = df_energy.copy()\n",
    "df_energy = df_energy.drop(columns=['ENERGYSTARScore'])"
   ]
  },
  {
   "cell_type": "markdown",
   "id": "b372c2f5",
   "metadata": {},
   "source": [
    "## prepare X and y"
   ]
  },
  {
   "cell_type": "code",
   "execution_count": 206,
   "id": "840c5958",
   "metadata": {},
   "outputs": [],
   "source": [
    "X = df_energy.drop(columns=['SiteEnergyUse(kBtu)','TotalGHGEmissions', 'energy_box_cox'])\n",
    "y = df_energy['SiteEnergyUse(kBtu)']\n",
    "y_boxcox = df_energy['energy_box_cox']\n",
    "\n",
    "X_train, X_test, y_train, y_test = train_test_split(X, y, random_state=10)\n",
    "X_train_box, X_test_box, y_train_box, y_test_box = train_test_split(X, y_boxcox, random_state=0)\n"
   ]
  },
  {
   "cell_type": "markdown",
   "id": "a3009f44",
   "metadata": {},
   "source": [
    "## Baseline"
   ]
  },
  {
   "cell_type": "code",
   "execution_count": 14,
   "id": "22b15978",
   "metadata": {},
   "outputs": [
    {
     "name": "stdout",
     "output_type": "stream",
     "text": [
      "mae : 1802401.921875\n",
      "rmse : 17310936.483940322\n",
      "r2 : -0.06373775992852315\n",
      "mdape : 72.8219969235453\n"
     ]
    }
   ],
   "source": [
    "dummy_regr_median = DummyRegressor(strategy=\"median\")\n",
    "\n",
    "dummy_regr_median.fit(X_train, y_train)\n",
    "y_predict_dummy_median = dummy_regr_median.predict(X_test)\n",
    "print(f'mae : {median_absolute_error(y_test,y_predict_dummy_median)}')\n",
    "print(f'rmse : {mean_squared_error(y_test,y_predict_dummy_median)**0.5}')\n",
    "print(f'r2 : {r2_score(y_test,y_predict_dummy_median)}')\n",
    "print(f'mdape : {calcul_mdape(y_test,y_predict_dummy_median)}')"
   ]
  },
  {
   "cell_type": "code",
   "execution_count": 15,
   "id": "dd66a4ff",
   "metadata": {},
   "outputs": [],
   "source": [
    "scores_baseline_energie= {'time': 0.00, \n",
    "                          'MAE': -median_absolute_error(y_test,y_predict_dummy_median),\n",
    "                          'RMSE': -mean_squared_error(y_test,y_predict_dummy_median)**0.5,\n",
    "                          'r2': r2_score(y_test,y_predict_dummy_median)}"
   ]
  },
  {
   "cell_type": "code",
   "execution_count": 16,
   "id": "0b5b93e3",
   "metadata": {
    "scrolled": true
   },
   "outputs": [
    {
     "name": "stdout",
     "output_type": "stream",
     "text": [
      "mae : 0.4180824225600004\n",
      "rmse : 0.6238860563422458\n",
      "r2 : -0.012710730594447162\n",
      "mdape : 4.08953082001511\n"
     ]
    }
   ],
   "source": [
    "dummy_regr_median = DummyRegressor(strategy=\"median\")\n",
    "\n",
    "dummy_regr_median.fit(X_train_box, y_train_box)\n",
    "y_predict_dummy_median = dummy_regr_median.predict(X_test_box)\n",
    "print(f'mae : {median_absolute_error(y_test_box,y_predict_dummy_median)}')\n",
    "print(f'rmse : {mean_squared_error(y_test_box,y_predict_dummy_median)**0.5}')\n",
    "print(f'r2 : {r2_score(y_test_box,y_predict_dummy_median)}')\n",
    "print(f'mdape : {calcul_mdape(y_test_box,y_predict_dummy_median)}')\n",
    "\n",
    "scores_baseline_energie_box= {'time': 0.00, \n",
    "                          'MAE': -median_absolute_error(y_test_box,y_predict_dummy_median),\n",
    "                          'RMSE': -mean_squared_error(y_test_box,y_predict_dummy_median)**0.5,\n",
    "                          'r2': r2_score(y_test_box,y_predict_dummy_median)}"
   ]
  },
  {
   "cell_type": "markdown",
   "id": "4603f98e",
   "metadata": {},
   "source": [
    "## First models"
   ]
  },
  {
   "cell_type": "code",
   "execution_count": 17,
   "id": "98dfd5ee",
   "metadata": {},
   "outputs": [
    {
     "data": {
      "text/plain": [
       "dict_keys(['explained_variance', 'r2', 'max_error', 'neg_median_absolute_error', 'neg_mean_absolute_error', 'neg_mean_absolute_percentage_error', 'neg_mean_squared_error', 'neg_mean_squared_log_error', 'neg_root_mean_squared_error', 'neg_mean_poisson_deviance', 'neg_mean_gamma_deviance', 'accuracy', 'top_k_accuracy', 'roc_auc', 'roc_auc_ovr', 'roc_auc_ovo', 'roc_auc_ovr_weighted', 'roc_auc_ovo_weighted', 'balanced_accuracy', 'average_precision', 'neg_log_loss', 'neg_brier_score', 'adjusted_rand_score', 'rand_score', 'homogeneity_score', 'completeness_score', 'v_measure_score', 'mutual_info_score', 'adjusted_mutual_info_score', 'normalized_mutual_info_score', 'fowlkes_mallows_score', 'precision', 'precision_macro', 'precision_micro', 'precision_samples', 'precision_weighted', 'recall', 'recall_macro', 'recall_micro', 'recall_samples', 'recall_weighted', 'f1', 'f1_macro', 'f1_micro', 'f1_samples', 'f1_weighted', 'jaccard', 'jaccard_macro', 'jaccard_micro', 'jaccard_samples', 'jaccard_weighted'])"
      ]
     },
     "execution_count": 17,
     "metadata": {},
     "output_type": "execute_result"
    }
   ],
   "source": [
    "from sklearn import metrics\n",
    "metrics.SCORERS.keys()"
   ]
  },
  {
   "cell_type": "markdown",
   "id": "c666421d",
   "metadata": {},
   "source": [
    "### Linear regression"
   ]
  },
  {
   "cell_type": "code",
   "execution_count": 18,
   "id": "ef4e7706",
   "metadata": {},
   "outputs": [
    {
     "data": {
      "text/plain": [
       "<AxesSubplot:>"
      ]
     },
     "execution_count": 18,
     "metadata": {},
     "output_type": "execute_result"
    },
    {
     "data": {
      "image/png": "[encoded data removed]",
      "text/plain": [
       "<Figure size 432x288 with 2 Axes>"
      ]
     },
     "metadata": {
      "needs_background": "light"
     },
     "output_type": "display_data"
    }
   ],
   "source": [
    "sns.heatmap(X[['NumberofBuildings',\n",
    " 'NumberofFloors',\n",
    " 'parking_ratio',\n",
    " 'building_ratio',\n",
    " 'PropertyGFABuilding(s)',\n",
    " 'BuildingAge']].corr(), annot=True)"
   ]
  },
  {
   "cell_type": "code",
   "execution_count": 19,
   "id": "90ed32fc",
   "metadata": {},
   "outputs": [],
   "source": [
    "X_lin = X.drop(columns=['parking_ratio', 'building_ratio', 'NumberofFloors',  'PrimaryPropertyType_Retail Store'])"
   ]
  },
  {
   "cell_type": "code",
   "execution_count": 20,
   "id": "d5bb794c",
   "metadata": {},
   "outputs": [
    {
     "data": {
      "text/plain": [
       "<AxesSubplot:>"
      ]
     },
     "execution_count": 20,
     "metadata": {},
     "output_type": "execute_result"
    },
    {
     "data": {
      "image/png": "[encoded data removed]",
      "text/plain": [
       "<Figure size 432x288 with 2 Axes>"
      ]
     },
     "metadata": {
      "needs_background": "light"
     },
     "output_type": "display_data"
    }
   ],
   "source": [
    "sns.heatmap(X_lin.corr())"
   ]
  },
  {
   "cell_type": "code",
   "execution_count": 21,
   "id": "688778e0",
   "metadata": {
    "scrolled": true
   },
   "outputs": [
    {
     "name": "stdout",
     "output_type": "stream",
     "text": [
      "score linear regression : 0.01\n",
      "MAE linear regression : -4303076.55\n",
      "RMSE linear regression : -10000992.5\n",
      "r2 linear regression : 0.38\n"
     ]
    }
   ],
   "source": [
    "from sklearn.linear_model import LinearRegression\n",
    "model = 'linear regression'\n",
    "\n",
    "lr = LinearRegression()\n",
    "lr_scores = training(lr, X_lin, y)\n",
    "\n",
    "print(f\"score {model} : {lr_scores['time']}\")\n",
    "print(f\"MAE {model} : {lr_scores['MAE']}\")\n",
    "print(f\"RMSE {model} : {lr_scores['RMSE']}\")\n",
    "print(f\"r2 {model} : {lr_scores['r2']}\")"
   ]
  },
  {
   "cell_type": "code",
   "execution_count": 22,
   "id": "5b8c6855",
   "metadata": {
    "scrolled": true
   },
   "outputs": [
    {
     "data": {
      "image/png": "[encoded data removed]",
      "text/plain": [
       "<Figure size 432x288 with 1 Axes>"
      ]
     },
     "metadata": {
      "needs_background": "light"
     },
     "output_type": "display_data"
    }
   ],
   "source": [
    "train_sizes = [25,50,75,100,250,500,750,1000,1150]\n",
    "learning_curves(lr, X_lin,y,train_sizes)"
   ]
  },
  {
   "cell_type": "code",
   "execution_count": 23,
   "id": "99de00df",
   "metadata": {},
   "outputs": [],
   "source": [
    "# Le modele n'a pas l'air d'overfitter mais je vais essayer un lasso /Ridge \n",
    "#pour voir si je peux augmenter les performances"
   ]
  },
  {
   "cell_type": "code",
   "execution_count": 24,
   "id": "ec910284",
   "metadata": {
    "scrolled": true
   },
   "outputs": [
    {
     "name": "stdout",
     "output_type": "stream",
     "text": [
      "score linear regression : 0.01\n",
      "MAE linear regression : -0.34\n",
      "RMSE linear regression : -0.45\n",
      "r2 linear regression : 0.24\n"
     ]
    }
   ],
   "source": [
    "#with target boxcox\n",
    "lr = LinearRegression()\n",
    "lr_scores_boxcox = training(lr, X_lin, y_boxcox)\n",
    "\n",
    "print(f\"score {model} : {lr_scores_boxcox['time']}\")\n",
    "print(f\"MAE {model} : {lr_scores_boxcox['MAE']}\")\n",
    "print(f\"RMSE {model} : {lr_scores_boxcox['RMSE']}\")\n",
    "print(f\"r2 {model} : {lr_scores_boxcox['r2']}\")"
   ]
  },
  {
   "cell_type": "code",
   "execution_count": 25,
   "id": "2faf2a40",
   "metadata": {},
   "outputs": [
    {
     "data": {
      "image/png": "[encoded data removed]",
      "text/plain": [
       "<Figure size 432x288 with 1 Axes>"
      ]
     },
     "metadata": {
      "needs_background": "light"
     },
     "output_type": "display_data"
    }
   ],
   "source": [
    "train_sizes = [25,50,75,100,250,500,750,1000,1150]\n",
    "learning_curves(lr, X_lin,y_boxcox,train_sizes)"
   ]
  },
  {
   "cell_type": "markdown",
   "id": "84de19c5",
   "metadata": {},
   "source": [
    "### Ridge"
   ]
  },
  {
   "cell_type": "code",
   "execution_count": 26,
   "id": "98918310",
   "metadata": {},
   "outputs": [
    {
     "name": "stdout",
     "output_type": "stream",
     "text": [
      "best_score : -4267585.536636412,\n",
      " best_params : {'alpha': -0.6206896551724138},\n",
      " best_estimator : Ridge(alpha=-0.6206896551724138)\n"
     ]
    }
   ],
   "source": [
    "from sklearn.linear_model import Ridge\n",
    "model = Ridge()\n",
    "grid = {'alpha': np.linspace(-1, 10, 30)}\n",
    "\n",
    "best_score,best_params,best_estimator= search = grid_search(model, grid, 'neg_mean_absolute_error', X,y)\n",
    "                      \n",
    "print(f'best_score : {best_score},\\n best_params : {best_params},\\n best_estimator : {best_estimator}')"
   ]
  },
  {
   "cell_type": "code",
   "execution_count": 27,
   "id": "113c8e2a",
   "metadata": {
    "scrolled": true
   },
   "outputs": [
    {
     "name": "stdout",
     "output_type": "stream",
     "text": [
      "score Ridge(alpha=10) : 0.0\n",
      "MAE Ridge(alpha=10) : -4374390.06\n",
      "RMSE Ridge(alpha=10) : -10746437.88\n",
      "r2 Ridge(alpha=10) : 0.3\n"
     ]
    }
   ],
   "source": [
    "model = Ridge(alpha=10)\n",
    "ridge_scores = training(model, X, y)\n",
    "\n",
    "print(f\"score {model} : {ridge_scores['time']}\")\n",
    "print(f\"MAE {model} : {ridge_scores['MAE']}\")\n",
    "print(f\"RMSE {model} : {ridge_scores['RMSE']}\")\n",
    "print(f\"r2 {model} : {ridge_scores['r2']}\")"
   ]
  },
  {
   "cell_type": "code",
   "execution_count": 28,
   "id": "ae6dc9c9",
   "metadata": {},
   "outputs": [
    {
     "name": "stdout",
     "output_type": "stream",
     "text": [
      "score Ridge(alpha=10) : 0.0\n",
      "MAE Ridge(alpha=10) : -0.34\n",
      "RMSE Ridge(alpha=10) : -0.44\n",
      "r2 Ridge(alpha=10) : 0.26\n"
     ]
    }
   ],
   "source": [
    "#target boxcox\n",
    "model = Ridge(alpha=10)\n",
    "ridge_scores_box = training(model, X, y_boxcox)\n",
    "\n",
    "print(f\"score {model} : {ridge_scores_box['time']}\")\n",
    "print(f\"MAE {model} : {ridge_scores_box['MAE']}\")\n",
    "print(f\"RMSE {model} : {ridge_scores_box['RMSE']}\")\n",
    "print(f\"r2 {model} : {ridge_scores_box['r2']}\")"
   ]
  },
  {
   "cell_type": "markdown",
   "id": "71fe692b",
   "metadata": {},
   "source": [
    "### Lasso"
   ]
  },
  {
   "cell_type": "code",
   "execution_count": 29,
   "id": "1a9c6194",
   "metadata": {
    "scrolled": true
   },
   "outputs": [
    {
     "name": "stdout",
     "output_type": "stream",
     "text": [
      "best_score : -4275542.2783911545,\n",
      " best_params : {'alpha': 10.0},\n",
      " best_estimator : Lasso(alpha=10.0)\n"
     ]
    },
    {
     "name": "stderr",
     "output_type": "stream",
     "text": [
      "/Users/maximedupouy/.pyenv/versions/3.8.6/envs/lewagon/lib/python3.8/site-packages/sklearn/linear_model/_coordinate_descent.py:645: ConvergenceWarning: Objective did not converge. You might want to increase the number of iterations, check the scale of the features or consider increasing regularisation. Duality gap: 2.310e+16, tolerance: 5.353e+13\n",
      "  model = cd_fast.enet_coordinate_descent(\n"
     ]
    }
   ],
   "source": [
    "from sklearn.linear_model import Lasso\n",
    "model = Lasso()\n",
    "grid = {'alpha': np.linspace(-1, 10, 30)}\n",
    "\n",
    "best_score,best_params,best_estimator= search = grid_search(model, grid, 'neg_mean_absolute_error', X,y)\n",
    "                      \n",
    "print(f'best_score : {best_score},\\n best_params : {best_params},\\n best_estimator : {best_estimator}')"
   ]
  },
  {
   "cell_type": "code",
   "execution_count": 30,
   "id": "9486539f",
   "metadata": {
    "scrolled": true
   },
   "outputs": [
    {
     "name": "stderr",
     "output_type": "stream",
     "text": [
      "/Users/maximedupouy/.pyenv/versions/3.8.6/envs/lewagon/lib/python3.8/site-packages/sklearn/linear_model/_coordinate_descent.py:645: ConvergenceWarning: Objective did not converge. You might want to increase the number of iterations, check the scale of the features or consider increasing regularisation. Duality gap: 1.390e+16, tolerance: 2.677e+13\n",
      "  model = cd_fast.enet_coordinate_descent(\n",
      "/Users/maximedupouy/.pyenv/versions/3.8.6/envs/lewagon/lib/python3.8/site-packages/sklearn/linear_model/_coordinate_descent.py:645: ConvergenceWarning: Objective did not converge. You might want to increase the number of iterations, check the scale of the features or consider increasing regularisation. Duality gap: 1.863e+16, tolerance: 3.388e+13\n",
      "  model = cd_fast.enet_coordinate_descent(\n",
      "/Users/maximedupouy/.pyenv/versions/3.8.6/envs/lewagon/lib/python3.8/site-packages/sklearn/linear_model/_coordinate_descent.py:645: ConvergenceWarning: Objective did not converge. You might want to increase the number of iterations, check the scale of the features or consider increasing regularisation. Duality gap: 3.532e+16, tolerance: 5.215e+13\n",
      "  model = cd_fast.enet_coordinate_descent(\n"
     ]
    },
    {
     "name": "stdout",
     "output_type": "stream",
     "text": [
      "score Lasso(alpha=10) : 0.07\n",
      "MAE Lasso(alpha=10) : -4275542.28\n",
      "RMSE Lasso(alpha=10) : -10029073.05\n",
      "r2 Lasso(alpha=10) : 0.38\n"
     ]
    },
    {
     "name": "stderr",
     "output_type": "stream",
     "text": [
      "/Users/maximedupouy/.pyenv/versions/3.8.6/envs/lewagon/lib/python3.8/site-packages/sklearn/linear_model/_coordinate_descent.py:645: ConvergenceWarning: Objective did not converge. You might want to increase the number of iterations, check the scale of the features or consider increasing regularisation. Duality gap: 2.517e+16, tolerance: 5.049e+13\n",
      "  model = cd_fast.enet_coordinate_descent(\n",
      "/Users/maximedupouy/.pyenv/versions/3.8.6/envs/lewagon/lib/python3.8/site-packages/sklearn/linear_model/_coordinate_descent.py:645: ConvergenceWarning: Objective did not converge. You might want to increase the number of iterations, check the scale of the features or consider increasing regularisation. Duality gap: 2.022e+16, tolerance: 4.978e+13\n",
      "  model = cd_fast.enet_coordinate_descent(\n"
     ]
    }
   ],
   "source": [
    "model = Lasso(alpha=10)\n",
    "lasso_scores = training(model, X, y)\n",
    "\n",
    "print(f\"score {model} : {lasso_scores['time']}\")\n",
    "print(f\"MAE {model} : {lasso_scores['MAE']}\")\n",
    "print(f\"RMSE {model} : {lasso_scores['RMSE']}\")\n",
    "print(f\"r2 {model} : {lasso_scores['r2']}\")"
   ]
  },
  {
   "cell_type": "code",
   "execution_count": 31,
   "id": "c73cac67",
   "metadata": {},
   "outputs": [
    {
     "name": "stdout",
     "output_type": "stream",
     "text": [
      "score Lasso(alpha=10) : 0.0\n",
      "MAE Lasso(alpha=10) : -0.52\n",
      "RMSE Lasso(alpha=10) : -0.64\n",
      "r2 Lasso(alpha=10) : -0.6\n"
     ]
    }
   ],
   "source": [
    "#target boxcox\n",
    "model = Lasso(alpha=10)\n",
    "lasso_scores_boxcox = training(model, X, y_boxcox)\n",
    "\n",
    "print(f\"score {model} : {lasso_scores_boxcox['time']}\")\n",
    "print(f\"MAE {model} : {lasso_scores_boxcox['MAE']}\")\n",
    "print(f\"RMSE {model} : {lasso_scores_boxcox['RMSE']}\")\n",
    "print(f\"r2 {model} : {lasso_scores_boxcox['r2']}\")"
   ]
  },
  {
   "cell_type": "markdown",
   "id": "b794f536",
   "metadata": {},
   "source": [
    "### KNN"
   ]
  },
  {
   "cell_type": "code",
   "execution_count": 32,
   "id": "c50b204e",
   "metadata": {},
   "outputs": [
    {
     "name": "stdout",
     "output_type": "stream",
     "text": [
      "best_score : -4341534.668605996,\n",
      " best_params : {'n_neighbors': 16},\n",
      " best_estimator : KNeighborsRegressor(n_neighbors=16)\n"
     ]
    }
   ],
   "source": [
    "from sklearn.neighbors import KNeighborsRegressor\n",
    "model = KNeighborsRegressor()\n",
    "grid = {'n_neighbors': np.arange(5,30)}\n",
    "\n",
    "best_score,best_params,best_estimator = grid_search(model, grid, 'neg_mean_absolute_error', X,y)\n",
    "                      \n",
    "print(f'best_score : {best_score},\\n best_params : {best_params},\\n best_estimator : {best_estimator}')"
   ]
  },
  {
   "cell_type": "code",
   "execution_count": 33,
   "id": "8ded703f",
   "metadata": {
    "scrolled": true
   },
   "outputs": [
    {
     "name": "stdout",
     "output_type": "stream",
     "text": [
      "score KNeighborsRegressor() : 0.0\n",
      "MAE KNeighborsRegressor() : -4573803.96\n",
      "RMSE KNeighborsRegressor() : -12025789.21\n",
      "r2 KNeighborsRegressor() : 0.06\n"
     ]
    },
    {
     "name": "stderr",
     "output_type": "stream",
     "text": [
      "/Users/maximedupouy/.pyenv/versions/3.8.6/envs/lewagon/lib/python3.8/site-packages/sklearn/base.py:441: UserWarning: X does not have valid feature names, but KNeighborsRegressor was fitted with feature names\n",
      "  warnings.warn(\n",
      "/Users/maximedupouy/.pyenv/versions/3.8.6/envs/lewagon/lib/python3.8/site-packages/sklearn/base.py:441: UserWarning: X does not have valid feature names, but KNeighborsRegressor was fitted with feature names\n",
      "  warnings.warn(\n",
      "/Users/maximedupouy/.pyenv/versions/3.8.6/envs/lewagon/lib/python3.8/site-packages/sklearn/base.py:441: UserWarning: X does not have valid feature names, but KNeighborsRegressor was fitted with feature names\n",
      "  warnings.warn(\n",
      "/Users/maximedupouy/.pyenv/versions/3.8.6/envs/lewagon/lib/python3.8/site-packages/sklearn/base.py:441: UserWarning: X does not have valid feature names, but KNeighborsRegressor was fitted with feature names\n",
      "  warnings.warn(\n",
      "/Users/maximedupouy/.pyenv/versions/3.8.6/envs/lewagon/lib/python3.8/site-packages/sklearn/base.py:441: UserWarning: X does not have valid feature names, but KNeighborsRegressor was fitted with feature names\n",
      "  warnings.warn(\n"
     ]
    }
   ],
   "source": [
    "model = KNeighborsRegressor(n_neighbors=5)\n",
    "knn_scores = training(model, X, y)\n",
    "\n",
    "print(f\"score {model} : {knn_scores['time']}\")\n",
    "print(f\"MAE {model} : {knn_scores['MAE']}\")\n",
    "print(f\"RMSE {model} : {knn_scores['RMSE']}\")\n",
    "print(f\"r2 {model} : {knn_scores['r2']}\")"
   ]
  },
  {
   "cell_type": "code",
   "execution_count": 34,
   "id": "8e7532ba",
   "metadata": {},
   "outputs": [
    {
     "name": "stdout",
     "output_type": "stream",
     "text": [
      "score KNeighborsRegressor() : 0.0\n",
      "MAE KNeighborsRegressor() : -0.32\n",
      "RMSE KNeighborsRegressor() : -0.43\n",
      "r2 KNeighborsRegressor() : 0.3\n"
     ]
    },
    {
     "name": "stderr",
     "output_type": "stream",
     "text": [
      "/Users/maximedupouy/.pyenv/versions/3.8.6/envs/lewagon/lib/python3.8/site-packages/sklearn/base.py:441: UserWarning: X does not have valid feature names, but KNeighborsRegressor was fitted with feature names\n",
      "  warnings.warn(\n",
      "/Users/maximedupouy/.pyenv/versions/3.8.6/envs/lewagon/lib/python3.8/site-packages/sklearn/base.py:441: UserWarning: X does not have valid feature names, but KNeighborsRegressor was fitted with feature names\n",
      "  warnings.warn(\n",
      "/Users/maximedupouy/.pyenv/versions/3.8.6/envs/lewagon/lib/python3.8/site-packages/sklearn/base.py:441: UserWarning: X does not have valid feature names, but KNeighborsRegressor was fitted with feature names\n",
      "  warnings.warn(\n",
      "/Users/maximedupouy/.pyenv/versions/3.8.6/envs/lewagon/lib/python3.8/site-packages/sklearn/base.py:441: UserWarning: X does not have valid feature names, but KNeighborsRegressor was fitted with feature names\n",
      "  warnings.warn(\n",
      "/Users/maximedupouy/.pyenv/versions/3.8.6/envs/lewagon/lib/python3.8/site-packages/sklearn/base.py:441: UserWarning: X does not have valid feature names, but KNeighborsRegressor was fitted with feature names\n",
      "  warnings.warn(\n"
     ]
    }
   ],
   "source": [
    "#target boxcox\n",
    "model = KNeighborsRegressor(n_neighbors=5)\n",
    "knn_scores_boxcox = training(model, X, y_boxcox)\n",
    "\n",
    "print(f\"score {model} : {knn_scores_boxcox['time']}\")\n",
    "print(f\"MAE {model} : {knn_scores_boxcox['MAE']}\")\n",
    "print(f\"RMSE {model} : {knn_scores_boxcox['RMSE']}\")\n",
    "print(f\"r2 {model} : {knn_scores_boxcox['r2']}\")"
   ]
  },
  {
   "cell_type": "markdown",
   "id": "e5bb743f",
   "metadata": {},
   "source": [
    "### Random Forest"
   ]
  },
  {
   "cell_type": "code",
   "execution_count": 35,
   "id": "5b9bc240",
   "metadata": {},
   "outputs": [],
   "source": [
    "from sklearn.ensemble import RandomForestRegressor\n",
    "\n",
    "model = RandomForestRegressor()\n",
    "grid = {'n_estimators': [50,100, 200, 300, 500], \n",
    "        'min_samples_split':[2, 5, 10],\n",
    "       'min_samples_leaf':[1, 2, 4],\n",
    "       'max_depth':[10, 20, 30, 40]}\n",
    "\n",
    "reboot =False #mettre à True pour relancer gridsearch\n",
    "if reboot :\n",
    "    best_score,best_params,best_estimator= search = grid_search(model, grid, 'neg_mean_absolute_error', X,y)\n",
    "    print(f'best_score : {best_score},\\n best_params : {best_params},\\n best_estimator : {best_estimator}')"
   ]
  },
  {
   "cell_type": "code",
   "execution_count": 36,
   "id": "4300caef",
   "metadata": {},
   "outputs": [
    {
     "name": "stdout",
     "output_type": "stream",
     "text": [
      "score RandomForestRegressor(max_depth=20, min_samples_leaf=2) : 0.36\n",
      "MAE RandomForestRegressor(max_depth=20, min_samples_leaf=2) : -3863079.57\n",
      "RMSE RandomForestRegressor(max_depth=20, min_samples_leaf=2) : -10242799.67\n",
      "r2 RandomForestRegressor(max_depth=20, min_samples_leaf=2) : 0.48\n"
     ]
    }
   ],
   "source": [
    "model = RandomForestRegressor(\n",
    "    n_estimators= 100,\n",
    "    max_depth=20,\n",
    "    min_samples_split=2,\n",
    "    min_samples_leaf=2,)\n",
    "randomforest_scores = training(model, X, y)\n",
    "\n",
    "print(f\"score {model} : {randomforest_scores['time']}\")\n",
    "print(f\"MAE {model} : {randomforest_scores['MAE']}\")\n",
    "print(f\"RMSE {model} : {randomforest_scores['RMSE']}\")\n",
    "print(f\"r2 {model} : {randomforest_scores['r2']}\")"
   ]
  },
  {
   "cell_type": "code",
   "execution_count": 37,
   "id": "90bb6456",
   "metadata": {},
   "outputs": [],
   "source": [
    "#boxcox\n",
    "from sklearn.ensemble import RandomForestRegressor\n",
    "\n",
    "model = RandomForestRegressor()\n",
    "grid = {'n_estimators': [50,100, 200, 300, 500], \n",
    "        'min_samples_split':[2, 5, 10],\n",
    "       'min_samples_leaf':[1, 2, 4],\n",
    "       'max_depth':[10, 20, 30, 40]}\n",
    "\n",
    "reboot =False #mettre à True pour relancer gridsearch\n",
    "if reboot :\n",
    "    best_score,best_params,best_estimator= search = grid_search(model, grid, 'neg_mean_absolute_error', X,y_boxcox)\n",
    "    print(f'best_score : {best_score},\\n best_params : {best_params},\\n best_estimator : {best_estimator}')\n"
   ]
  },
  {
   "cell_type": "code",
   "execution_count": 38,
   "id": "6c3e3997",
   "metadata": {},
   "outputs": [
    {
     "name": "stdout",
     "output_type": "stream",
     "text": [
      "score RandomForestRegressor(max_depth=40, min_samples_split=10, n_estimators=500) : 1.56\n",
      "MAE RandomForestRegressor(max_depth=40, min_samples_split=10, n_estimators=500) : -0.25\n",
      "RMSE RandomForestRegressor(max_depth=40, min_samples_split=10, n_estimators=500) : -0.35\n",
      "r2 RandomForestRegressor(max_depth=40, min_samples_split=10, n_estimators=500) : 0.52\n"
     ]
    }
   ],
   "source": [
    "model = RandomForestRegressor(\n",
    "n_estimators= 500,\n",
    "    max_depth=40,\n",
    "    min_samples_split=10,\n",
    "    min_samples_leaf=1,)\n",
    "randomforest_scores_boxcox = training(model, X, y_boxcox)\n",
    "\n",
    "print(f\"score {model} : {randomforest_scores_boxcox['time']}\")\n",
    "print(f\"MAE {model} : {randomforest_scores_boxcox['MAE']}\")\n",
    "print(f\"RMSE {model} : {randomforest_scores_boxcox['RMSE']}\")\n",
    "print(f\"r2 {model} : {randomforest_scores_boxcox['r2']}\")"
   ]
  },
  {
   "cell_type": "code",
   "execution_count": 39,
   "id": "12c0d5fe",
   "metadata": {},
   "outputs": [
    {
     "data": {
      "image/png": "[encoded data removed]",
      "text/plain": [
       "<Figure size 432x288 with 1 Axes>"
      ]
     },
     "metadata": {
      "needs_background": "light"
     },
     "output_type": "display_data"
    }
   ],
   "source": [
    "learning_curves(model, X, y_boxcox, train_sizes)"
   ]
  },
  {
   "cell_type": "markdown",
   "id": "943b7297",
   "metadata": {},
   "source": [
    "### XGBOOST"
   ]
  },
  {
   "cell_type": "code",
   "execution_count": 40,
   "id": "a31bc99e",
   "metadata": {},
   "outputs": [],
   "source": [
    "from sklearn.ensemble import GradientBoostingRegressor\n",
    "model = GradientBoostingRegressor()\n",
    "grid = {'n_estimators': [50,100, 200, 300, 500], \n",
    "        'min_samples_split':[2, 5, 10],\n",
    "       'min_samples_leaf':[1, 2, 4]}\n",
    "\n",
    "reboot =False #mettre à True pour relancer gridsearch\n",
    "if reboot :\n",
    "    best_score,best_params,best_estimator = grid_search(model, grid, 'neg_mean_absolute_error', X,y)\n",
    "    print(f'best_score : {best_score},\\n best_params : {best_params},\\n best_estimator : {best_estimator}')"
   ]
  },
  {
   "cell_type": "code",
   "execution_count": 41,
   "id": "f273848e",
   "metadata": {},
   "outputs": [
    {
     "name": "stdout",
     "output_type": "stream",
     "text": [
      "score GradientBoostingRegressor(min_samples_leaf=2) : 0.11\n",
      "MAE GradientBoostingRegressor(min_samples_leaf=2) : -3890631.25\n",
      "RMSE GradientBoostingRegressor(min_samples_leaf=2) : -10441837.08\n",
      "r2 GradientBoostingRegressor(min_samples_leaf=2) : 0.37\n"
     ]
    }
   ],
   "source": [
    "model = GradientBoostingRegressor(\n",
    "    n_estimators= 100,\n",
    "    min_samples_split=2,\n",
    "    min_samples_leaf=2,)\n",
    "XGBOST_scores = training(model, X, y)\n",
    "\n",
    "print(f\"score {model} : {XGBOST_scores['time']}\")\n",
    "print(f\"MAE {model} : {XGBOST_scores['MAE']}\")\n",
    "print(f\"RMSE {model} : {XGBOST_scores['RMSE']}\")\n",
    "print(f\"r2 {model} : {XGBOST_scores['r2']}\")"
   ]
  },
  {
   "cell_type": "code",
   "execution_count": 42,
   "id": "5c0cb3b9",
   "metadata": {},
   "outputs": [
    {
     "name": "stdout",
     "output_type": "stream",
     "text": [
      "score GradientBoostingRegressor(min_samples_leaf=2, n_estimators=180) : 0.19\n",
      "MAE GradientBoostingRegressor(min_samples_leaf=2, n_estimators=180) : -0.25\n",
      "RMSE GradientBoostingRegressor(min_samples_leaf=2, n_estimators=180) : -0.35\n",
      "r2 GradientBoostingRegressor(min_samples_leaf=2, n_estimators=180) : 0.52\n"
     ]
    }
   ],
   "source": [
    "#target boxcox\n",
    "model = GradientBoostingRegressor(\n",
    "    n_estimators= 180,\n",
    "    min_samples_split=2,\n",
    "    min_samples_leaf=2,)\n",
    "XGBOST_scores_boxcox = training(model, X, y_boxcox)\n",
    "\n",
    "print(f\"score {model} : {XGBOST_scores_boxcox['time']}\")\n",
    "print(f\"MAE {model} : {XGBOST_scores_boxcox['MAE']}\")\n",
    "print(f\"RMSE {model} : {XGBOST_scores_boxcox['RMSE']}\")\n",
    "print(f\"r2 {model} : {XGBOST_scores_boxcox['r2']}\")"
   ]
  },
  {
   "cell_type": "code",
   "execution_count": 43,
   "id": "30df360d",
   "metadata": {},
   "outputs": [
    {
     "data": {
      "image/png": "[encoded data removed]",
      "text/plain": [
       "<Figure size 432x288 with 1 Axes>"
      ]
     },
     "metadata": {
      "needs_background": "light"
     },
     "output_type": "display_data"
    }
   ],
   "source": [
    "learning_curves(model, X, y_boxcox, train_sizes)"
   ]
  },
  {
   "cell_type": "markdown",
   "id": "ea4ab506",
   "metadata": {},
   "source": [
    "### Analyse"
   ]
  },
  {
   "cell_type": "code",
   "execution_count": 44,
   "id": "e4f0a4a6",
   "metadata": {},
   "outputs": [
    {
     "data": {
      "text/plain": [
       "{'time': 0.01, 'MAE': -4303076.55, 'RMSE': -10000992.5, 'r2': 0.38}"
      ]
     },
     "execution_count": 44,
     "metadata": {},
     "output_type": "execute_result"
    }
   ],
   "source": [
    "lr_scores"
   ]
  },
  {
   "cell_type": "code",
   "execution_count": 45,
   "id": "97a21d9b",
   "metadata": {},
   "outputs": [
    {
     "data": {
      "text/html": [
       "<div>\n",
       "<style scoped>\n",
       "    .dataframe tbody tr th:only-of-type {\n",
       "        vertical-align: middle;\n",
       "    }\n",
       "\n",
       "    .dataframe tbody tr th {\n",
       "        vertical-align: top;\n",
       "    }\n",
       "\n",
       "    .dataframe thead th {\n",
       "        text-align: right;\n",
       "    }\n",
       "</style>\n",
       "<table border=\"1\" class=\"dataframe\">\n",
       "  <thead>\n",
       "    <tr style=\"text-align: right;\">\n",
       "      <th></th>\n",
       "      <th>time</th>\n",
       "      <th>MAE</th>\n",
       "      <th>RMSE</th>\n",
       "      <th>r2</th>\n",
       "    </tr>\n",
       "  </thead>\n",
       "  <tbody>\n",
       "    <tr>\n",
       "      <th>baseline</th>\n",
       "      <td>0.00</td>\n",
       "      <td>1.802402e+06</td>\n",
       "      <td>1.731094e+07</td>\n",
       "      <td>-0.063738</td>\n",
       "    </tr>\n",
       "    <tr>\n",
       "      <th>lr</th>\n",
       "      <td>0.01</td>\n",
       "      <td>4.303077e+06</td>\n",
       "      <td>1.000099e+07</td>\n",
       "      <td>0.380000</td>\n",
       "    </tr>\n",
       "    <tr>\n",
       "      <th>ridge</th>\n",
       "      <td>0.00</td>\n",
       "      <td>4.374390e+06</td>\n",
       "      <td>1.074644e+07</td>\n",
       "      <td>0.300000</td>\n",
       "    </tr>\n",
       "    <tr>\n",
       "      <th>knn</th>\n",
       "      <td>0.00</td>\n",
       "      <td>4.573804e+06</td>\n",
       "      <td>1.202579e+07</td>\n",
       "      <td>0.060000</td>\n",
       "    </tr>\n",
       "    <tr>\n",
       "      <th>randomforest</th>\n",
       "      <td>0.36</td>\n",
       "      <td>3.863080e+06</td>\n",
       "      <td>1.024280e+07</td>\n",
       "      <td>0.480000</td>\n",
       "    </tr>\n",
       "    <tr>\n",
       "      <th>XGBOOST</th>\n",
       "      <td>0.11</td>\n",
       "      <td>3.890631e+06</td>\n",
       "      <td>1.044184e+07</td>\n",
       "      <td>0.370000</td>\n",
       "    </tr>\n",
       "  </tbody>\n",
       "</table>\n",
       "</div>"
      ],
      "text/plain": [
       "              time           MAE          RMSE        r2\n",
       "baseline      0.00  1.802402e+06  1.731094e+07 -0.063738\n",
       "lr            0.01  4.303077e+06  1.000099e+07  0.380000\n",
       "ridge         0.00  4.374390e+06  1.074644e+07  0.300000\n",
       "knn           0.00  4.573804e+06  1.202579e+07  0.060000\n",
       "randomforest  0.36  3.863080e+06  1.024280e+07  0.480000\n",
       "XGBOOST       0.11  3.890631e+06  1.044184e+07  0.370000"
      ]
     },
     "execution_count": 45,
     "metadata": {},
     "output_type": "execute_result"
    }
   ],
   "source": [
    "scores = pd.DataFrame([\n",
    "    scores_baseline_energie,\n",
    "    lr_scores,\n",
    "         ridge_scores,\n",
    "         knn_scores,\n",
    "         randomforest_scores, \n",
    "        XGBOST_scores], index=['baseline', 'lr', 'ridge', 'knn', 'randomforest', 'XGBOOST'])\n",
    "scores['MAE']=scores['MAE']*-1\n",
    "scores['RMSE']=scores['RMSE']*-1\n",
    "scores"
   ]
  },
  {
   "cell_type": "code",
   "execution_count": 46,
   "id": "fab47269",
   "metadata": {},
   "outputs": [
    {
     "data": {
      "text/plain": [
       "{'time': 0.0,\n",
       " 'MAE': -0.4180824225600004,\n",
       " 'RMSE': -0.6238860563422458,\n",
       " 'r2': -0.012710730594447162}"
      ]
     },
     "execution_count": 46,
     "metadata": {},
     "output_type": "execute_result"
    }
   ],
   "source": [
    "scores_baseline_energie_box"
   ]
  },
  {
   "cell_type": "code",
   "execution_count": 47,
   "id": "802a2713",
   "metadata": {},
   "outputs": [
    {
     "data": {
      "text/html": [
       "<div>\n",
       "<style scoped>\n",
       "    .dataframe tbody tr th:only-of-type {\n",
       "        vertical-align: middle;\n",
       "    }\n",
       "\n",
       "    .dataframe tbody tr th {\n",
       "        vertical-align: top;\n",
       "    }\n",
       "\n",
       "    .dataframe thead th {\n",
       "        text-align: right;\n",
       "    }\n",
       "</style>\n",
       "<table border=\"1\" class=\"dataframe\">\n",
       "  <thead>\n",
       "    <tr style=\"text-align: right;\">\n",
       "      <th></th>\n",
       "      <th>time</th>\n",
       "      <th>MAE</th>\n",
       "      <th>RMSE</th>\n",
       "      <th>r2</th>\n",
       "    </tr>\n",
       "  </thead>\n",
       "  <tbody>\n",
       "    <tr>\n",
       "      <th>baseline</th>\n",
       "      <td>0.00</td>\n",
       "      <td>0.418082</td>\n",
       "      <td>0.623886</td>\n",
       "      <td>-0.012711</td>\n",
       "    </tr>\n",
       "    <tr>\n",
       "      <th>lr</th>\n",
       "      <td>0.01</td>\n",
       "      <td>0.340000</td>\n",
       "      <td>0.450000</td>\n",
       "      <td>0.240000</td>\n",
       "    </tr>\n",
       "    <tr>\n",
       "      <th>ridge</th>\n",
       "      <td>0.00</td>\n",
       "      <td>0.340000</td>\n",
       "      <td>0.440000</td>\n",
       "      <td>0.260000</td>\n",
       "    </tr>\n",
       "    <tr>\n",
       "      <th>knn</th>\n",
       "      <td>0.00</td>\n",
       "      <td>0.320000</td>\n",
       "      <td>0.430000</td>\n",
       "      <td>0.300000</td>\n",
       "    </tr>\n",
       "    <tr>\n",
       "      <th>randomforest</th>\n",
       "      <td>1.56</td>\n",
       "      <td>0.250000</td>\n",
       "      <td>0.350000</td>\n",
       "      <td>0.520000</td>\n",
       "    </tr>\n",
       "    <tr>\n",
       "      <th>XGBOOST</th>\n",
       "      <td>0.19</td>\n",
       "      <td>0.250000</td>\n",
       "      <td>0.350000</td>\n",
       "      <td>0.520000</td>\n",
       "    </tr>\n",
       "  </tbody>\n",
       "</table>\n",
       "</div>"
      ],
      "text/plain": [
       "              time       MAE      RMSE        r2\n",
       "baseline      0.00  0.418082  0.623886 -0.012711\n",
       "lr            0.01  0.340000  0.450000  0.240000\n",
       "ridge         0.00  0.340000  0.440000  0.260000\n",
       "knn           0.00  0.320000  0.430000  0.300000\n",
       "randomforest  1.56  0.250000  0.350000  0.520000\n",
       "XGBOOST       0.19  0.250000  0.350000  0.520000"
      ]
     },
     "execution_count": 47,
     "metadata": {},
     "output_type": "execute_result"
    }
   ],
   "source": [
    "scores_box = pd.DataFrame([\n",
    "    scores_baseline_energie_box,\n",
    "    lr_scores_boxcox,\n",
    "         ridge_scores_box,\n",
    "         knn_scores_boxcox,\n",
    "         randomforest_scores_boxcox, \n",
    "        XGBOST_scores_boxcox], index=['baseline', 'lr', 'ridge', 'knn', 'randomforest', 'XGBOOST'])\n",
    "scores_box['MAE']=scores_box['MAE']*-1\n",
    "scores_box['RMSE']=scores_box['RMSE']*-1\n",
    "scores_box"
   ]
  },
  {
   "cell_type": "code",
   "execution_count": 48,
   "id": "6271efdd",
   "metadata": {},
   "outputs": [
    {
     "data": {
      "text/plain": [
       "Text(0.5, 1.0, 'MAE')"
      ]
     },
     "execution_count": 48,
     "metadata": {},
     "output_type": "execute_result"
    },
    {
     "data": {
      "image/png": "[encoded data removed]",
      "text/plain": [
       "<Figure size 1080x1080 with 4 Axes>"
      ]
     },
     "metadata": {
      "needs_background": "light"
     },
     "output_type": "display_data"
    }
   ],
   "source": [
    "#Comparaison :\n",
    "plt.figure(figsize=(15,15))\n",
    "plt.subplot(421)\n",
    "plt.bar(x=scores.index, height=list(scores['time']), width=0.4, color=['r', 'b', 'g', 'y'])\n",
    "plt.title('performance de temps')\n",
    "plt.subplot(422)\n",
    "plt.bar(x=scores.index, height=list(scores['r2']), width=0.4, color=['r', 'b', 'g', 'y'])\n",
    "plt.title('r2')\n",
    "plt.subplot(423)\n",
    "plt.bar(x=scores.index, height=list(scores['RMSE']), width=0.4, color=['r', 'b', 'g', 'y'])\n",
    "plt.title('RMSE')\n",
    "plt.subplot(424)\n",
    "plt.bar(x=scores.index, height=list(scores['MAE']), width=0.4, color=['r', 'b', 'g', 'y'])\n",
    "plt.title('MAE')"
   ]
  },
  {
   "cell_type": "code",
   "execution_count": 49,
   "id": "2ddda5d2",
   "metadata": {},
   "outputs": [
    {
     "data": {
      "text/plain": [
       "Text(0.5, 1.0, 'MAE boxcox')"
      ]
     },
     "execution_count": 49,
     "metadata": {},
     "output_type": "execute_result"
    },
    {
     "data": {
      "image/png": "[encoded data removed]",
      "text/plain": [
       "<Figure size 1080x1080 with 4 Axes>"
      ]
     },
     "metadata": {
      "needs_background": "light"
     },
     "output_type": "display_data"
    }
   ],
   "source": [
    "#Comparaison :\n",
    "plt.figure(figsize=(15,15))\n",
    "plt.subplot(421)\n",
    "plt.bar(x=scores_box.index, height=list(scores_box['time']), width=0.4, color=['r', 'b', 'g', 'y'])\n",
    "plt.title('performance de temps boxcox')\n",
    "plt.subplot(422)\n",
    "plt.bar(x=scores_box.index, height=list(scores_box['r2']), width=0.4, color=['r', 'b', 'g', 'y'])\n",
    "plt.title('r2 boxcox')\n",
    "plt.subplot(423)\n",
    "plt.bar(x=scores_box.index, height=list(scores_box['RMSE']), width=0.4, color=['r', 'b', 'g', 'y'])\n",
    "plt.title('RMSE boxcox')\n",
    "plt.subplot(424)\n",
    "plt.bar(x=scores_box.index, height=list(scores_box['MAE']), width=0.4, color=['r', 'b', 'g', 'y'])\n",
    "plt.title('MAE boxcox')"
   ]
  },
  {
   "cell_type": "markdown",
   "id": "4d897d11",
   "metadata": {},
   "source": [
    "On constate que le modele random forest et XGBOOST sont les deux modeles qui dominent"
   ]
  },
  {
   "cell_type": "markdown",
   "id": "7b3b0926",
   "metadata": {},
   "source": [
    "## Entrainement Random Forest"
   ]
  },
  {
   "cell_type": "code",
   "execution_count": 50,
   "id": "273fba03",
   "metadata": {},
   "outputs": [
    {
     "data": {
      "text/plain": [
       "(1, 38)"
      ]
     },
     "execution_count": 50,
     "metadata": {},
     "output_type": "execute_result"
    }
   ],
   "source": [
    "model = RandomForestRegressor(\n",
    "    n_estimators= 140,\n",
    "    min_samples_split=2,\n",
    "    min_samples_leaf=1)\n",
    "#fit\n",
    "model.fit(X_train, y_train)\n",
    "#pred\n",
    "prediction = model.predict(X_test)\n",
    "#features importances\n",
    "model.feature_importances_.reshape(1,-1).shape"
   ]
  },
  {
   "cell_type": "code",
   "execution_count": 51,
   "id": "fa543cf5",
   "metadata": {},
   "outputs": [
    {
     "data": {
      "text/plain": [
       "(1, 38)"
      ]
     },
     "execution_count": 51,
     "metadata": {},
     "output_type": "execute_result"
    }
   ],
   "source": [
    "#boxcox\n",
    "model_box = RandomForestRegressor(\n",
    "    n_estimators= 140,\n",
    "    min_samples_split=2,\n",
    "    min_samples_leaf=1)\n",
    "#fit\n",
    "model_box.fit(X_train_box, y_train_box)\n",
    "#pred\n",
    "prediction_box = model_box.predict(X_test_box)\n",
    "#features importances\n",
    "model_box.feature_importances_.reshape(1,-1).shape"
   ]
  },
  {
   "cell_type": "markdown",
   "id": "cddf5f72",
   "metadata": {},
   "source": [
    "## Analyse"
   ]
  },
  {
   "cell_type": "code",
   "execution_count": 52,
   "id": "3d8ee42a",
   "metadata": {},
   "outputs": [
    {
     "data": {
      "text/plain": [
       "Text(0.5, 1.0, 'features importances sans boxcox')"
      ]
     },
     "execution_count": 52,
     "metadata": {},
     "output_type": "execute_result"
    },
    {
     "data": {
      "image/png": "[encoded data removed]",
      "text/plain": [
       "<Figure size 1152x720 with 1 Axes>"
      ]
     },
     "metadata": {
      "needs_background": "light"
     },
     "output_type": "display_data"
    }
   ],
   "source": [
    "plt.figure(figsize=(16,10))\n",
    "features = pd.DataFrame(model.feature_importances_.reshape(1,-1), columns=X_train.columns)\n",
    "features=features.T\n",
    "features=features.sort_values(by=0, ascending=False)\n",
    "sns.barplot(x=features[0], y=list(features.index))\n",
    "plt.title('features importances sans boxcox')"
   ]
  },
  {
   "cell_type": "code",
   "execution_count": 53,
   "id": "35f1616d",
   "metadata": {},
   "outputs": [
    {
     "data": {
      "text/plain": [
       "Text(0.5, 1.0, 'features importances avec boxcox')"
      ]
     },
     "execution_count": 53,
     "metadata": {},
     "output_type": "execute_result"
    },
    {
     "data": {
      "image/png": "[encoded data removed]",
      "text/plain": [
       "<Figure size 1152x720 with 1 Axes>"
      ]
     },
     "metadata": {
      "needs_background": "light"
     },
     "output_type": "display_data"
    }
   ],
   "source": [
    "plt.figure(figsize=(16,10))\n",
    "features = pd.DataFrame(model_box.feature_importances_.reshape(1,-1), columns=X_train_box.columns)\n",
    "features=features.T\n",
    "features=features.sort_values(by=0, ascending=False)\n",
    "sns.barplot(x=features[0], y=list(features.index))\n",
    "plt.title('features importances avec boxcox')"
   ]
  },
  {
   "cell_type": "code",
   "execution_count": 54,
   "id": "7ce7c9e0",
   "metadata": {},
   "outputs": [
    {
     "data": {
      "text/plain": [
       "'df_test=pd.concat([X_test, y_test], axis=1)\\ndf_test.reset_index(drop=True, inplace=True)\\ndf_test=pd.concat([df_test, y_test_box], axis=1)\\ndf_test.reset_index(drop=True, inplace=True)\\ndf_test=pd.concat([df_test, predictions], axis=1, )'"
      ]
     },
     "execution_count": 54,
     "metadata": {},
     "output_type": "execute_result"
    }
   ],
   "source": [
    "'''df_test=pd.concat([X_test, y_test], axis=1)\n",
    "df_test.reset_index(drop=True, inplace=True)\n",
    "df_test=pd.concat([df_test, y_test_box], axis=1)\n",
    "df_test.reset_index(drop=True, inplace=True)\n",
    "df_test=pd.concat([df_test, predictions], axis=1, )'''"
   ]
  },
  {
   "cell_type": "code",
   "execution_count": 55,
   "id": "78073c83",
   "metadata": {},
   "outputs": [],
   "source": [
    "y_test=y_test.reset_index(drop=True)"
   ]
  },
  {
   "cell_type": "code",
   "execution_count": 56,
   "id": "064d5312",
   "metadata": {},
   "outputs": [],
   "source": [
    "predictions = pd.DataFrame({'pred': prediction, 'pred_box': prediction_box})\n",
    "\n",
    "predictions.reset_index(drop=True, inplace=True)\n",
    "X_test.reset_index(drop=True, inplace=True)\n",
    "y_test=y_test.reset_index(drop=True)\n",
    "y_test_box=y_test_box.reset_index(drop=True)\n",
    "\n",
    "df_test=pd.concat([predictions, X_test, y_test,y_test_box], axis=1)"
   ]
  },
  {
   "cell_type": "code",
   "execution_count": 57,
   "id": "9e3d4f53",
   "metadata": {
    "scrolled": false
   },
   "outputs": [
    {
     "data": {
      "text/plain": [
       "pred                                               0\n",
       "pred_box                                           0\n",
       "NumberofBuildings                                  0\n",
       "NumberofFloors                                     0\n",
       "PropertyGFABuilding(s)                             0\n",
       "parking_ratio                                      0\n",
       "building_ratio                                     0\n",
       "BuildingAge                                        0\n",
       "BuildingType_NonResidential                        0\n",
       "BuildingType_SPS-District K-12                     0\n",
       "PrimaryPropertyType_Distribution Center            0\n",
       "PrimaryPropertyType_Hospital                       0\n",
       "PrimaryPropertyType_Hotel                          0\n",
       "PrimaryPropertyType_Large Office                   0\n",
       "PrimaryPropertyType_Low-Rise Multifamily           0\n",
       "PrimaryPropertyType_Medical Office                 0\n",
       "PrimaryPropertyType_Mixed Use Property             0\n",
       "PrimaryPropertyType_Refrigerated Warehouse         0\n",
       "PrimaryPropertyType_Residence Hall/Dormitory       0\n",
       "PrimaryPropertyType_Restaurant                     0\n",
       "PrimaryPropertyType_Retail Store                   0\n",
       "PrimaryPropertyType_SPS-District K-12              0\n",
       "PrimaryPropertyType_Small- and Mid-Sized Office    0\n",
       "PrimaryPropertyType_Supermarket/Grocery Store      0\n",
       "PrimaryPropertyType_University                     0\n",
       "PrimaryPropertyType_Warehouse                      0\n",
       "PrimaryPropertyType_Worship Facility               0\n",
       "Neighborhood_BALLARD                               0\n",
       "Neighborhood_CENTRAL                               0\n",
       "Neighborhood_DELRIDGE                              0\n",
       "Neighborhood_DOWNTOWN                              0\n",
       "Neighborhood_EAST                                  0\n",
       "Neighborhood_GREATER DUWAMISH                      0\n",
       "Neighborhood_LAKE UNION                            0\n",
       "Neighborhood_MAGNOLIA / QUEEN ANNE                 0\n",
       "Neighborhood_NORTH                                 0\n",
       "Neighborhood_NORTHEAST                             0\n",
       "Neighborhood_NORTHWEST                             0\n",
       "Neighborhood_SOUTHEAST                             0\n",
       "Neighborhood_SOUTHWEST                             0\n",
       "SiteEnergyUse(kBtu)                                0\n",
       "energy_box_cox                                     0\n",
       "dtype: int64"
      ]
     },
     "execution_count": 57,
     "metadata": {},
     "output_type": "execute_result"
    }
   ],
   "source": [
    "df_test.isnull().sum()"
   ]
  },
  {
   "cell_type": "code",
   "execution_count": 58,
   "id": "a0031c99",
   "metadata": {},
   "outputs": [],
   "source": [
    "df_test['pred_box']=df_test['pred_box'].apply(lambda x : inv_boxcox(x, fitted_lambda))"
   ]
  },
  {
   "cell_type": "code",
   "execution_count": 59,
   "id": "88fa96ec",
   "metadata": {},
   "outputs": [
    {
     "data": {
      "text/plain": [
       "3239530.1054987046"
      ]
     },
     "execution_count": 59,
     "metadata": {},
     "output_type": "execute_result"
    }
   ],
   "source": [
    "median_absolute_error(list(df_test['SiteEnergyUse(kBtu)']), df_test['pred_box'])"
   ]
  },
  {
   "cell_type": "code",
   "execution_count": 60,
   "id": "63494117",
   "metadata": {},
   "outputs": [],
   "source": [
    "df_test['diff_pred_truth']=abs(df_test['SiteEnergyUse(kBtu)']-df_test['pred'])\n",
    "df_test['diff_pred_truth_box']=abs(df_test['SiteEnergyUse(kBtu)']-df_test['pred_box'])"
   ]
  },
  {
   "cell_type": "code",
   "execution_count": 61,
   "id": "9dbca51d",
   "metadata": {},
   "outputs": [
    {
     "name": "stderr",
     "output_type": "stream",
     "text": [
      "/Users/maximedupouy/.pyenv/versions/3.8.6/envs/lewagon/lib/python3.8/site-packages/seaborn/_decorators.py:36: FutureWarning: Pass the following variable as a keyword arg: x. From version 0.12, the only valid positional argument will be `data`, and passing other arguments without an explicit keyword will result in an error or misinterpretation.\n",
      "  warnings.warn(\n",
      "/Users/maximedupouy/.pyenv/versions/3.8.6/envs/lewagon/lib/python3.8/site-packages/seaborn/_decorators.py:36: FutureWarning: Pass the following variable as a keyword arg: x. From version 0.12, the only valid positional argument will be `data`, and passing other arguments without an explicit keyword will result in an error or misinterpretation.\n",
      "  warnings.warn(\n"
     ]
    },
    {
     "data": {
      "image/png": "[encoded data removed]",
      "text/plain": [
       "<Figure size 1296x1008 with 4 Axes>"
      ]
     },
     "metadata": {
      "needs_background": "light"
     },
     "output_type": "display_data"
    }
   ],
   "source": [
    "plt.figure(figsize=(18,14))\n",
    "plt.subplot(421)\n",
    "sns.boxplot(df_test['diff_pred_truth'], color='r')\n",
    "plt.title('difference prediction sans boxcox')\n",
    "plt.subplot(422)\n",
    "sns.boxplot(df_test['diff_pred_truth_box'], color='b')\n",
    "plt.title('difference prediction avec boxcox')\n",
    "plt.subplot(423)\n",
    "sns.histplot(df_test['diff_pred_truth'], color='r')\n",
    "plt.title('difference prediction sans boxcox')\n",
    "plt.subplot(424)\n",
    "sns.histplot(df_test['diff_pred_truth_box'], color='b')\n",
    "plt.title('difference prediction avec boxcox');"
   ]
  },
  {
   "cell_type": "code",
   "execution_count": 62,
   "id": "ec84458d",
   "metadata": {},
   "outputs": [
    {
     "data": {
      "text/plain": [
       "1.3720516348478944"
      ]
     },
     "execution_count": 62,
     "metadata": {},
     "output_type": "execute_result"
    }
   ],
   "source": [
    "df_test['diff_pred_truth_box'].median()/df_test['SiteEnergyUse(kBtu)'].median()"
   ]
  },
  {
   "cell_type": "code",
   "execution_count": 63,
   "id": "1a034bef",
   "metadata": {},
   "outputs": [
    {
     "name": "stderr",
     "output_type": "stream",
     "text": [
      "/Users/maximedupouy/.pyenv/versions/3.8.6/envs/lewagon/lib/python3.8/site-packages/seaborn/_decorators.py:36: FutureWarning: Pass the following variables as keyword args: x, y. From version 0.12, the only valid positional argument will be `data`, and passing other arguments without an explicit keyword will result in an error or misinterpretation.\n",
      "  warnings.warn(\n"
     ]
    },
    {
     "data": {
      "text/plain": [
       "<AxesSubplot:xlabel='SiteEnergyUse(kBtu)'>"
      ]
     },
     "execution_count": 63,
     "metadata": {},
     "output_type": "execute_result"
    },
    {
     "data": {
      "image/png": "[encoded data removed]",
      "text/plain": [
       "<Figure size 1440x720 with 1 Axes>"
      ]
     },
     "metadata": {
      "needs_background": "light"
     },
     "output_type": "display_data"
    }
   ],
   "source": [
    "plt.figure(figsize=(20,10))\n",
    "sns.regplot(y_test, prediction)"
   ]
  },
  {
   "cell_type": "code",
   "execution_count": 64,
   "id": "0ee6bf7c",
   "metadata": {},
   "outputs": [
    {
     "data": {
      "text/html": [
       "<div>\n",
       "<style scoped>\n",
       "    .dataframe tbody tr th:only-of-type {\n",
       "        vertical-align: middle;\n",
       "    }\n",
       "\n",
       "    .dataframe tbody tr th {\n",
       "        vertical-align: top;\n",
       "    }\n",
       "\n",
       "    .dataframe thead th {\n",
       "        text-align: right;\n",
       "    }\n",
       "</style>\n",
       "<table border=\"1\" class=\"dataframe\">\n",
       "  <thead>\n",
       "    <tr style=\"text-align: right;\">\n",
       "      <th></th>\n",
       "      <th>pred</th>\n",
       "      <th>pred_box</th>\n",
       "      <th>NumberofBuildings</th>\n",
       "      <th>NumberofFloors</th>\n",
       "      <th>PropertyGFABuilding(s)</th>\n",
       "      <th>parking_ratio</th>\n",
       "      <th>building_ratio</th>\n",
       "      <th>BuildingAge</th>\n",
       "      <th>BuildingType_NonResidential</th>\n",
       "      <th>BuildingType_SPS-District K-12</th>\n",
       "      <th>...</th>\n",
       "      <th>Neighborhood_MAGNOLIA / QUEEN ANNE</th>\n",
       "      <th>Neighborhood_NORTH</th>\n",
       "      <th>Neighborhood_NORTHEAST</th>\n",
       "      <th>Neighborhood_NORTHWEST</th>\n",
       "      <th>Neighborhood_SOUTHEAST</th>\n",
       "      <th>Neighborhood_SOUTHWEST</th>\n",
       "      <th>SiteEnergyUse(kBtu)</th>\n",
       "      <th>energy_box_cox</th>\n",
       "      <th>diff_pred_truth</th>\n",
       "      <th>diff_pred_truth_box</th>\n",
       "    </tr>\n",
       "  </thead>\n",
       "  <tbody>\n",
       "    <tr>\n",
       "      <th>376</th>\n",
       "      <td>2.095480e+08</td>\n",
       "      <td>5.060323e+06</td>\n",
       "      <td>4.046939</td>\n",
       "      <td>5.395918</td>\n",
       "      <td>35.508272</td>\n",
       "      <td>0.0</td>\n",
       "      <td>0.0</td>\n",
       "      <td>-0.663058</td>\n",
       "      <td>1.0</td>\n",
       "      <td>0.0</td>\n",
       "      <td>...</td>\n",
       "      <td>0.0</td>\n",
       "      <td>0.0</td>\n",
       "      <td>0.0</td>\n",
       "      <td>0.0</td>\n",
       "      <td>0.0</td>\n",
       "      <td>0.0</td>\n",
       "      <td>289149984.0</td>\n",
       "      <td>10.865917</td>\n",
       "      <td>7.960203e+07</td>\n",
       "      <td>2.840897e+08</td>\n",
       "    </tr>\n",
       "  </tbody>\n",
       "</table>\n",
       "<p>1 rows × 44 columns</p>\n",
       "</div>"
      ],
      "text/plain": [
       "             pred      pred_box  NumberofBuildings  NumberofFloors  \\\n",
       "376  2.095480e+08  5.060323e+06           4.046939        5.395918   \n",
       "\n",
       "     PropertyGFABuilding(s)  parking_ratio  building_ratio  BuildingAge  \\\n",
       "376               35.508272            0.0             0.0    -0.663058   \n",
       "\n",
       "     BuildingType_NonResidential  BuildingType_SPS-District K-12  ...  \\\n",
       "376                          1.0                             0.0  ...   \n",
       "\n",
       "     Neighborhood_MAGNOLIA / QUEEN ANNE  Neighborhood_NORTH  \\\n",
       "376                                 0.0                 0.0   \n",
       "\n",
       "     Neighborhood_NORTHEAST  Neighborhood_NORTHWEST  Neighborhood_SOUTHEAST  \\\n",
       "376                     0.0                     0.0                     0.0   \n",
       "\n",
       "     Neighborhood_SOUTHWEST  SiteEnergyUse(kBtu)  energy_box_cox  \\\n",
       "376                     0.0          289149984.0       10.865917   \n",
       "\n",
       "     diff_pred_truth  diff_pred_truth_box  \n",
       "376     7.960203e+07         2.840897e+08  \n",
       "\n",
       "[1 rows x 44 columns]"
      ]
     },
     "execution_count": 64,
     "metadata": {},
     "output_type": "execute_result"
    }
   ],
   "source": [
    "df_test[df_test['diff_pred_truth_box']==df_test['diff_pred_truth_box'].max()]"
   ]
  },
  {
   "cell_type": "code",
   "execution_count": 65,
   "id": "dd42c369",
   "metadata": {},
   "outputs": [
    {
     "data": {
      "text/plain": [
       "6785003.570370143"
      ]
     },
     "execution_count": 65,
     "metadata": {},
     "output_type": "execute_result"
    }
   ],
   "source": [
    "df_test['SiteEnergyUse(kBtu)'].mean()"
   ]
  },
  {
   "cell_type": "markdown",
   "id": "a96dec86",
   "metadata": {},
   "source": [
    "## Test améliorations "
   ]
  },
  {
   "cell_type": "markdown",
   "id": "e54a0e38",
   "metadata": {},
   "source": [
    "### : remove columns with low interest"
   ]
  },
  {
   "cell_type": "code",
   "execution_count": 66,
   "id": "9339f3e4",
   "metadata": {},
   "outputs": [],
   "source": [
    "# Drop features peu impactantes\n",
    "df_energy_features = df_energy.drop(columns=list(features.index[:28]))"
   ]
  },
  {
   "cell_type": "code",
   "execution_count": 67,
   "id": "d149f9dc",
   "metadata": {},
   "outputs": [],
   "source": [
    "X_features = df_energy_features.drop(columns=['SiteEnergyUse(kBtu)','TotalGHGEmissions', 'energy_box_cox'])\n",
    "y_features = df_energy_features['SiteEnergyUse(kBtu)']\n"
   ]
  },
  {
   "cell_type": "code",
   "execution_count": 68,
   "id": "0194c5f4",
   "metadata": {},
   "outputs": [
    {
     "name": "stdout",
     "output_type": "stream",
     "text": [
      "score RandomForestRegressor() : 0.08\n",
      "MAE RandomForestRegressor() : -7032333.2\n",
      "RMSE RandomForestRegressor() : -15253144.08\n",
      "r2 RandomForestRegressor() : -0.45\n"
     ]
    }
   ],
   "source": [
    "model = RandomForestRegressor()\n",
    "res = cross_validate(model, X_features, y_features, cv = 5, scoring=scoring)\n",
    "\n",
    "randomforest_scores_f = {\n",
    "    'time': round(res['fit_time'].mean(),2), \n",
    "    'MAE' : round(res['test_neg_mean_absolute_error'].mean(), 2), \n",
    "    'RMSE' : round(res['test_neg_root_mean_squared_error'].mean(),2),\n",
    "    'r2': round(res['test_r2'].mean(),2)\n",
    "}\n",
    "\n",
    "print(f\"score {model} : {randomforest_scores_f['time']}\")\n",
    "print(f\"MAE {model} : {randomforest_scores_f['MAE']}\")\n",
    "print(f\"RMSE {model} : {randomforest_scores_f['RMSE']}\")\n",
    "print(f\"r2 {model} : {randomforest_scores_f['r2']}\")"
   ]
  },
  {
   "cell_type": "code",
   "execution_count": 69,
   "id": "9549d46f",
   "metadata": {},
   "outputs": [
    {
     "data": {
      "text/plain": [
       "{'time': 0.08, 'MAE': -7032333.2, 'RMSE': -15253144.08, 'r2': -0.45}"
      ]
     },
     "execution_count": 69,
     "metadata": {},
     "output_type": "execute_result"
    }
   ],
   "source": [
    "randomforest_scores_f"
   ]
  },
  {
   "cell_type": "code",
   "execution_count": 70,
   "id": "3186740b",
   "metadata": {},
   "outputs": [],
   "source": [
    "# Clairement nul !"
   ]
  },
  {
   "cell_type": "markdown",
   "id": "a69ebc7f",
   "metadata": {},
   "source": [
    "### Remove outliers"
   ]
  },
  {
   "cell_type": "code",
   "execution_count": 71,
   "id": "691cac9a",
   "metadata": {},
   "outputs": [],
   "source": [
    "def remove_outlier(df_in, col_name):\n",
    "    q1 = df_in[col_name].quantile(0.15)\n",
    "    q3 = df_in[col_name].quantile(0.85)\n",
    "    iqr = q3-q1 #Interquartile range\n",
    "    fence_low  = q1-1.5*iqr\n",
    "    fence_high = q3+1.5*iqr\n",
    "    df_out = df_in.loc[(df_in[col_name] > fence_low) & (df_in[col_name] < fence_high)]\n",
    "    return df_out"
   ]
  },
  {
   "cell_type": "code",
   "execution_count": 72,
   "id": "5e37c775",
   "metadata": {},
   "outputs": [
    {
     "data": {
      "text/plain": [
       "0.9502696225284601"
      ]
     },
     "execution_count": 72,
     "metadata": {},
     "output_type": "execute_result"
    }
   ],
   "source": [
    "df_energy_without_outliers = remove_outlier(df_energy, 'SiteEnergyUse(kBtu)')\n",
    "len(df_energy_without_outliers)/len(df_energy)"
   ]
  },
  {
   "cell_type": "code",
   "execution_count": 73,
   "id": "38b2acc7",
   "metadata": {},
   "outputs": [
    {
     "name": "stdout",
     "output_type": "stream",
     "text": [
      "score RandomForestRegressor() : 0.41\n",
      "MAE RandomForestRegressor() : -1973998.98\n",
      "RMSE RandomForestRegressor() : -3082121.25\n",
      "r2 RandomForestRegressor() : 0.5\n",
      "______\n",
      "score RandomForestRegressor() : 0.39\n",
      "MAE RandomForestRegressor() : -0.25\n",
      "RMSE RandomForestRegressor() : -0.36\n",
      "r2 RandomForestRegressor() : 0.43\n"
     ]
    }
   ],
   "source": [
    "X_outliers = df_energy_without_outliers.drop(columns=['SiteEnergyUse(kBtu)','TotalGHGEmissions', 'energy_box_cox'])\n",
    "y_outliers = df_energy_without_outliers['SiteEnergyUse(kBtu)']\n",
    "y_outliers_box=df_energy_without_outliers['energy_box_cox']\n",
    "\n",
    "model = RandomForestRegressor()\n",
    "model_box = RandomForestRegressor()\n",
    "randomforest_scores_f = training(model, X_outliers, y_outliers )\n",
    "randomforest_scores_f_box = training(model_box, X_outliers, y_outliers_box)\n",
    "\n",
    "\n",
    "print(f\"score {model} : {randomforest_scores_f['time']}\")\n",
    "print(f\"MAE {model} : {randomforest_scores_f['MAE']}\")\n",
    "print(f\"RMSE {model} : {randomforest_scores_f['RMSE']}\")\n",
    "print(f\"r2 {model} : {randomforest_scores_f['r2']}\")\n",
    "print('______')\n",
    "print(f\"score {model} : {randomforest_scores_f_box['time']}\")\n",
    "print(f\"MAE {model} : {randomforest_scores_f_box['MAE']}\")\n",
    "print(f\"RMSE {model} : {randomforest_scores_f_box['RMSE']}\")\n",
    "print(f\"r2 {model} : {randomforest_scores_f_box['r2']}\")"
   ]
  },
  {
   "cell_type": "code",
   "execution_count": 74,
   "id": "ad522504",
   "metadata": {},
   "outputs": [
    {
     "data": {
      "text/plain": [
       "<AxesSubplot:xlabel='energy_box_cox', ylabel='Count'>"
      ]
     },
     "execution_count": 74,
     "metadata": {},
     "output_type": "execute_result"
    },
    {
     "data": {
      "image/png": "[encoded data removed]",
      "text/plain": [
       "<Figure size 432x288 with 1 Axes>"
      ]
     },
     "metadata": {
      "needs_background": "light"
     },
     "output_type": "display_data"
    }
   ],
   "source": [
    "sns.histplot(y_outliers_box)"
   ]
  },
  {
   "cell_type": "code",
   "execution_count": 75,
   "id": "04a7581a",
   "metadata": {},
   "outputs": [],
   "source": [
    "# Permet d'obternir les meilleurs résultats sans gridsearch !"
   ]
  },
  {
   "cell_type": "markdown",
   "id": "8afb6fa5",
   "metadata": {},
   "source": [
    "## EnergyStarScore impact?"
   ]
  },
  {
   "cell_type": "code",
   "execution_count": 76,
   "id": "5e3e01a2",
   "metadata": {},
   "outputs": [
    {
     "data": {
      "text/plain": [
       "NumberofBuildings                                    0\n",
       "NumberofFloors                                       0\n",
       "PropertyGFABuilding(s)                               0\n",
       "ENERGYSTARScore                                    523\n",
       "SiteEnergyUse(kBtu)                                  0\n",
       "TotalGHGEmissions                                    0\n",
       "parking_ratio                                        0\n",
       "building_ratio                                       0\n",
       "BuildingAge                                          0\n",
       "BuildingType_NonResidential                          0\n",
       "BuildingType_SPS-District K-12                       0\n",
       "PrimaryPropertyType_Distribution Center              0\n",
       "PrimaryPropertyType_Hospital                         0\n",
       "PrimaryPropertyType_Hotel                            0\n",
       "PrimaryPropertyType_Large Office                     0\n",
       "PrimaryPropertyType_Low-Rise Multifamily             0\n",
       "PrimaryPropertyType_Medical Office                   0\n",
       "PrimaryPropertyType_Mixed Use Property               0\n",
       "PrimaryPropertyType_Refrigerated Warehouse           0\n",
       "PrimaryPropertyType_Residence Hall/Dormitory         0\n",
       "PrimaryPropertyType_Restaurant                       0\n",
       "PrimaryPropertyType_Retail Store                     0\n",
       "PrimaryPropertyType_SPS-District K-12                0\n",
       "PrimaryPropertyType_Small- and Mid-Sized Office      0\n",
       "PrimaryPropertyType_Supermarket/Grocery Store        0\n",
       "PrimaryPropertyType_University                       0\n",
       "PrimaryPropertyType_Warehouse                        0\n",
       "PrimaryPropertyType_Worship Facility                 0\n",
       "Neighborhood_BALLARD                                 0\n",
       "Neighborhood_CENTRAL                                 0\n",
       "Neighborhood_DELRIDGE                                0\n",
       "Neighborhood_DOWNTOWN                                0\n",
       "Neighborhood_EAST                                    0\n",
       "Neighborhood_GREATER DUWAMISH                        0\n",
       "Neighborhood_LAKE UNION                              0\n",
       "Neighborhood_MAGNOLIA / QUEEN ANNE                   0\n",
       "Neighborhood_NORTH                                   0\n",
       "Neighborhood_NORTHEAST                               0\n",
       "Neighborhood_NORTHWEST                               0\n",
       "Neighborhood_SOUTHEAST                               0\n",
       "Neighborhood_SOUTHWEST                               0\n",
       "energy_box_cox                                       0\n",
       "dtype: int64"
      ]
     },
     "execution_count": 76,
     "metadata": {},
     "output_type": "execute_result"
    }
   ],
   "source": [
    "df_energy_full.isnull().sum()"
   ]
  },
  {
   "cell_type": "code",
   "execution_count": 77,
   "id": "742180ec",
   "metadata": {},
   "outputs": [
    {
     "name": "stdout",
     "output_type": "stream",
     "text": [
      "score RandomForestRegressor() : 0.35\n",
      "MAE RandomForestRegressor() : -3620059.41\n",
      "RMSE RandomForestRegressor() : -12467529.88\n",
      "r2 RandomForestRegressor() : 0.4\n",
      "______\n",
      "score RandomForestRegressor() : 0.32\n",
      "MAE RandomForestRegressor() : -0.17\n",
      "RMSE RandomForestRegressor() : -0.25\n",
      "r2 RandomForestRegressor() : 0.74\n"
     ]
    }
   ],
   "source": [
    "df_energy_full_=df_energy_full[~df_energy_full['ENERGYSTARScore'].isna()]\n",
    "X_stars = df_energy_full_.drop(columns=['SiteEnergyUse(kBtu)','TotalGHGEmissions', 'energy_box_cox'])\n",
    "y_stars = df_energy_full_['SiteEnergyUse(kBtu)']\n",
    "y_stars_box = df_energy_full_['energy_box_cox']\n",
    "\n",
    "model = RandomForestRegressor()\n",
    "model_box = RandomForestRegressor()\n",
    "randomforest_scores_f = training(model, X_stars, y_stars )\n",
    "randomforest_scores_f_box = training(model_box, X_stars, y_stars_box)\n",
    "\n",
    "\n",
    "print(f\"score {model} : {randomforest_scores_f['time']}\")\n",
    "print(f\"MAE {model} : {randomforest_scores_f['MAE']}\")\n",
    "print(f\"RMSE {model} : {randomforest_scores_f['RMSE']}\")\n",
    "print(f\"r2 {model} : {randomforest_scores_f['r2']}\")\n",
    "print('______')\n",
    "print(f\"score {model} : {randomforest_scores_f_box['time']}\")\n",
    "print(f\"MAE {model} : {randomforest_scores_f_box['MAE']}\")\n",
    "print(f\"RMSE {model} : {randomforest_scores_f_box['RMSE']}\")\n",
    "print(f\"r2 {model} : {randomforest_scores_f_box['r2']}\")"
   ]
  },
  {
   "cell_type": "code",
   "execution_count": 78,
   "id": "d5694e52",
   "metadata": {},
   "outputs": [
    {
     "data": {
      "text/plain": [
       "0.37884267631103075"
      ]
     },
     "execution_count": 78,
     "metadata": {},
     "output_type": "execute_result"
    }
   ],
   "source": [
    "adjusted_r_squarred(randomforest_scores_f['r2'], X_stars, y_stars)"
   ]
  },
  {
   "cell_type": "code",
   "execution_count": 79,
   "id": "78fca8bc",
   "metadata": {},
   "outputs": [
    {
     "data": {
      "text/plain": [
       "0.7308318264014466"
      ]
     },
     "execution_count": 79,
     "metadata": {},
     "output_type": "execute_result"
    }
   ],
   "source": [
    "adjusted_r_squarred(randomforest_scores_f_box['r2'], X_stars, y_stars_box)"
   ]
  },
  {
   "cell_type": "code",
   "execution_count": 80,
   "id": "6dd509df",
   "metadata": {},
   "outputs": [
    {
     "name": "stdout",
     "output_type": "stream",
     "text": [
      "score RandomForestRegressor() : 0.32\n",
      "MAE RandomForestRegressor() : -4002509.9\n",
      "RMSE RandomForestRegressor() : -12501646.83\n",
      "r2 RandomForestRegressor() : 0.48\n",
      "______\n",
      "score RandomForestRegressor() : 0.29\n",
      "MAE RandomForestRegressor() : -0.22\n",
      "RMSE RandomForestRegressor() : -0.32\n",
      "r2 RandomForestRegressor() : 0.59\n"
     ]
    }
   ],
   "source": [
    "X_without_stars = df_energy_full.drop(columns=['SiteEnergyUse(kBtu)','TotalGHGEmissions', 'ENERGYSTARScore','energy_box_cox' ])\n",
    "y_without_stars = df_energy_full['SiteEnergyUse(kBtu)']\n",
    "y_without_stars_box = df_energy_full['energy_box_cox']\n",
    "\n",
    "\n",
    "model = RandomForestRegressor()\n",
    "model_box = RandomForestRegressor()\n",
    "randomforest_scores_f = training(model, X_without_stars, y_without_stars )\n",
    "randomforest_scores_f_box = training(model_box, X_without_stars, y_without_stars_box)\n",
    "\n",
    "\n",
    "print(f\"score {model} : {randomforest_scores_f['time']}\")\n",
    "print(f\"MAE {model} : {randomforest_scores_f['MAE']}\")\n",
    "print(f\"RMSE {model} : {randomforest_scores_f['RMSE']}\")\n",
    "print(f\"r2 {model} : {randomforest_scores_f['r2']}\")\n",
    "print('______')\n",
    "print(f\"score {model} : {randomforest_scores_f_box['time']}\")\n",
    "print(f\"MAE {model} : {randomforest_scores_f_box['MAE']}\")\n",
    "print(f\"RMSE {model} : {randomforest_scores_f_box['RMSE']}\")\n",
    "print(f\"r2 {model} : {randomforest_scores_f_box['r2']}\")"
   ]
  },
  {
   "cell_type": "code",
   "execution_count": 81,
   "id": "37b9dd3b",
   "metadata": {},
   "outputs": [
    {
     "data": {
      "text/plain": [
       "0.4621499548328817"
      ]
     },
     "execution_count": 81,
     "metadata": {},
     "output_type": "execute_result"
    }
   ],
   "source": [
    "adjusted_r_squarred(randomforest_scores_f['r2'], X_without_stars, y_without_stars)"
   ]
  },
  {
   "cell_type": "code",
   "execution_count": 82,
   "id": "f8ad311f",
   "metadata": {},
   "outputs": [
    {
     "data": {
      "text/plain": [
       "0.575925925925926"
      ]
     },
     "execution_count": 82,
     "metadata": {},
     "output_type": "execute_result"
    }
   ],
   "source": [
    "adjusted_r_squarred(randomforest_scores_f_box['r2'], X_without_stars, y_without_stars_box)"
   ]
  },
  {
   "cell_type": "code",
   "execution_count": 83,
   "id": "33bf04e3",
   "metadata": {},
   "outputs": [],
   "source": [
    "#l'EnergieStarScore semble aveoir un impact APRES boxcox 🧐"
   ]
  },
  {
   "cell_type": "markdown",
   "id": "f18da12d",
   "metadata": {},
   "source": [
    "## Methode avec KNN imputer"
   ]
  },
  {
   "cell_type": "code",
   "execution_count": 207,
   "id": "364fed9b",
   "metadata": {},
   "outputs": [],
   "source": [
    "X_knn = df_energy_full.drop(columns=['SiteEnergyUse(kBtu)','TotalGHGEmissions', 'energy_box_cox'])\n",
    "X_knn_without_star = df_energy_full.drop(columns=['SiteEnergyUse(kBtu)','TotalGHGEmissions', 'energy_box_cox', 'ENERGYSTARScore'])\n",
    "y_boxcox_knn = df_energy_full['energy_box_cox']"
   ]
  },
  {
   "cell_type": "code",
   "execution_count": 208,
   "id": "82a0083e",
   "metadata": {},
   "outputs": [],
   "source": [
    "from sklearn.impute import KNNImputer"
   ]
  },
  {
   "cell_type": "code",
   "execution_count": 209,
   "id": "6f04d549",
   "metadata": {},
   "outputs": [],
   "source": [
    "#fit on the dataset\n",
    "imputer = KNNImputer(n_neighbors=5)\n",
    "X_knn=imputer.fit_transform(X_knn)\n",
    "\n",
    "# transform the dataset\n",
    "#Xtrans = imputer.transform(X)"
   ]
  },
  {
   "cell_type": "code",
   "execution_count": 210,
   "id": "9f353638",
   "metadata": {},
   "outputs": [],
   "source": [
    "model = RandomForestRegressor()\n",
    "randomforest_scores_star = training(model, X_knn, y_boxcox_knn)\n",
    "model = RandomForestRegressor()\n",
    "randomforest_scores_w_star = training(model_box, X_knn_without_star, y_boxcox_knn)"
   ]
  },
  {
   "cell_type": "code",
   "execution_count": 211,
   "id": "a1a9dd73",
   "metadata": {},
   "outputs": [
    {
     "name": "stdout",
     "output_type": "stream",
     "text": [
      "score RandomForestRegressor() : 0.48\n",
      "MAE RandomForestRegressor() : -0.23\n",
      "RMSE RandomForestRegressor() : -0.32\n",
      "r2 RandomForestRegressor() : 0.6\n",
      "______\n",
      "score RandomForestRegressor() : 0.41\n",
      "MAE RandomForestRegressor() : -0.26\n",
      "RMSE RandomForestRegressor() : -0.36\n",
      "r2 RandomForestRegressor() : 0.5\n"
     ]
    }
   ],
   "source": [
    "print(f\"score {model} : {randomforest_scores_star['time']}\")\n",
    "print(f\"MAE {model} : {randomforest_scores_star['MAE']}\")\n",
    "print(f\"RMSE {model} : {randomforest_scores_star['RMSE']}\")\n",
    "print(f\"r2 {model} : {randomforest_scores_star['r2']}\")\n",
    "print('______')\n",
    "print(f\"score {model} : {randomforest_scores_w_star['time']}\")\n",
    "print(f\"MAE {model} : {randomforest_scores_w_star['MAE']}\")\n",
    "print(f\"RMSE {model} : {randomforest_scores_w_star['RMSE']}\")\n",
    "print(f\"r2 {model} : {randomforest_scores_w_star['r2']}\")"
   ]
  },
  {
   "cell_type": "code",
   "execution_count": 212,
   "id": "bfff7a23",
   "metadata": {},
   "outputs": [
    {
     "data": {
      "text/plain": [
       "0.5904235727440147"
      ]
     },
     "execution_count": 212,
     "metadata": {},
     "output_type": "execute_result"
    }
   ],
   "source": [
    "adjusted_r_squarred(randomforest_scores_star['r2'], X_knn, y_boxcox_knn)"
   ]
  },
  {
   "cell_type": "code",
   "execution_count": 213,
   "id": "aa07cd92",
   "metadata": {},
   "outputs": [
    {
     "data": {
      "text/plain": [
       "0.4880294659300184"
      ]
     },
     "execution_count": 213,
     "metadata": {},
     "output_type": "execute_result"
    }
   ],
   "source": [
    "adjusted_r_squarred(randomforest_scores_w_star['r2'], X_knn, y_boxcox_knn)"
   ]
  },
  {
   "cell_type": "markdown",
   "id": "a30b2609",
   "metadata": {},
   "source": [
    "# Emission "
   ]
  },
  {
   "cell_type": "code",
   "execution_count": 214,
   "id": "8da958f6",
   "metadata": {},
   "outputs": [],
   "source": [
    "df_emission = df.copy(deep=True)"
   ]
  },
  {
   "cell_type": "markdown",
   "id": "2c661c97",
   "metadata": {},
   "source": [
    "## Derniers ajustements"
   ]
  },
  {
   "cell_type": "code",
   "execution_count": 215,
   "id": "84865547",
   "metadata": {},
   "outputs": [
    {
     "data": {
      "text/plain": [
       "<AxesSubplot:xlabel='TotalGHGEmissions', ylabel='Count'>"
      ]
     },
     "execution_count": 215,
     "metadata": {},
     "output_type": "execute_result"
    },
    {
     "data": {
      "image/png": "[encoded data removed]",
      "text/plain": [
       "<Figure size 432x288 with 1 Axes>"
      ]
     },
     "metadata": {
      "needs_background": "light"
     },
     "output_type": "display_data"
    }
   ],
   "source": [
    "sns.histplot(df_emission['TotalGHGEmissions'])"
   ]
  },
  {
   "cell_type": "code",
   "execution_count": 216,
   "id": "b6ba708d",
   "metadata": {},
   "outputs": [
    {
     "name": "stderr",
     "output_type": "stream",
     "text": [
      "/Users/maximedupouy/.pyenv/versions/3.8.6/envs/lewagon/lib/python3.8/site-packages/seaborn/distributions.py:2557: FutureWarning: `distplot` is a deprecated function and will be removed in a future version. Please adapt your code to use either `displot` (a figure-level function with similar flexibility) or `kdeplot` (an axes-level function for kernel density plots).\n",
      "  warnings.warn(msg, FutureWarning)\n",
      "/Users/maximedupouy/.pyenv/versions/3.8.6/envs/lewagon/lib/python3.8/site-packages/seaborn/distributions.py:2557: FutureWarning: `distplot` is a deprecated function and will be removed in a future version. Please adapt your code to use either `displot` (a figure-level function with similar flexibility) or `kdeplot` (an axes-level function for kernel density plots).\n",
      "  warnings.warn(msg, FutureWarning)\n"
     ]
    },
    {
     "data": {
      "image/png": "[encoded data removed]",
      "text/plain": [
       "<Figure size 720x360 with 2 Axes>"
      ]
     },
     "metadata": {
      "needs_background": "light"
     },
     "output_type": "display_data"
    },
    {
     "name": "stdout",
     "output_type": "stream",
     "text": [
      "Lambda value used for Transformation: 0.01917816976224552\n"
     ]
    }
   ],
   "source": [
    "fitted_data, fitted_lambda = box_cot(df_emission['TotalGHGEmissions'])\n",
    "df_emission['boxcox_emission']=fitted_data"
   ]
  },
  {
   "cell_type": "code",
   "execution_count": 217,
   "id": "e5261fbe",
   "metadata": {},
   "outputs": [
    {
     "data": {
      "text/plain": [
       "<AxesSubplot:xlabel='boxcox_emission', ylabel='Count'>"
      ]
     },
     "execution_count": 217,
     "metadata": {},
     "output_type": "execute_result"
    },
    {
     "data": {
      "image/png": "[encoded data removed]",
      "text/plain": [
       "<Figure size 432x288 with 1 Axes>"
      ]
     },
     "metadata": {
      "needs_background": "light"
     },
     "output_type": "display_data"
    }
   ],
   "source": [
    "sns.histplot(df_emission['boxcox_emission'])"
   ]
  },
  {
   "cell_type": "code",
   "execution_count": 218,
   "id": "d249906d",
   "metadata": {},
   "outputs": [],
   "source": [
    "df_emission=df_emission.drop(columns=['Latitude', 'Longitude', 'OSEBuildingID'])"
   ]
  },
  {
   "cell_type": "code",
   "execution_count": 219,
   "id": "43baff02",
   "metadata": {},
   "outputs": [],
   "source": [
    "# drop energystar score for my primary approch\n",
    "df_emission_full = df_emission.copy()\n",
    "df_emission = df_emission_full.drop(columns=['ENERGYSTARScore'])"
   ]
  },
  {
   "cell_type": "markdown",
   "id": "f0f5188d",
   "metadata": {},
   "source": [
    "## Prepare X & y"
   ]
  },
  {
   "cell_type": "code",
   "execution_count": 94,
   "id": "cb830c6c",
   "metadata": {},
   "outputs": [],
   "source": [
    "X = df_emission.drop(columns=['SiteEnergyUse(kBtu)','TotalGHGEmissions', 'boxcox_emission'])\n",
    "y = df_emission['TotalGHGEmissions']\n",
    "y_boxcox = df_emission['boxcox_emission']\n",
    "\n",
    "X_train, X_test, y_train, y_test = train_test_split(X, y, random_state=0)\n",
    "X_train_box, X_test_box, y_train_box, y_test_box = train_test_split(X, y_boxcox, random_state=0)"
   ]
  },
  {
   "cell_type": "markdown",
   "id": "bfdc349f",
   "metadata": {},
   "source": [
    "## Baseline"
   ]
  },
  {
   "cell_type": "code",
   "execution_count": 95,
   "id": "655179b0",
   "metadata": {},
   "outputs": [
    {
     "name": "stdout",
     "output_type": "stream",
     "text": [
      "mae : 39.135000000000005\n",
      "rmse : 405.1517503942048\n",
      "r2 : -0.08016391186436533\n",
      "mdape : 78.9512243419167\n"
     ]
    }
   ],
   "source": [
    "dummy_regr_median = DummyRegressor(strategy=\"median\")\n",
    "\n",
    "dummy_regr_median.fit(X_train, y_train)\n",
    "y_predict_dummy_median = dummy_regr_median.predict(X_test)\n",
    "print(f'mae : {median_absolute_error(y_test,y_predict_dummy_median)}')\n",
    "print(f'rmse : {mean_squared_error(y_test,y_predict_dummy_median)**0.5}')\n",
    "print(f'r2 : {r2_score(y_test,y_predict_dummy_median)}')\n",
    "print(f'mdape : {calcul_mdape(y_test,y_predict_dummy_median)}')\n"
   ]
  },
  {
   "cell_type": "code",
   "execution_count": 96,
   "id": "6f27f460",
   "metadata": {},
   "outputs": [
    {
     "data": {
      "text/plain": [
       "48.755"
      ]
     },
     "execution_count": 96,
     "metadata": {},
     "output_type": "execute_result"
    }
   ],
   "source": [
    "y.median()"
   ]
  },
  {
   "cell_type": "markdown",
   "id": "ce4e382d",
   "metadata": {},
   "source": [
    "## models evaluation :"
   ]
  },
  {
   "cell_type": "markdown",
   "id": "fe7afdf8",
   "metadata": {},
   "source": [
    "### Linear Reg"
   ]
  },
  {
   "cell_type": "code",
   "execution_count": 97,
   "id": "8926b523",
   "metadata": {},
   "outputs": [
    {
     "name": "stdout",
     "output_type": "stream",
     "text": [
      "score linear regression : 0.01\n",
      "MAE linear regression : -16967317056.38\n",
      "RMSE linear regression : -296823730065.46\n",
      "r2 linear regression : -3.3538626421060106e+18\n"
     ]
    }
   ],
   "source": [
    "from sklearn.linear_model import LinearRegression\n",
    "model = 'linear regression'\n",
    "\n",
    "lr = LinearRegression()\n",
    "lr_scores = training(lr, X, y)\n",
    "\n",
    "print(f\"score {model} : {lr_scores['time']}\")\n",
    "print(f\"MAE {model} : {lr_scores['MAE']}\")\n",
    "print(f\"RMSE {model} : {lr_scores['RMSE']}\")\n",
    "print(f\"r2 {model} : {lr_scores['r2']}\")"
   ]
  },
  {
   "cell_type": "code",
   "execution_count": 98,
   "id": "19a3a6f3",
   "metadata": {},
   "outputs": [
    {
     "name": "stdout",
     "output_type": "stream",
     "text": [
      "score linear regression : 0.01\n",
      "MAE linear regression : -46426584.56\n",
      "RMSE linear regression : -812179779.38\n",
      "r2 linear regression : -1.3764798219541417e+18\n"
     ]
    }
   ],
   "source": [
    "from sklearn.linear_model import LinearRegression\n",
    "model = 'linear regression'\n",
    "\n",
    "lr = LinearRegression()\n",
    "lr_scores_box = training(lr, X, y_boxcox)\n",
    "\n",
    "print(f\"score {model} : {lr_scores_box['time']}\")\n",
    "print(f\"MAE {model} : {lr_scores_box['MAE']}\")\n",
    "print(f\"RMSE {model} : {lr_scores_box['RMSE']}\")\n",
    "print(f\"r2 {model} : {lr_scores_box['r2']}\")"
   ]
  },
  {
   "cell_type": "markdown",
   "id": "1c22fdd6",
   "metadata": {},
   "source": [
    "### Random Forest"
   ]
  },
  {
   "cell_type": "code",
   "execution_count": 99,
   "id": "7de58646",
   "metadata": {},
   "outputs": [
    {
     "name": "stdout",
     "output_type": "stream",
     "text": [
      "best_score : -105.6340330324761,\n",
      " best_params : {'max_depth': 20, 'min_samples_leaf': 2, 'min_samples_split': 2, 'n_estimators': 100},\n",
      " best_estimator : RandomForestRegressor(max_depth=20, min_samples_leaf=2)\n"
     ]
    }
   ],
   "source": [
    "from sklearn.ensemble import RandomForestRegressor\n",
    "\n",
    "model = RandomForestRegressor()\n",
    "grid = {'n_estimators': [50,100, 200, 300, 500], \n",
    "        'min_samples_split':[2, 5, 10],\n",
    "       'min_samples_leaf':[1, 2, 4],\n",
    "       'max_depth':[10, 20, 30, 40]}\n",
    "\n",
    "reboot =True #mettre à True pour relancer gridsearch\n",
    "if reboot :\n",
    "    best_score,best_params,best_estimator= search = grid_search(model, grid, 'neg_mean_absolute_error', X,y)\n",
    "    print(f'best_score : {best_score},\\n best_params : {best_params},\\n best_estimator : {best_estimator}')"
   ]
  },
  {
   "cell_type": "code",
   "execution_count": 100,
   "id": "4546b4d5",
   "metadata": {},
   "outputs": [
    {
     "name": "stdout",
     "output_type": "stream",
     "text": [
      "score RandomForestRegressor(max_depth=40, min_samples_leaf=2, n_estimators=50) : 0.2\n",
      "MAE RandomForestRegressor(max_depth=40, min_samples_leaf=2, n_estimators=50) : -109.43\n",
      "RMSE RandomForestRegressor(max_depth=40, min_samples_leaf=2, n_estimators=50) : -311.9\n",
      "r2 RandomForestRegressor(max_depth=40, min_samples_leaf=2, n_estimators=50) : 0.4\n"
     ]
    }
   ],
   "source": [
    "model = RandomForestRegressor(\n",
    "n_estimators= 50,\n",
    "    max_depth=40,\n",
    "    min_samples_split=2,\n",
    "    min_samples_leaf=2,)\n",
    "randomforest_scores = training(model, X, y)\n",
    "\n",
    "print(f\"score {model} : {randomforest_scores['time']}\")\n",
    "print(f\"MAE {model} : {randomforest_scores['MAE']}\")\n",
    "print(f\"RMSE {model} : {randomforest_scores['RMSE']}\")\n",
    "print(f\"r2 {model} : {randomforest_scores['r2']}\")"
   ]
  },
  {
   "cell_type": "code",
   "execution_count": 101,
   "id": "af969430",
   "metadata": {},
   "outputs": [
    {
     "name": "stdout",
     "output_type": "stream",
     "text": [
      "score RandomForestRegressor() : 0.43\n",
      "MAE RandomForestRegressor() : -0.91\n",
      "RMSE RandomForestRegressor() : -1.19\n",
      "r2 RandomForestRegressor() : 0.32\n"
     ]
    }
   ],
   "source": [
    "model = RandomForestRegressor()\n",
    "randomforest_scores_boxcox = training(model, X, y_boxcox)\n",
    "\n",
    "print(f\"score {model} : {randomforest_scores_boxcox['time']}\")\n",
    "print(f\"MAE {model} : {randomforest_scores_boxcox['MAE']}\")\n",
    "print(f\"RMSE {model} : {randomforest_scores_boxcox['RMSE']}\")\n",
    "print(f\"r2 {model} : {randomforest_scores_boxcox['r2']}\")"
   ]
  },
  {
   "cell_type": "code",
   "execution_count": 102,
   "id": "218a44e1",
   "metadata": {},
   "outputs": [
    {
     "data": {
      "image/png": "[encoded data removed]",
      "text/plain": [
       "<Figure size 432x288 with 1 Axes>"
      ]
     },
     "metadata": {
      "needs_background": "light"
     },
     "output_type": "display_data"
    }
   ],
   "source": [
    "learning_curves(model, X, y_boxcox, train_sizes)"
   ]
  },
  {
   "cell_type": "markdown",
   "id": "81775d79",
   "metadata": {},
   "source": [
    "### XGBOOST"
   ]
  },
  {
   "cell_type": "code",
   "execution_count": 103,
   "id": "59f1672a",
   "metadata": {},
   "outputs": [
    {
     "name": "stdout",
     "output_type": "stream",
     "text": [
      "best_score : -101.55904453149259,\n",
      " best_params : {'min_samples_leaf': 2, 'min_samples_split': 2, 'n_estimators': 100},\n",
      " best_estimator : GradientBoostingRegressor(min_samples_leaf=2)\n"
     ]
    }
   ],
   "source": [
    "from sklearn.ensemble import GradientBoostingRegressor\n",
    "model = GradientBoostingRegressor()\n",
    "grid = {'n_estimators': [50,100, 200, 300, 500], \n",
    "        'min_samples_split':[2, 5, 10],\n",
    "       'min_samples_leaf':[1, 2, 4]}\n",
    "\n",
    "reboot =True #mettre à True pour relancer gridsearch\n",
    "if reboot :\n",
    "    best_score,best_params,best_estimator= search = grid_search(model, grid, 'neg_mean_absolute_error', X,y)\n",
    "    print(f'best_score : {best_score},\\n best_params : {best_params},\\n best_estimator : {best_estimator}')"
   ]
  },
  {
   "cell_type": "code",
   "execution_count": 104,
   "id": "11ae9453",
   "metadata": {},
   "outputs": [
    {
     "name": "stdout",
     "output_type": "stream",
     "text": [
      "score GradientBoostingRegressor(min_samples_leaf=2, min_samples_split=5,\n",
      "                          n_estimators=5) : 0.01\n",
      "MAE GradientBoostingRegressor(min_samples_leaf=2, min_samples_split=5,\n",
      "                          n_estimators=5) : -150.3\n",
      "RMSE GradientBoostingRegressor(min_samples_leaf=2, min_samples_split=5,\n",
      "                          n_estimators=5) : -372.5\n",
      "r2 GradientBoostingRegressor(min_samples_leaf=2, min_samples_split=5,\n",
      "                          n_estimators=5) : 0.22\n"
     ]
    }
   ],
   "source": [
    "model = GradientBoostingRegressor(\n",
    "min_samples_leaf= 2,\n",
    "min_samples_split=5,\n",
    "n_estimators=5\n",
    ")\n",
    "XGBOST_scores = training(model, X, y)\n",
    "\n",
    "print(f\"score {model} : {XGBOST_scores['time']}\")\n",
    "print(f\"MAE {model} : {XGBOST_scores['MAE']}\")\n",
    "print(f\"RMSE {model} : {XGBOST_scores['RMSE']}\")\n",
    "print(f\"r2 {model} : {XGBOST_scores['r2']}\")"
   ]
  },
  {
   "cell_type": "code",
   "execution_count": 105,
   "id": "9bfc0fcf",
   "metadata": {},
   "outputs": [
    {
     "name": "stdout",
     "output_type": "stream",
     "text": [
      "score GradientBoostingRegressor(min_samples_leaf=2, n_estimators=180) : 0.2\n",
      "MAE GradientBoostingRegressor(min_samples_leaf=2, n_estimators=180) : -0.89\n",
      "RMSE GradientBoostingRegressor(min_samples_leaf=2, n_estimators=180) : -1.16\n",
      "r2 GradientBoostingRegressor(min_samples_leaf=2, n_estimators=180) : 0.37\n"
     ]
    }
   ],
   "source": [
    "#target boxcox\n",
    "model = GradientBoostingRegressor(\n",
    "    n_estimators= 180,\n",
    "    min_samples_split=2,\n",
    "    min_samples_leaf=2,)\n",
    "XGBOST_scores_boxcox = training(model, X, y_boxcox)\n",
    "\n",
    "print(f\"score {model} : {XGBOST_scores_boxcox['time']}\")\n",
    "print(f\"MAE {model} : {XGBOST_scores_boxcox['MAE']}\")\n",
    "print(f\"RMSE {model} : {XGBOST_scores_boxcox['RMSE']}\")\n",
    "print(f\"r2 {model} : {XGBOST_scores_boxcox['r2']}\")"
   ]
  },
  {
   "cell_type": "code",
   "execution_count": 106,
   "id": "37486634",
   "metadata": {},
   "outputs": [
    {
     "data": {
      "image/png": "[encoded data removed]",
      "text/plain": [
       "<Figure size 432x288 with 1 Axes>"
      ]
     },
     "metadata": {
      "needs_background": "light"
     },
     "output_type": "display_data"
    }
   ],
   "source": [
    "learning_curves(model, X, y_boxcox, train_sizes)"
   ]
  },
  {
   "cell_type": "code",
   "execution_count": 107,
   "id": "ab1e7ddc",
   "metadata": {},
   "outputs": [
    {
     "data": {
      "text/html": [
       "<div>\n",
       "<style scoped>\n",
       "    .dataframe tbody tr th:only-of-type {\n",
       "        vertical-align: middle;\n",
       "    }\n",
       "\n",
       "    .dataframe tbody tr th {\n",
       "        vertical-align: top;\n",
       "    }\n",
       "\n",
       "    .dataframe thead th {\n",
       "        text-align: right;\n",
       "    }\n",
       "</style>\n",
       "<table border=\"1\" class=\"dataframe\">\n",
       "  <thead>\n",
       "    <tr style=\"text-align: right;\">\n",
       "      <th></th>\n",
       "      <th>time</th>\n",
       "      <th>MAE</th>\n",
       "      <th>RMSE</th>\n",
       "      <th>r2</th>\n",
       "    </tr>\n",
       "  </thead>\n",
       "  <tbody>\n",
       "    <tr>\n",
       "      <th>lr</th>\n",
       "      <td>0.01</td>\n",
       "      <td>0.34</td>\n",
       "      <td>0.45</td>\n",
       "      <td>0.24</td>\n",
       "    </tr>\n",
       "    <tr>\n",
       "      <th>randomforest</th>\n",
       "      <td>0.43</td>\n",
       "      <td>0.91</td>\n",
       "      <td>1.19</td>\n",
       "      <td>0.32</td>\n",
       "    </tr>\n",
       "    <tr>\n",
       "      <th>XGBOOST</th>\n",
       "      <td>0.20</td>\n",
       "      <td>0.89</td>\n",
       "      <td>1.16</td>\n",
       "      <td>0.37</td>\n",
       "    </tr>\n",
       "  </tbody>\n",
       "</table>\n",
       "</div>"
      ],
      "text/plain": [
       "              time   MAE  RMSE    r2\n",
       "lr            0.01  0.34  0.45  0.24\n",
       "randomforest  0.43  0.91  1.19  0.32\n",
       "XGBOOST       0.20  0.89  1.16  0.37"
      ]
     },
     "execution_count": 107,
     "metadata": {},
     "output_type": "execute_result"
    }
   ],
   "source": [
    "scores = pd.DataFrame([lr_scores,\n",
    "         randomforest_scores, \n",
    "        XGBOST_scores], index=['lr','randomforest', 'XGBOOST'])\n",
    "scores['MAE']=scores['MAE']*-1\n",
    "scores['RMSE']=scores['RMSE']*-1\n",
    "scores_box = pd.DataFrame([lr_scores_boxcox,\n",
    "         randomforest_scores_boxcox, \n",
    "        XGBOST_scores_boxcox], index=['lr', 'randomforest', 'XGBOOST'])\n",
    "scores_box['MAE']=scores_box['MAE']*-1\n",
    "scores_box['RMSE']=scores_box['RMSE']*-1\n",
    "scores_box"
   ]
  },
  {
   "cell_type": "code",
   "execution_count": 108,
   "id": "cfd07e32",
   "metadata": {},
   "outputs": [
    {
     "data": {
      "text/html": [
       "<div>\n",
       "<style scoped>\n",
       "    .dataframe tbody tr th:only-of-type {\n",
       "        vertical-align: middle;\n",
       "    }\n",
       "\n",
       "    .dataframe tbody tr th {\n",
       "        vertical-align: top;\n",
       "    }\n",
       "\n",
       "    .dataframe thead th {\n",
       "        text-align: right;\n",
       "    }\n",
       "</style>\n",
       "<table border=\"1\" class=\"dataframe\">\n",
       "  <thead>\n",
       "    <tr style=\"text-align: right;\">\n",
       "      <th></th>\n",
       "      <th>time</th>\n",
       "      <th>MAE</th>\n",
       "      <th>RMSE</th>\n",
       "      <th>r2</th>\n",
       "    </tr>\n",
       "  </thead>\n",
       "  <tbody>\n",
       "    <tr>\n",
       "      <th>lr</th>\n",
       "      <td>0.01</td>\n",
       "      <td>1.696732e+10</td>\n",
       "      <td>2.968237e+11</td>\n",
       "      <td>-3.353863e+18</td>\n",
       "    </tr>\n",
       "    <tr>\n",
       "      <th>randomforest</th>\n",
       "      <td>0.20</td>\n",
       "      <td>1.094300e+02</td>\n",
       "      <td>3.119000e+02</td>\n",
       "      <td>4.000000e-01</td>\n",
       "    </tr>\n",
       "    <tr>\n",
       "      <th>XGBOOST</th>\n",
       "      <td>0.01</td>\n",
       "      <td>1.503000e+02</td>\n",
       "      <td>3.725000e+02</td>\n",
       "      <td>2.200000e-01</td>\n",
       "    </tr>\n",
       "  </tbody>\n",
       "</table>\n",
       "</div>"
      ],
      "text/plain": [
       "              time           MAE          RMSE            r2\n",
       "lr            0.01  1.696732e+10  2.968237e+11 -3.353863e+18\n",
       "randomforest  0.20  1.094300e+02  3.119000e+02  4.000000e-01\n",
       "XGBOOST       0.01  1.503000e+02  3.725000e+02  2.200000e-01"
      ]
     },
     "execution_count": 108,
     "metadata": {},
     "output_type": "execute_result"
    }
   ],
   "source": [
    "scores"
   ]
  },
  {
   "cell_type": "markdown",
   "id": "5c57a6a7",
   "metadata": {},
   "source": [
    "## EnergyStar"
   ]
  },
  {
   "cell_type": "code",
   "execution_count": 226,
   "id": "d2dc4709",
   "metadata": {},
   "outputs": [
    {
     "name": "stdout",
     "output_type": "stream",
     "text": [
      "score RandomForestRegressor() : 0.38\n",
      "MAE RandomForestRegressor() : -108.22\n",
      "RMSE RandomForestRegressor() : -346.87\n",
      "r2 RandomForestRegressor() : 0.48\n",
      "______\n",
      "score RandomForestRegressor() : 0.34\n",
      "MAE RandomForestRegressor() : -0.79\n",
      "RMSE RandomForestRegressor() : -1.0\n",
      "r2 RandomForestRegressor() : 0.49\n"
     ]
    }
   ],
   "source": [
    "df_emission_full_=df_emission_full[~df_emission_full['ENERGYSTARScore'].isna()]\n",
    "X_stars = df_emission_full_.drop(columns=['SiteEnergyUse(kBtu)','TotalGHGEmissions', 'boxcox_emission'])\n",
    "y_stars = df_emission_full_['TotalGHGEmissions']\n",
    "y_stars_box = df_emission_full_['boxcox_emission']\n",
    "\n",
    "model = RandomForestRegressor()\n",
    "model_box = RandomForestRegressor()\n",
    "randomforest_scores_f = training(model, X_stars, y_stars )\n",
    "randomforest_scores_f_box = training(model_box, X_stars, y_stars_box)\n",
    "\n",
    "\n",
    "print(f\"score {model} : {randomforest_scores_f['time']}\")\n",
    "print(f\"MAE {model} : {randomforest_scores_f['MAE']}\")\n",
    "print(f\"RMSE {model} : {randomforest_scores_f['RMSE']}\")\n",
    "print(f\"r2 {model} : {randomforest_scores_f['r2']}\")\n",
    "print('______')\n",
    "print(f\"score {model_box} : {randomforest_scores_f_box['time']}\")\n",
    "print(f\"MAE {model_box} : {randomforest_scores_f_box['MAE']}\")\n",
    "print(f\"RMSE {model_box} : {randomforest_scores_f_box['RMSE']}\")\n",
    "print(f\"r2 {model_box} : {randomforest_scores_f_box['r2']}\")"
   ]
  },
  {
   "cell_type": "code",
   "execution_count": 110,
   "id": "22ab296c",
   "metadata": {},
   "outputs": [
    {
     "data": {
      "text/plain": [
       "0.45131103074141043"
      ]
     },
     "execution_count": 110,
     "metadata": {},
     "output_type": "execute_result"
    }
   ],
   "source": [
    "adjusted_r_squarred(randomforest_scores_f['r2'], X_stars, y_stars)"
   ]
  },
  {
   "cell_type": "code",
   "execution_count": 111,
   "id": "250514b2",
   "metadata": {},
   "outputs": [
    {
     "data": {
      "text/plain": [
       "0.46166365280289334"
      ]
     },
     "execution_count": 111,
     "metadata": {},
     "output_type": "execute_result"
    }
   ],
   "source": [
    "adjusted_r_squarred(randomforest_scores_f_box['r2'], X_stars, y_stars_box)"
   ]
  },
  {
   "cell_type": "code",
   "execution_count": 112,
   "id": "8b4b48ae",
   "metadata": {},
   "outputs": [
    {
     "name": "stdout",
     "output_type": "stream",
     "text": [
      "WITHOUT ENERGYSTARSCORE\n",
      "not boxcox\n",
      "score RandomForestRegressor() : 0.34\n",
      "MAE RandomForestRegressor() : -106.61\n",
      "RMSE RandomForestRegressor() : -336.9\n",
      "r2 RandomForestRegressor() : 0.49\n",
      "______\n",
      "boxcox\n",
      "score RandomForestRegressor() : 0.3\n",
      "MAE RandomForestRegressor() : -0.84\n",
      "RMSE RandomForestRegressor() : -1.1\n",
      "r2 RandomForestRegressor() : 0.38\n"
     ]
    }
   ],
   "source": [
    "X_without_stars = df_emission_full_.drop(columns=['SiteEnergyUse(kBtu)','TotalGHGEmissions', 'boxcox_emission', 'ENERGYSTARScore'])\n",
    "y_without_stars = df_emission_full_['TotalGHGEmissions']\n",
    "y_without_stars_box = df_emission_full_['boxcox_emission']\n",
    "\n",
    "model = RandomForestRegressor()\n",
    "model_box = RandomForestRegressor()\n",
    "randomforest_scores_f = training(model, X_without_stars, y_without_stars )\n",
    "randomforest_scores_f_box = training(model_box, X_without_stars, y_without_stars_box)\n",
    "\n",
    "print('WITHOUT ENERGYSTARSCORE')\n",
    "\n",
    "print('not boxcox')\n",
    "print(f\"score {model} : {randomforest_scores_f['time']}\")\n",
    "print(f\"MAE {model} : {randomforest_scores_f['MAE']}\")\n",
    "print(f\"RMSE {model} : {randomforest_scores_f['RMSE']}\")\n",
    "print(f\"r2 {model} : {randomforest_scores_f['r2']}\")\n",
    "print('______')\n",
    "print('boxcox')\n",
    "print(f\"score {model_box} : {randomforest_scores_f_box['time']}\")\n",
    "print(f\"MAE {model_box} : {randomforest_scores_f_box['MAE']}\")\n",
    "print(f\"RMSE {model_box} : {randomforest_scores_f_box['RMSE']}\")\n",
    "print(f\"r2 {model_box} : {randomforest_scores_f_box['r2']}\")"
   ]
  },
  {
   "cell_type": "code",
   "execution_count": 113,
   "id": "26da5e46",
   "metadata": {},
   "outputs": [
    {
     "data": {
      "text/plain": [
       "0.4724932249322493"
      ]
     },
     "execution_count": 113,
     "metadata": {},
     "output_type": "execute_result"
    }
   ],
   "source": [
    "adjusted_r_squarred(randomforest_scores_f['r2'], X_without_stars, y_without_stars)"
   ]
  },
  {
   "cell_type": "code",
   "execution_count": 114,
   "id": "82abbc4b",
   "metadata": {},
   "outputs": [
    {
     "data": {
      "text/plain": [
       "0.35871725383920505"
      ]
     },
     "execution_count": 114,
     "metadata": {},
     "output_type": "execute_result"
    }
   ],
   "source": [
    "adjusted_r_squarred(randomforest_scores_f_box['r2'], X_without_stars, y_without_stars_box)"
   ]
  },
  {
   "cell_type": "code",
   "execution_count": 115,
   "id": "7d35091b",
   "metadata": {},
   "outputs": [],
   "source": [
    "# ENERGYSTARScore semble améliorer les perfs après boxcox"
   ]
  },
  {
   "cell_type": "markdown",
   "id": "cb864539",
   "metadata": {},
   "source": [
    "## KNN imputer"
   ]
  },
  {
   "cell_type": "code",
   "execution_count": 222,
   "id": "caeb945e",
   "metadata": {},
   "outputs": [
    {
     "data": {
      "text/html": [
       "<div>\n",
       "<style scoped>\n",
       "    .dataframe tbody tr th:only-of-type {\n",
       "        vertical-align: middle;\n",
       "    }\n",
       "\n",
       "    .dataframe tbody tr th {\n",
       "        vertical-align: top;\n",
       "    }\n",
       "\n",
       "    .dataframe thead th {\n",
       "        text-align: right;\n",
       "    }\n",
       "</style>\n",
       "<table border=\"1\" class=\"dataframe\">\n",
       "  <thead>\n",
       "    <tr style=\"text-align: right;\">\n",
       "      <th></th>\n",
       "      <th>NumberofBuildings</th>\n",
       "      <th>NumberofFloors</th>\n",
       "      <th>PropertyGFABuilding(s)</th>\n",
       "      <th>ENERGYSTARScore</th>\n",
       "      <th>SiteEnergyUse(kBtu)</th>\n",
       "      <th>TotalGHGEmissions</th>\n",
       "      <th>parking_ratio</th>\n",
       "      <th>building_ratio</th>\n",
       "      <th>BuildingAge</th>\n",
       "      <th>BuildingType_NonResidential</th>\n",
       "      <th>...</th>\n",
       "      <th>Neighborhood_EAST</th>\n",
       "      <th>Neighborhood_GREATER DUWAMISH</th>\n",
       "      <th>Neighborhood_LAKE UNION</th>\n",
       "      <th>Neighborhood_MAGNOLIA / QUEEN ANNE</th>\n",
       "      <th>Neighborhood_NORTH</th>\n",
       "      <th>Neighborhood_NORTHEAST</th>\n",
       "      <th>Neighborhood_NORTHWEST</th>\n",
       "      <th>Neighborhood_SOUTHEAST</th>\n",
       "      <th>Neighborhood_SOUTHWEST</th>\n",
       "      <th>boxcox_emission</th>\n",
       "    </tr>\n",
       "  </thead>\n",
       "  <tbody>\n",
       "    <tr>\n",
       "      <th>0</th>\n",
       "      <td>0.0</td>\n",
       "      <td>4.496598</td>\n",
       "      <td>0.856606</td>\n",
       "      <td>-0.335201</td>\n",
       "      <td>7.103895e+06</td>\n",
       "      <td>249.705</td>\n",
       "      <td>0.000000</td>\n",
       "      <td>0.000000</td>\n",
       "      <td>0.868834</td>\n",
       "      <td>1.0</td>\n",
       "      <td>...</td>\n",
       "      <td>0.0</td>\n",
       "      <td>0.0</td>\n",
       "      <td>0.0</td>\n",
       "      <td>0.0</td>\n",
       "      <td>0.0</td>\n",
       "      <td>0.0</td>\n",
       "      <td>0.0</td>\n",
       "      <td>0.0</td>\n",
       "      <td>0.0</td>\n",
       "      <td>5.823084</td>\n",
       "    </tr>\n",
       "    <tr>\n",
       "      <th>1</th>\n",
       "      <td>0.0</td>\n",
       "      <td>4.046939</td>\n",
       "      <td>0.858011</td>\n",
       "      <td>-0.547767</td>\n",
       "      <td>8.371084e+06</td>\n",
       "      <td>279.685</td>\n",
       "      <td>19.621331</td>\n",
       "      <td>-19.621331</td>\n",
       "      <td>-0.708786</td>\n",
       "      <td>1.0</td>\n",
       "      <td>...</td>\n",
       "      <td>0.0</td>\n",
       "      <td>0.0</td>\n",
       "      <td>0.0</td>\n",
       "      <td>0.0</td>\n",
       "      <td>0.0</td>\n",
       "      <td>0.0</td>\n",
       "      <td>0.0</td>\n",
       "      <td>0.0</td>\n",
       "      <td>0.0</td>\n",
       "      <td>5.949267</td>\n",
       "    </tr>\n",
       "    <tr>\n",
       "      <th>2</th>\n",
       "      <td>0.0</td>\n",
       "      <td>17.536734</td>\n",
       "      <td>16.808568</td>\n",
       "      <td>-1.381682</td>\n",
       "      <td>7.285884e+07</td>\n",
       "      <td>2075.380</td>\n",
       "      <td>13.877511</td>\n",
       "      <td>-13.877511</td>\n",
       "      <td>-0.091456</td>\n",
       "      <td>1.0</td>\n",
       "      <td>...</td>\n",
       "      <td>0.0</td>\n",
       "      <td>0.0</td>\n",
       "      <td>0.0</td>\n",
       "      <td>0.0</td>\n",
       "      <td>0.0</td>\n",
       "      <td>0.0</td>\n",
       "      <td>0.0</td>\n",
       "      <td>0.0</td>\n",
       "      <td>0.0</td>\n",
       "      <td>8.225647</td>\n",
       "    </tr>\n",
       "    <tr>\n",
       "      <th>3</th>\n",
       "      <td>0.0</td>\n",
       "      <td>3.597279</td>\n",
       "      <td>0.296531</td>\n",
       "      <td>-0.547767</td>\n",
       "      <td>6.794584e+06</td>\n",
       "      <td>286.430</td>\n",
       "      <td>0.000000</td>\n",
       "      <td>0.000000</td>\n",
       "      <td>0.891698</td>\n",
       "      <td>1.0</td>\n",
       "      <td>...</td>\n",
       "      <td>0.0</td>\n",
       "      <td>0.0</td>\n",
       "      <td>0.0</td>\n",
       "      <td>0.0</td>\n",
       "      <td>0.0</td>\n",
       "      <td>0.0</td>\n",
       "      <td>0.0</td>\n",
       "      <td>0.0</td>\n",
       "      <td>0.0</td>\n",
       "      <td>5.975822</td>\n",
       "    </tr>\n",
       "    <tr>\n",
       "      <th>4</th>\n",
       "      <td>0.0</td>\n",
       "      <td>7.194557</td>\n",
       "      <td>1.312511</td>\n",
       "      <td>-0.057229</td>\n",
       "      <td>1.450085e+07</td>\n",
       "      <td>506.355</td>\n",
       "      <td>30.827149</td>\n",
       "      <td>-30.827149</td>\n",
       "      <td>-0.342961</td>\n",
       "      <td>1.0</td>\n",
       "      <td>...</td>\n",
       "      <td>0.0</td>\n",
       "      <td>0.0</td>\n",
       "      <td>0.0</td>\n",
       "      <td>0.0</td>\n",
       "      <td>0.0</td>\n",
       "      <td>0.0</td>\n",
       "      <td>0.0</td>\n",
       "      <td>0.0</td>\n",
       "      <td>0.0</td>\n",
       "      <td>6.614344</td>\n",
       "    </tr>\n",
       "    <tr>\n",
       "      <th>...</th>\n",
       "      <td>...</td>\n",
       "      <td>...</td>\n",
       "      <td>...</td>\n",
       "      <td>...</td>\n",
       "      <td>...</td>\n",
       "      <td>...</td>\n",
       "      <td>...</td>\n",
       "      <td>...</td>\n",
       "      <td>...</td>\n",
       "      <td>...</td>\n",
       "      <td>...</td>\n",
       "      <td>...</td>\n",
       "      <td>...</td>\n",
       "      <td>...</td>\n",
       "      <td>...</td>\n",
       "      <td>...</td>\n",
       "      <td>...</td>\n",
       "      <td>...</td>\n",
       "      <td>...</td>\n",
       "      <td>...</td>\n",
       "      <td>...</td>\n",
       "    </tr>\n",
       "    <tr>\n",
       "      <th>1664</th>\n",
       "      <td>0.0</td>\n",
       "      <td>-0.449660</td>\n",
       "      <td>-0.716164</td>\n",
       "      <td>-0.874793</td>\n",
       "      <td>8.497457e+05</td>\n",
       "      <td>20.940</td>\n",
       "      <td>0.000000</td>\n",
       "      <td>0.000000</td>\n",
       "      <td>-0.571601</td>\n",
       "      <td>1.0</td>\n",
       "      <td>...</td>\n",
       "      <td>0.0</td>\n",
       "      <td>1.0</td>\n",
       "      <td>0.0</td>\n",
       "      <td>0.0</td>\n",
       "      <td>0.0</td>\n",
       "      <td>0.0</td>\n",
       "      <td>0.0</td>\n",
       "      <td>0.0</td>\n",
       "      <td>0.0</td>\n",
       "      <td>3.132127</td>\n",
       "    </tr>\n",
       "    <tr>\n",
       "      <th>1665</th>\n",
       "      <td>0.0</td>\n",
       "      <td>-0.449660</td>\n",
       "      <td>-0.639612</td>\n",
       "      <td>NaN</td>\n",
       "      <td>9.502762e+05</td>\n",
       "      <td>32.170</td>\n",
       "      <td>0.000000</td>\n",
       "      <td>0.000000</td>\n",
       "      <td>-0.891698</td>\n",
       "      <td>1.0</td>\n",
       "      <td>...</td>\n",
       "      <td>0.0</td>\n",
       "      <td>0.0</td>\n",
       "      <td>0.0</td>\n",
       "      <td>0.0</td>\n",
       "      <td>0.0</td>\n",
       "      <td>0.0</td>\n",
       "      <td>0.0</td>\n",
       "      <td>0.0</td>\n",
       "      <td>0.0</td>\n",
       "      <td>3.589171</td>\n",
       "    </tr>\n",
       "    <tr>\n",
       "      <th>1666</th>\n",
       "      <td>0.0</td>\n",
       "      <td>-0.449660</td>\n",
       "      <td>-0.698337</td>\n",
       "      <td>NaN</td>\n",
       "      <td>5.765898e+06</td>\n",
       "      <td>223.540</td>\n",
       "      <td>0.000000</td>\n",
       "      <td>0.000000</td>\n",
       "      <td>-0.205777</td>\n",
       "      <td>1.0</td>\n",
       "      <td>...</td>\n",
       "      <td>0.0</td>\n",
       "      <td>0.0</td>\n",
       "      <td>0.0</td>\n",
       "      <td>1.0</td>\n",
       "      <td>0.0</td>\n",
       "      <td>0.0</td>\n",
       "      <td>0.0</td>\n",
       "      <td>0.0</td>\n",
       "      <td>0.0</td>\n",
       "      <td>5.700163</td>\n",
       "    </tr>\n",
       "    <tr>\n",
       "      <th>1667</th>\n",
       "      <td>0.0</td>\n",
       "      <td>-0.449660</td>\n",
       "      <td>-0.678838</td>\n",
       "      <td>NaN</td>\n",
       "      <td>7.194712e+05</td>\n",
       "      <td>22.110</td>\n",
       "      <td>0.000000</td>\n",
       "      <td>0.000000</td>\n",
       "      <td>-0.548737</td>\n",
       "      <td>1.0</td>\n",
       "      <td>...</td>\n",
       "      <td>0.0</td>\n",
       "      <td>1.0</td>\n",
       "      <td>0.0</td>\n",
       "      <td>0.0</td>\n",
       "      <td>0.0</td>\n",
       "      <td>0.0</td>\n",
       "      <td>0.0</td>\n",
       "      <td>0.0</td>\n",
       "      <td>0.0</td>\n",
       "      <td>3.189792</td>\n",
       "    </tr>\n",
       "    <tr>\n",
       "      <th>1668</th>\n",
       "      <td>0.0</td>\n",
       "      <td>-0.449660</td>\n",
       "      <td>-0.592970</td>\n",
       "      <td>NaN</td>\n",
       "      <td>1.152896e+06</td>\n",
       "      <td>41.270</td>\n",
       "      <td>0.000000</td>\n",
       "      <td>0.000000</td>\n",
       "      <td>0.617330</td>\n",
       "      <td>1.0</td>\n",
       "      <td>...</td>\n",
       "      <td>0.0</td>\n",
       "      <td>1.0</td>\n",
       "      <td>0.0</td>\n",
       "      <td>0.0</td>\n",
       "      <td>0.0</td>\n",
       "      <td>0.0</td>\n",
       "      <td>0.0</td>\n",
       "      <td>0.0</td>\n",
       "      <td>0.0</td>\n",
       "      <td>3.856056</td>\n",
       "    </tr>\n",
       "  </tbody>\n",
       "</table>\n",
       "<p>1669 rows × 42 columns</p>\n",
       "</div>"
      ],
      "text/plain": [
       "      NumberofBuildings  NumberofFloors  PropertyGFABuilding(s)  \\\n",
       "0                   0.0        4.496598                0.856606   \n",
       "1                   0.0        4.046939                0.858011   \n",
       "2                   0.0       17.536734               16.808568   \n",
       "3                   0.0        3.597279                0.296531   \n",
       "4                   0.0        7.194557                1.312511   \n",
       "...                 ...             ...                     ...   \n",
       "1664                0.0       -0.449660               -0.716164   \n",
       "1665                0.0       -0.449660               -0.639612   \n",
       "1666                0.0       -0.449660               -0.698337   \n",
       "1667                0.0       -0.449660               -0.678838   \n",
       "1668                0.0       -0.449660               -0.592970   \n",
       "\n",
       "      ENERGYSTARScore  SiteEnergyUse(kBtu)  TotalGHGEmissions  parking_ratio  \\\n",
       "0           -0.335201         7.103895e+06            249.705       0.000000   \n",
       "1           -0.547767         8.371084e+06            279.685      19.621331   \n",
       "2           -1.381682         7.285884e+07           2075.380      13.877511   \n",
       "3           -0.547767         6.794584e+06            286.430       0.000000   \n",
       "4           -0.057229         1.450085e+07            506.355      30.827149   \n",
       "...               ...                  ...                ...            ...   \n",
       "1664        -0.874793         8.497457e+05             20.940       0.000000   \n",
       "1665              NaN         9.502762e+05             32.170       0.000000   \n",
       "1666              NaN         5.765898e+06            223.540       0.000000   \n",
       "1667              NaN         7.194712e+05             22.110       0.000000   \n",
       "1668              NaN         1.152896e+06             41.270       0.000000   \n",
       "\n",
       "      building_ratio  BuildingAge  BuildingType_NonResidential  ...  \\\n",
       "0           0.000000     0.868834                          1.0  ...   \n",
       "1         -19.621331    -0.708786                          1.0  ...   \n",
       "2         -13.877511    -0.091456                          1.0  ...   \n",
       "3           0.000000     0.891698                          1.0  ...   \n",
       "4         -30.827149    -0.342961                          1.0  ...   \n",
       "...              ...          ...                          ...  ...   \n",
       "1664        0.000000    -0.571601                          1.0  ...   \n",
       "1665        0.000000    -0.891698                          1.0  ...   \n",
       "1666        0.000000    -0.205777                          1.0  ...   \n",
       "1667        0.000000    -0.548737                          1.0  ...   \n",
       "1668        0.000000     0.617330                          1.0  ...   \n",
       "\n",
       "      Neighborhood_EAST  Neighborhood_GREATER DUWAMISH  \\\n",
       "0                   0.0                            0.0   \n",
       "1                   0.0                            0.0   \n",
       "2                   0.0                            0.0   \n",
       "3                   0.0                            0.0   \n",
       "4                   0.0                            0.0   \n",
       "...                 ...                            ...   \n",
       "1664                0.0                            1.0   \n",
       "1665                0.0                            0.0   \n",
       "1666                0.0                            0.0   \n",
       "1667                0.0                            1.0   \n",
       "1668                0.0                            1.0   \n",
       "\n",
       "      Neighborhood_LAKE UNION  Neighborhood_MAGNOLIA / QUEEN ANNE  \\\n",
       "0                         0.0                                 0.0   \n",
       "1                         0.0                                 0.0   \n",
       "2                         0.0                                 0.0   \n",
       "3                         0.0                                 0.0   \n",
       "4                         0.0                                 0.0   \n",
       "...                       ...                                 ...   \n",
       "1664                      0.0                                 0.0   \n",
       "1665                      0.0                                 0.0   \n",
       "1666                      0.0                                 1.0   \n",
       "1667                      0.0                                 0.0   \n",
       "1668                      0.0                                 0.0   \n",
       "\n",
       "      Neighborhood_NORTH  Neighborhood_NORTHEAST  Neighborhood_NORTHWEST  \\\n",
       "0                    0.0                     0.0                     0.0   \n",
       "1                    0.0                     0.0                     0.0   \n",
       "2                    0.0                     0.0                     0.0   \n",
       "3                    0.0                     0.0                     0.0   \n",
       "4                    0.0                     0.0                     0.0   \n",
       "...                  ...                     ...                     ...   \n",
       "1664                 0.0                     0.0                     0.0   \n",
       "1665                 0.0                     0.0                     0.0   \n",
       "1666                 0.0                     0.0                     0.0   \n",
       "1667                 0.0                     0.0                     0.0   \n",
       "1668                 0.0                     0.0                     0.0   \n",
       "\n",
       "      Neighborhood_SOUTHEAST  Neighborhood_SOUTHWEST  boxcox_emission  \n",
       "0                        0.0                     0.0         5.823084  \n",
       "1                        0.0                     0.0         5.949267  \n",
       "2                        0.0                     0.0         8.225647  \n",
       "3                        0.0                     0.0         5.975822  \n",
       "4                        0.0                     0.0         6.614344  \n",
       "...                      ...                     ...              ...  \n",
       "1664                     0.0                     0.0         3.132127  \n",
       "1665                     0.0                     0.0         3.589171  \n",
       "1666                     0.0                     0.0         5.700163  \n",
       "1667                     0.0                     0.0         3.189792  \n",
       "1668                     0.0                     0.0         3.856056  \n",
       "\n",
       "[1669 rows x 42 columns]"
      ]
     },
     "execution_count": 222,
     "metadata": {},
     "output_type": "execute_result"
    }
   ],
   "source": [
    "df_emission_full"
   ]
  },
  {
   "cell_type": "code",
   "execution_count": 230,
   "id": "781d0ec1",
   "metadata": {},
   "outputs": [],
   "source": [
    "X_knn = df_emission_full.drop(columns=['SiteEnergyUse(kBtu)','TotalGHGEmissions', 'boxcox_emission'])\n",
    "X_knn_without_star = df_emission_full.drop(columns=['SiteEnergyUse(kBtu)','TotalGHGEmissions', 'boxcox_emission', 'ENERGYSTARScore'])\n",
    "y_boxcox_knn = df_emission_full['boxcox_emission']"
   ]
  },
  {
   "cell_type": "code",
   "execution_count": 237,
   "id": "3bacabc3",
   "metadata": {},
   "outputs": [],
   "source": [
    "imputer = KNNImputer(n_neighbors=5)\n",
    "X_knn=imputer.fit_transform(X_knn)\n",
    "\n",
    "# transform the dataset\n",
    "#Xtrans = imputer.transform(X)"
   ]
  },
  {
   "cell_type": "code",
   "execution_count": 238,
   "id": "8ec80eae",
   "metadata": {},
   "outputs": [],
   "source": [
    "model = RandomForestRegressor()\n",
    "randomforest_scores_star = training(model, X_knn, y_boxcox_knn)\n",
    "model = RandomForestRegressor()\n",
    "randomforest_scores_w_star = training(model_box, X_knn_without_star, y_boxcox_knn)"
   ]
  },
  {
   "cell_type": "code",
   "execution_count": 239,
   "id": "e499e8ae",
   "metadata": {},
   "outputs": [
    {
     "name": "stdout",
     "output_type": "stream",
     "text": [
      "score RandomForestRegressor() : 0.49\n",
      "MAE RandomForestRegressor() : -0.87\n",
      "RMSE RandomForestRegressor() : -1.12\n",
      "r2 RandomForestRegressor() : 0.41\n",
      "______\n",
      "score RandomForestRegressor() : 0.42\n",
      "MAE RandomForestRegressor() : -0.91\n",
      "RMSE RandomForestRegressor() : -1.19\n",
      "r2 RandomForestRegressor() : 0.33\n"
     ]
    }
   ],
   "source": [
    "print(f\"score {model} : {randomforest_scores_star['time']}\")\n",
    "print(f\"MAE {model} : {randomforest_scores_star['MAE']}\")\n",
    "print(f\"RMSE {model} : {randomforest_scores_star['RMSE']}\")\n",
    "print(f\"r2 {model} : {randomforest_scores_star['r2']}\")\n",
    "print('______')\n",
    "print(f\"score {model} : {randomforest_scores_w_star['time']}\")\n",
    "print(f\"MAE {model} : {randomforest_scores_w_star['MAE']}\")\n",
    "print(f\"RMSE {model} : {randomforest_scores_w_star['RMSE']}\")\n",
    "print(f\"r2 {model} : {randomforest_scores_w_star['r2']}\")"
   ]
  },
  {
   "cell_type": "markdown",
   "id": "b3776cba",
   "metadata": {},
   "source": [
    "# Last training"
   ]
  },
  {
   "cell_type": "code",
   "execution_count": 120,
   "id": "ee7fde10",
   "metadata": {},
   "outputs": [],
   "source": [
    "# remove outliers\n",
    "# adding energiestarscores"
   ]
  },
  {
   "cell_type": "code",
   "execution_count": 240,
   "id": "f9bf8363",
   "metadata": {},
   "outputs": [],
   "source": [
    "df_without_outliers= df.drop(columns=['Latitude','Longitude', 'OSEBuildingID' ])"
   ]
  },
  {
   "cell_type": "code",
   "execution_count": 241,
   "id": "84acae8e",
   "metadata": {},
   "outputs": [
    {
     "name": "stderr",
     "output_type": "stream",
     "text": [
      "/Users/maximedupouy/.pyenv/versions/3.8.6/envs/lewagon/lib/python3.8/site-packages/seaborn/distributions.py:2557: FutureWarning: `distplot` is a deprecated function and will be removed in a future version. Please adapt your code to use either `displot` (a figure-level function with similar flexibility) or `kdeplot` (an axes-level function for kernel density plots).\n",
      "  warnings.warn(msg, FutureWarning)\n",
      "/Users/maximedupouy/.pyenv/versions/3.8.6/envs/lewagon/lib/python3.8/site-packages/seaborn/distributions.py:2557: FutureWarning: `distplot` is a deprecated function and will be removed in a future version. Please adapt your code to use either `displot` (a figure-level function with similar flexibility) or `kdeplot` (an axes-level function for kernel density plots).\n",
      "  warnings.warn(msg, FutureWarning)\n"
     ]
    },
    {
     "data": {
      "image/png": "[encoded data removed]",
      "text/plain": [
       "<Figure size 720x360 with 2 Axes>"
      ]
     },
     "metadata": {
      "needs_background": "light"
     },
     "output_type": "display_data"
    },
    {
     "name": "stderr",
     "output_type": "stream",
     "text": [
      "/Users/maximedupouy/.pyenv/versions/3.8.6/envs/lewagon/lib/python3.8/site-packages/seaborn/distributions.py:2557: FutureWarning: `distplot` is a deprecated function and will be removed in a future version. Please adapt your code to use either `displot` (a figure-level function with similar flexibility) or `kdeplot` (an axes-level function for kernel density plots).\n",
      "  warnings.warn(msg, FutureWarning)\n",
      "/Users/maximedupouy/.pyenv/versions/3.8.6/envs/lewagon/lib/python3.8/site-packages/seaborn/distributions.py:2557: FutureWarning: `distplot` is a deprecated function and will be removed in a future version. Please adapt your code to use either `displot` (a figure-level function with similar flexibility) or `kdeplot` (an axes-level function for kernel density plots).\n",
      "  warnings.warn(msg, FutureWarning)\n"
     ]
    },
    {
     "name": "stdout",
     "output_type": "stream",
     "text": [
      "Lambda value used for Transformation: -0.05063349852267184\n"
     ]
    },
    {
     "data": {
      "image/png": "[encoded data removed]",
      "text/plain": [
       "<Figure size 720x360 with 2 Axes>"
      ]
     },
     "metadata": {
      "needs_background": "light"
     },
     "output_type": "display_data"
    },
    {
     "name": "stdout",
     "output_type": "stream",
     "text": [
      "Lambda value used for Transformation: 0.01917816976224552\n"
     ]
    }
   ],
   "source": [
    "fitted_data_energie, fitted_lambda_energie = box_cot(df_without_outliers['SiteEnergyUse(kBtu)'])\n",
    "fitted_data_emission, fitted_lambda_emission = box_cot(df_without_outliers['TotalGHGEmissions'])"
   ]
  },
  {
   "cell_type": "code",
   "execution_count": 242,
   "id": "d2a3a027",
   "metadata": {},
   "outputs": [],
   "source": [
    "df_without_outliers['emission_box']=fitted_data_emission\n",
    "df_without_outliers['energie_box']=fitted_data_energie"
   ]
  },
  {
   "cell_type": "code",
   "execution_count": 243,
   "id": "40995dbe",
   "metadata": {},
   "outputs": [
    {
     "data": {
      "text/html": [
       "<div>\n",
       "<style scoped>\n",
       "    .dataframe tbody tr th:only-of-type {\n",
       "        vertical-align: middle;\n",
       "    }\n",
       "\n",
       "    .dataframe tbody tr th {\n",
       "        vertical-align: top;\n",
       "    }\n",
       "\n",
       "    .dataframe thead th {\n",
       "        text-align: right;\n",
       "    }\n",
       "</style>\n",
       "<table border=\"1\" class=\"dataframe\">\n",
       "  <thead>\n",
       "    <tr style=\"text-align: right;\">\n",
       "      <th></th>\n",
       "      <th>NumberofBuildings</th>\n",
       "      <th>NumberofFloors</th>\n",
       "      <th>PropertyGFABuilding(s)</th>\n",
       "      <th>ENERGYSTARScore</th>\n",
       "      <th>SiteEnergyUse(kBtu)</th>\n",
       "      <th>TotalGHGEmissions</th>\n",
       "      <th>parking_ratio</th>\n",
       "      <th>building_ratio</th>\n",
       "      <th>BuildingAge</th>\n",
       "      <th>BuildingType_NonResidential</th>\n",
       "      <th>...</th>\n",
       "      <th>Neighborhood_GREATER DUWAMISH</th>\n",
       "      <th>Neighborhood_LAKE UNION</th>\n",
       "      <th>Neighborhood_MAGNOLIA / QUEEN ANNE</th>\n",
       "      <th>Neighborhood_NORTH</th>\n",
       "      <th>Neighborhood_NORTHEAST</th>\n",
       "      <th>Neighborhood_NORTHWEST</th>\n",
       "      <th>Neighborhood_SOUTHEAST</th>\n",
       "      <th>Neighborhood_SOUTHWEST</th>\n",
       "      <th>emission_box</th>\n",
       "      <th>energie_box</th>\n",
       "    </tr>\n",
       "  </thead>\n",
       "  <tbody>\n",
       "    <tr>\n",
       "      <th>count</th>\n",
       "      <td>1669.000000</td>\n",
       "      <td>1669.000000</td>\n",
       "      <td>1669.000000</td>\n",
       "      <td>1146.000000</td>\n",
       "      <td>1.669000e+03</td>\n",
       "      <td>1669.000000</td>\n",
       "      <td>1669.000000</td>\n",
       "      <td>1669.000000</td>\n",
       "      <td>1669.000000</td>\n",
       "      <td>1669.000000</td>\n",
       "      <td>...</td>\n",
       "      <td>1669.000000</td>\n",
       "      <td>1669.000000</td>\n",
       "      <td>1669.000000</td>\n",
       "      <td>1669.000000</td>\n",
       "      <td>1669.000000</td>\n",
       "      <td>1669.000000</td>\n",
       "      <td>1669.000000</td>\n",
       "      <td>1669.000000</td>\n",
       "      <td>1669.000000</td>\n",
       "      <td>1669.000000</td>\n",
       "    </tr>\n",
       "    <tr>\n",
       "      <th>mean</th>\n",
       "      <td>0.053345</td>\n",
       "      <td>0.960208</td>\n",
       "      <td>1.027607</td>\n",
       "      <td>-0.248765</td>\n",
       "      <td>7.328041e+06</td>\n",
       "      <td>159.087777</td>\n",
       "      <td>8.259692</td>\n",
       "      <td>-8.259691</td>\n",
       "      <td>0.075264</td>\n",
       "      <td>0.941881</td>\n",
       "      <td>...</td>\n",
       "      <td>0.206111</td>\n",
       "      <td>0.089874</td>\n",
       "      <td>0.089874</td>\n",
       "      <td>0.040144</td>\n",
       "      <td>0.075494</td>\n",
       "      <td>0.052127</td>\n",
       "      <td>0.028760</td>\n",
       "      <td>0.024566</td>\n",
       "      <td>4.080429</td>\n",
       "      <td>10.432877</td>\n",
       "    </tr>\n",
       "    <tr>\n",
       "      <th>std</th>\n",
       "      <td>0.444237</td>\n",
       "      <td>2.949961</td>\n",
       "      <td>3.324258</td>\n",
       "      <td>0.911915</td>\n",
       "      <td>1.791494e+07</td>\n",
       "      <td>541.740685</td>\n",
       "      <td>18.172764</td>\n",
       "      <td>18.172765</td>\n",
       "      <td>0.750375</td>\n",
       "      <td>0.234038</td>\n",
       "      <td>...</td>\n",
       "      <td>0.404633</td>\n",
       "      <td>0.286087</td>\n",
       "      <td>0.286087</td>\n",
       "      <td>0.196355</td>\n",
       "      <td>0.264266</td>\n",
       "      <td>0.222350</td>\n",
       "      <td>0.167181</td>\n",
       "      <td>0.154843</td>\n",
       "      <td>1.615966</td>\n",
       "      <td>0.605811</td>\n",
       "    </tr>\n",
       "    <tr>\n",
       "      <th>min</th>\n",
       "      <td>0.000000</td>\n",
       "      <td>-0.449660</td>\n",
       "      <td>-0.744442</td>\n",
       "      <td>-2.346407</td>\n",
       "      <td>1.697945e+04</td>\n",
       "      <td>0.120000</td>\n",
       "      <td>0.000000</td>\n",
       "      <td>-107.671150</td>\n",
       "      <td>-1.143203</td>\n",
       "      <td>0.000000</td>\n",
       "      <td>...</td>\n",
       "      <td>0.000000</td>\n",
       "      <td>0.000000</td>\n",
       "      <td>0.000000</td>\n",
       "      <td>0.000000</td>\n",
       "      <td>0.000000</td>\n",
       "      <td>0.000000</td>\n",
       "      <td>0.000000</td>\n",
       "      <td>0.000000</td>\n",
       "      <td>-2.077734</td>\n",
       "      <td>7.688690</td>\n",
       "    </tr>\n",
       "    <tr>\n",
       "      <th>25%</th>\n",
       "      <td>0.000000</td>\n",
       "      <td>-0.449660</td>\n",
       "      <td>-0.385457</td>\n",
       "      <td>-0.838002</td>\n",
       "      <td>1.230588e+06</td>\n",
       "      <td>19.825000</td>\n",
       "      <td>0.000000</td>\n",
       "      <td>0.000000</td>\n",
       "      <td>-0.548737</td>\n",
       "      <td>1.000000</td>\n",
       "      <td>...</td>\n",
       "      <td>0.000000</td>\n",
       "      <td>0.000000</td>\n",
       "      <td>0.000000</td>\n",
       "      <td>0.000000</td>\n",
       "      <td>0.000000</td>\n",
       "      <td>0.000000</td>\n",
       "      <td>0.000000</td>\n",
       "      <td>0.000000</td>\n",
       "      <td>3.074153</td>\n",
       "      <td>10.040238</td>\n",
       "    </tr>\n",
       "    <tr>\n",
       "      <th>50%</th>\n",
       "      <td>0.000000</td>\n",
       "      <td>0.000000</td>\n",
       "      <td>0.000000</td>\n",
       "      <td>0.000000</td>\n",
       "      <td>2.512364e+06</td>\n",
       "      <td>48.755000</td>\n",
       "      <td>0.000000</td>\n",
       "      <td>0.000000</td>\n",
       "      <td>0.000000</td>\n",
       "      <td>1.000000</td>\n",
       "      <td>...</td>\n",
       "      <td>0.000000</td>\n",
       "      <td>0.000000</td>\n",
       "      <td>0.000000</td>\n",
       "      <td>0.000000</td>\n",
       "      <td>0.000000</td>\n",
       "      <td>0.000000</td>\n",
       "      <td>0.000000</td>\n",
       "      <td>0.000000</td>\n",
       "      <td>4.035340</td>\n",
       "      <td>10.384863</td>\n",
       "    </tr>\n",
       "    <tr>\n",
       "      <th>75%</th>\n",
       "      <td>0.000000</td>\n",
       "      <td>0.899320</td>\n",
       "      <td>0.963523</td>\n",
       "      <td>0.510977</td>\n",
       "      <td>6.720859e+06</td>\n",
       "      <td>134.940000</td>\n",
       "      <td>0.000000</td>\n",
       "      <td>0.000000</td>\n",
       "      <td>0.800242</td>\n",
       "      <td>1.000000</td>\n",
       "      <td>...</td>\n",
       "      <td>0.000000</td>\n",
       "      <td>0.000000</td>\n",
       "      <td>0.000000</td>\n",
       "      <td>0.000000</td>\n",
       "      <td>0.000000</td>\n",
       "      <td>0.000000</td>\n",
       "      <td>0.000000</td>\n",
       "      <td>0.000000</td>\n",
       "      <td>5.142925</td>\n",
       "      <td>10.840018</td>\n",
       "    </tr>\n",
       "    <tr>\n",
       "      <th>max</th>\n",
       "      <td>8.768367</td>\n",
       "      <td>43.617004</td>\n",
       "      <td>35.508272</td>\n",
       "      <td>0.891144</td>\n",
       "      <td>2.944517e+08</td>\n",
       "      <td>12066.025000</td>\n",
       "      <td>107.671150</td>\n",
       "      <td>0.001971</td>\n",
       "      <td>1.486164</td>\n",
       "      <td>1.000000</td>\n",
       "      <td>...</td>\n",
       "      <td>1.000000</td>\n",
       "      <td>1.000000</td>\n",
       "      <td>1.000000</td>\n",
       "      <td>1.000000</td>\n",
       "      <td>1.000000</td>\n",
       "      <td>1.000000</td>\n",
       "      <td>1.000000</td>\n",
       "      <td>1.000000</td>\n",
       "      <td>10.298370</td>\n",
       "      <td>12.392000</td>\n",
       "    </tr>\n",
       "  </tbody>\n",
       "</table>\n",
       "<p>8 rows × 43 columns</p>\n",
       "</div>"
      ],
      "text/plain": [
       "       NumberofBuildings  NumberofFloors  PropertyGFABuilding(s)  \\\n",
       "count        1669.000000     1669.000000             1669.000000   \n",
       "mean            0.053345        0.960208                1.027607   \n",
       "std             0.444237        2.949961                3.324258   \n",
       "min             0.000000       -0.449660               -0.744442   \n",
       "25%             0.000000       -0.449660               -0.385457   \n",
       "50%             0.000000        0.000000                0.000000   \n",
       "75%             0.000000        0.899320                0.963523   \n",
       "max             8.768367       43.617004               35.508272   \n",
       "\n",
       "       ENERGYSTARScore  SiteEnergyUse(kBtu)  TotalGHGEmissions  parking_ratio  \\\n",
       "count      1146.000000         1.669000e+03        1669.000000    1669.000000   \n",
       "mean         -0.248765         7.328041e+06         159.087777       8.259692   \n",
       "std           0.911915         1.791494e+07         541.740685      18.172764   \n",
       "min          -2.346407         1.697945e+04           0.120000       0.000000   \n",
       "25%          -0.838002         1.230588e+06          19.825000       0.000000   \n",
       "50%           0.000000         2.512364e+06          48.755000       0.000000   \n",
       "75%           0.510977         6.720859e+06         134.940000       0.000000   \n",
       "max           0.891144         2.944517e+08       12066.025000     107.671150   \n",
       "\n",
       "       building_ratio  BuildingAge  BuildingType_NonResidential  ...  \\\n",
       "count     1669.000000  1669.000000                  1669.000000  ...   \n",
       "mean        -8.259691     0.075264                     0.941881  ...   \n",
       "std         18.172765     0.750375                     0.234038  ...   \n",
       "min       -107.671150    -1.143203                     0.000000  ...   \n",
       "25%          0.000000    -0.548737                     1.000000  ...   \n",
       "50%          0.000000     0.000000                     1.000000  ...   \n",
       "75%          0.000000     0.800242                     1.000000  ...   \n",
       "max          0.001971     1.486164                     1.000000  ...   \n",
       "\n",
       "       Neighborhood_GREATER DUWAMISH  Neighborhood_LAKE UNION  \\\n",
       "count                    1669.000000              1669.000000   \n",
       "mean                        0.206111                 0.089874   \n",
       "std                         0.404633                 0.286087   \n",
       "min                         0.000000                 0.000000   \n",
       "25%                         0.000000                 0.000000   \n",
       "50%                         0.000000                 0.000000   \n",
       "75%                         0.000000                 0.000000   \n",
       "max                         1.000000                 1.000000   \n",
       "\n",
       "       Neighborhood_MAGNOLIA / QUEEN ANNE  Neighborhood_NORTH  \\\n",
       "count                         1669.000000         1669.000000   \n",
       "mean                             0.089874            0.040144   \n",
       "std                              0.286087            0.196355   \n",
       "min                              0.000000            0.000000   \n",
       "25%                              0.000000            0.000000   \n",
       "50%                              0.000000            0.000000   \n",
       "75%                              0.000000            0.000000   \n",
       "max                              1.000000            1.000000   \n",
       "\n",
       "       Neighborhood_NORTHEAST  Neighborhood_NORTHWEST  Neighborhood_SOUTHEAST  \\\n",
       "count             1669.000000             1669.000000             1669.000000   \n",
       "mean                 0.075494                0.052127                0.028760   \n",
       "std                  0.264266                0.222350                0.167181   \n",
       "min                  0.000000                0.000000                0.000000   \n",
       "25%                  0.000000                0.000000                0.000000   \n",
       "50%                  0.000000                0.000000                0.000000   \n",
       "75%                  0.000000                0.000000                0.000000   \n",
       "max                  1.000000                1.000000                1.000000   \n",
       "\n",
       "       Neighborhood_SOUTHWEST  emission_box  energie_box  \n",
       "count             1669.000000   1669.000000  1669.000000  \n",
       "mean                 0.024566      4.080429    10.432877  \n",
       "std                  0.154843      1.615966     0.605811  \n",
       "min                  0.000000     -2.077734     7.688690  \n",
       "25%                  0.000000      3.074153    10.040238  \n",
       "50%                  0.000000      4.035340    10.384863  \n",
       "75%                  0.000000      5.142925    10.840018  \n",
       "max                  1.000000     10.298370    12.392000  \n",
       "\n",
       "[8 rows x 43 columns]"
      ]
     },
     "execution_count": 243,
     "metadata": {},
     "output_type": "execute_result"
    }
   ],
   "source": [
    "df_without_outliers.describe()"
   ]
  },
  {
   "cell_type": "code",
   "execution_count": 249,
   "id": "29f01c57",
   "metadata": {},
   "outputs": [],
   "source": [
    "#df_without_outliers=df_without_outliers[~df_without_outliers['ENERGYSTARScore'].isna()]\n",
    "X=df_without_outliers.drop(columns=['SiteEnergyUse(kBtu)', 'TotalGHGEmissions', 'emission_box','energie_box' ])\n",
    "X=imputer.fit_transform(X)\n",
    "y_emission=df_without_outliers['emission_box']\n",
    "y_energie=df_without_outliers['energie_box']"
   ]
  },
  {
   "cell_type": "markdown",
   "id": "07bd2796",
   "metadata": {},
   "source": [
    "## Energie"
   ]
  },
  {
   "cell_type": "code",
   "execution_count": 250,
   "id": "cbeb8f4e",
   "metadata": {},
   "outputs": [],
   "source": [
    "X_train, X_test, y_train, y_test = train_test_split(X, y_energie, random_state=0)"
   ]
  },
  {
   "cell_type": "code",
   "execution_count": 251,
   "id": "5e704234",
   "metadata": {},
   "outputs": [],
   "source": [
    "grid={'bootstrap': [True, False],\n",
    " 'max_depth': [10, 20, 30, 40, 50, 60, 70, 80, 90, 100, None],\n",
    " 'max_features': ['auto', 'sqrt'],\n",
    " 'min_samples_leaf': [1, 2, 4],\n",
    " 'min_samples_split': [2, 5, 10],\n",
    " 'n_estimators': [100, 200, 400, 600, 800]}\n",
    "model = RandomForestRegressor()\n",
    "tres_long=False\n",
    "if tres_long :\n",
    "    best_score,best_params,best_estimator =grid_search(model, grid, 'neg_mean_absolute_error', X, y_energie)\n",
    "    print(best_score,best_params,best_estimator)"
   ]
  },
  {
   "cell_type": "code",
   "execution_count": 252,
   "id": "cc5d2fe2",
   "metadata": {},
   "outputs": [],
   "source": [
    "model = RandomForestRegressor(bootstrap=True,\n",
    "                             max_depth=50,\n",
    "                             max_features='auto',\n",
    "                             n_estimators=100,\n",
    "    min_samples_split=10\n",
    ")\n",
    "model.fit(X_train, y_train)\n",
    "prediction_energie = model.predict(X_test)"
   ]
  },
  {
   "cell_type": "code",
   "execution_count": 253,
   "id": "29450c70",
   "metadata": {},
   "outputs": [],
   "source": [
    "prediction_invboxcox=[]\n",
    "y_test_invboxcox=[]\n",
    "for i in prediction_energie:\n",
    "    prediction_invboxcox.append(inv_boxcox(i, fitted_lambda_energie))\n",
    "for j in y_test:\n",
    "    y_test_invboxcox.append(inv_boxcox(j, fitted_lambda_energie))"
   ]
  },
  {
   "cell_type": "code",
   "execution_count": 254,
   "id": "99b4d7d5",
   "metadata": {},
   "outputs": [
    {
     "name": "stdout",
     "output_type": "stream",
     "text": [
      "mae : 907716.4494281255\n",
      "rmse : 7730351.756934784\n",
      "mdape : 30.559683453814735\n",
      "r squarred : 0.7131846286096627\n"
     ]
    }
   ],
   "source": [
    "print(f'mae : {median_absolute_error(y_test_invboxcox,prediction_invboxcox)}')\n",
    "print(f'rmse : {mean_squared_error(y_test_invboxcox,prediction_invboxcox)**0.5}')\n",
    "print(f'mdape : {calcul_mdape(y_test_invboxcox, prediction_invboxcox)}')\n",
    "print(f'r squarred : {r2_score(y_test_invboxcox, prediction_invboxcox)}')"
   ]
  },
  {
   "cell_type": "code",
   "execution_count": 255,
   "id": "3356adbd",
   "metadata": {},
   "outputs": [
    {
     "data": {
      "image/png": "[encoded data removed]",
      "text/plain": [
       "<Figure size 432x288 with 1 Axes>"
      ]
     },
     "metadata": {
      "needs_background": "light"
     },
     "output_type": "display_data"
    }
   ],
   "source": [
    "learning_curves(model, X, y_energie,train_size=train_sizes)"
   ]
  },
  {
   "cell_type": "code",
   "execution_count": 256,
   "id": "9d0e83d2",
   "metadata": {},
   "outputs": [
    {
     "name": "stderr",
     "output_type": "stream",
     "text": [
      "/Users/maximedupouy/.pyenv/versions/3.8.6/envs/lewagon/lib/python3.8/site-packages/seaborn/_decorators.py:36: FutureWarning: Pass the following variables as keyword args: x, y. From version 0.12, the only valid positional argument will be `data`, and passing other arguments without an explicit keyword will result in an error or misinterpretation.\n",
      "  warnings.warn(\n"
     ]
    },
    {
     "data": {
      "text/plain": [
       "<AxesSubplot:>"
      ]
     },
     "execution_count": 256,
     "metadata": {},
     "output_type": "execute_result"
    },
    {
     "data": {
      "image/png": "[encoded data removed]",
      "text/plain": [
       "<Figure size 1440x720 with 1 Axes>"
      ]
     },
     "metadata": {
      "needs_background": "light"
     },
     "output_type": "display_data"
    }
   ],
   "source": [
    "plt.figure(figsize=(20,10))\n",
    "sns.regplot(y_test_invboxcox,prediction_invboxcox)"
   ]
  },
  {
   "cell_type": "markdown",
   "id": "f1f15c08",
   "metadata": {},
   "source": [
    "## Emission"
   ]
  },
  {
   "cell_type": "code",
   "execution_count": 257,
   "id": "c89a9dc3",
   "metadata": {},
   "outputs": [],
   "source": [
    "X_train, X_test, y_train, y_test = train_test_split(X, y_emission, random_state=0)"
   ]
  },
  {
   "cell_type": "code",
   "execution_count": 258,
   "id": "135d2559",
   "metadata": {},
   "outputs": [],
   "source": [
    "grid={'bootstrap': [True, False],\n",
    " 'max_depth': [10, 20, 30, 40, 50, 60, 70, 80, 90, 100, None],\n",
    " 'max_features': ['auto', 'sqrt'],\n",
    " 'min_samples_leaf': [1, 2, 4],\n",
    " 'min_samples_split': [2, 5, 10],\n",
    " 'n_estimators': [200, 400, 600, 800, 1000, 1200, 1400, 1600, 1800, 2000]}\n",
    "model = RandomForestRegressor()\n",
    "if tres_long :\n",
    "    best_score,best_params,best_estimator =grid_search(model, grid, 'neg_mean_absolute_error', X, y_emission)\n",
    "    print(best_score,best_params,best_estimator)"
   ]
  },
  {
   "cell_type": "code",
   "execution_count": 259,
   "id": "92e500b1",
   "metadata": {},
   "outputs": [
    {
     "data": {
      "text/plain": [
       "RandomForestRegressor(max_depth=40, min_samples_leaf=2, min_samples_split=10,\n",
       "                      n_estimators=1200)"
      ]
     },
     "execution_count": 259,
     "metadata": {},
     "output_type": "execute_result"
    }
   ],
   "source": [
    "model = RandomForestRegressor(bootstrap=True,\n",
    "                                max_depth=40,\n",
    "                              max_features='auto',\n",
    "                              min_samples_leaf=2,\n",
    "                              min_samples_split=10,\n",
    "                              n_estimators=1200\n",
    "                             )\n",
    "model.fit(X_train, y_train)"
   ]
  },
  {
   "cell_type": "code",
   "execution_count": 260,
   "id": "5a7bf1d4",
   "metadata": {},
   "outputs": [
    {
     "name": "stdout",
     "output_type": "stream",
     "text": [
      "mae : 26.08158933416001\n",
      "rmse : 235.18767764512842\n",
      "mdape : 56.02180888367075\n",
      "r squarred : 0.6360151129412508\n"
     ]
    }
   ],
   "source": [
    "prediction_emission = model.predict(X_test)\n",
    "\n",
    "prediction_invboxcox=[]\n",
    "y_test_invboxcox=[]\n",
    "for i in prediction_emission:\n",
    "    prediction_invboxcox.append(inv_boxcox(i, fitted_lambda_emission))\n",
    "for j in y_test:\n",
    "    y_test_invboxcox.append(inv_boxcox(j, fitted_lambda_emission))\n",
    "    \n",
    "print(f'mae : {median_absolute_error(y_test_invboxcox,prediction_invboxcox)}')\n",
    "print(f'rmse : {mean_squared_error(y_test_invboxcox,prediction_invboxcox)**0.5}')\n",
    "print(f'mdape : {calcul_mdape(y_test_invboxcox, prediction_invboxcox)}')\n",
    "print(f'r squarred : {r2_score(y_test_invboxcox, prediction_invboxcox)}')"
   ]
  },
  {
   "cell_type": "code",
   "execution_count": 261,
   "id": "12e689b5",
   "metadata": {},
   "outputs": [
    {
     "name": "stderr",
     "output_type": "stream",
     "text": [
      "/Users/maximedupouy/.pyenv/versions/3.8.6/envs/lewagon/lib/python3.8/site-packages/seaborn/_decorators.py:36: FutureWarning: Pass the following variables as keyword args: x, y. From version 0.12, the only valid positional argument will be `data`, and passing other arguments without an explicit keyword will result in an error or misinterpretation.\n",
      "  warnings.warn(\n"
     ]
    },
    {
     "data": {
      "text/plain": [
       "<AxesSubplot:>"
      ]
     },
     "execution_count": 261,
     "metadata": {},
     "output_type": "execute_result"
    },
    {
     "data": {
      "image/png": "[encoded data removed]",
      "text/plain": [
       "<Figure size 1440x720 with 1 Axes>"
      ]
     },
     "metadata": {
      "needs_background": "light"
     },
     "output_type": "display_data"
    }
   ],
   "source": [
    "plt.figure(figsize=(20,10))\n",
    "sns.regplot(y_test_invboxcox,prediction_invboxcox)"
   ]
  },
  {
   "cell_type": "code",
   "execution_count": 262,
   "id": "4bc02e9d",
   "metadata": {},
   "outputs": [
    {
     "data": {
      "image/png": "[encoded data removed]",
      "text/plain": [
       "<Figure size 432x288 with 1 Axes>"
      ]
     },
     "metadata": {
      "needs_background": "light"
     },
     "output_type": "display_data"
    }
   ],
   "source": [
    "learning_curves(model, X,y_emission,train_size=train_sizes)"
   ]
  },
  {
   "cell_type": "code",
   "execution_count": null,
   "id": "e565b096",
   "metadata": {},
   "outputs": [],
   "source": []
  }
 ],
 "metadata": {
  "kernelspec": {
   "display_name": "Python 3 (ipykernel)",
   "language": "python",
   "name": "python3"
  },
  "language_info": {
   "codemirror_mode": {
    "name": "ipython",
    "version": 3
   },
   "file_extension": ".py",
   "mimetype": "text/x-python",
   "name": "python",
   "nbconvert_exporter": "python",
   "pygments_lexer": "ipython3",
   "version": "3.8.6"
  },
  "toc": {
   "base_numbering": 1,
   "nav_menu": {},
   "number_sections": true,
   "sideBar": true,
   "skip_h1_title": false,
   "title_cell": "Table of Contents",
   "title_sidebar": "Contents",
   "toc_cell": false,
   "toc_position": {
    "height": "calc(100% - 180px)",
    "left": "10px",
    "top": "150px",
    "width": "360px"
   },
   "toc_section_display": true,
   "toc_window_display": true
  }
 },
 "nbformat": 4,
 "nbformat_minor": 5
}
