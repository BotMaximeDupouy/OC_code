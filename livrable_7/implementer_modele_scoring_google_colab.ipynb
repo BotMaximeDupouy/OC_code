{
  "nbformat": 4,
  "nbformat_minor": 0,
  "metadata": {
    "colab": {
      "provenance": []
    },
    "kernelspec": {
      "name": "python3",
      "display_name": "Python 3"
    },
    "language_info": {
      "name": "python"
    }
  },
  "cells": [
    {
      "cell_type": "code",
      "source": [
        "from google.colab import drive\n",
        "import os\n",
        "from lightgbm import LGBMClassifier\n",
        "from pprint import pprint\n",
        "import pandas as pd\n",
        "import numpy as np\n",
        "import matplotlib.pyplot as plt\n",
        "import seaborn as sns\n",
        "from imblearn.over_sampling import SMOTE\n",
        "from tqdm import tqdm\n",
        "import pickle\n",
        "\n",
        "from sklearn.ensemble import RandomForestClassifier\n",
        "from sklearn.linear_model import LogisticRegression\n",
        "from sklearn.neighbors import KNeighborsClassifier \n",
        "from sklearn.metrics import (recall_score, roc_auc_score, f1_score, roc_curve, auc, roc_curve,\n",
        "                             precision_recall_curve, make_scorer, accuracy_score,\n",
        "                             precision_score, confusion_matrix, classification_report, ConfusionMatrixDisplay,\n",
        "                            fbeta_score, make_scorer)\n",
        "from sklearn.preprocessing import StandardScaler\n",
        "from sklearn.model_selection import train_test_split, StratifiedKFold, learning_curve, GridSearchCV\n",
        "from sklearn.dummy import DummyClassifier\n",
        "\n",
        "from yellowbrick.datasets import load_game\n",
        "from yellowbrick.model_selection import LearningCurve\n"
      ],
      "metadata": {
        "id": "Pwv28FcSZVH2"
      },
      "execution_count": 11,
      "outputs": []
    },
    {
      "cell_type": "code",
      "source": [
        "def fit_and_predict(model, X_train, y_train, X_test):\n",
        "    model.fit(X_train, y_train)\n",
        "    return model.predict(X_test)\n",
        "\n",
        "def f1_(y_test, predictions):\n",
        "    return f1_score(y_test, predictions)\n",
        "\n",
        "def recall_(y_test, predictions):\n",
        "    return recall_score(y_test, predictions)\n",
        "\n",
        "def auc_(y_test, predictions):\n",
        "    return roc_auc_score(y_test, predictions)\n",
        "\n",
        "def plot_precision_recall_vs_threshold(precisions, recalls, thresholds):\n",
        "    \"\"\"\n",
        "    Modified from:\n",
        "    Hands-On Machine learning with Scikit-Learn\n",
        "    and TensorFlow; p.89\n",
        "    \"\"\"\n",
        "    plt.figure(figsize=(8, 8))\n",
        "    plt.title(\"Precision and Recall Scores as a function of the decision threshold\")\n",
        "    plt.plot(thresholds, precisions[:-1], \"b--\", label=\"Precision\")\n",
        "    plt.plot(thresholds, recalls[:-1], \"g-\", label=\"Recall\")\n",
        "    plt.ylabel(\"Score\")\n",
        "    plt.xlabel(\"Decision Threshold\")\n",
        "    plt.legend(loc='best')\n",
        "    plt.show()\n",
        "\n",
        "    \n",
        "def load_notebook_model():\n",
        "    return RandomForestClassifier(\n",
        "            n_estimators=50,\n",
        "            criterion='gini',\n",
        "            max_depth=5,\n",
        "            min_samples_split=2,\n",
        "            min_samples_leaf=1,\n",
        "            min_weight_fraction_leaf=0.0,\n",
        "            max_features='auto',\n",
        "            max_leaf_nodes=None,\n",
        "            min_impurity_decrease=0.0,\n",
        "            #min_impurity_split=None,\n",
        "            bootstrap=True,\n",
        "            oob_score=False,\n",
        "            n_jobs=-1,\n",
        "            random_state=0,\n",
        "            verbose=0,\n",
        "            warm_start=False,\n",
        "            class_weight='balanced'\n",
        "        )\n",
        "\n",
        "def make_grisearch_smote(model,\n",
        "                         X,\n",
        "                         y,\n",
        "                         param_grid:dict,\n",
        "                         k_fold=2):\n",
        "    \n",
        "    ftwo_scorer = make_scorer(fbeta_score, beta=2)\n",
        "    stratified_kfold = StratifiedKFold(\n",
        "        n_splits=k_fold,\n",
        "        shuffle=True\n",
        "    )\n",
        "\n",
        "    pipeline = imbpipeline(steps = [['smote', SMOTE(random_state=11)],\n",
        "                                    ['classifier', model]\n",
        "                                   ])\n",
        "\n",
        "\n",
        "    stratified_kfold = StratifiedKFold(n_splits=3,\n",
        "                                           shuffle=True,\n",
        "                                           random_state=11)\n",
        "    \n",
        "    grid_search = GridSearchCV(estimator=pipeline,\n",
        "                               param_grid=param_grid,\n",
        "                               scoring=ftwo_scorer,\n",
        "                               cv=stratified_kfold,\n",
        "                               n_jobs=-1)\n",
        "\n",
        "    grid_search.fit(X, y)\n",
        "    \n",
        "    return grid_search.best_score_, grid_search.best_params_\n",
        "\n",
        "def make_grisearch(model,\n",
        "                   X,\n",
        "                   y,\n",
        "                   param_grid:dict,\n",
        "                   k_fold=3):\n",
        "    \n",
        "    \n",
        "    stratified_kfold = StratifiedKFold(\n",
        "        n_splits=k_fold,\n",
        "        shuffle=True\n",
        "    )\n",
        "    \n",
        "    ftwo_scorer = make_scorer(fbeta_score, beta=2)\n",
        "    \n",
        "    grid_search = GridSearchCV(\n",
        "        estimator=model,\n",
        "        param_grid=param_grid,\n",
        "        scoring=ftwo_scorer,\n",
        "        cv=stratified_kfold,\n",
        "        n_jobs=-1)\n",
        "    \n",
        "    grid_search.fit(X, y)\n",
        "    return grid_search.best_score_, grid_search.best_params_\n",
        "    \n",
        "\n",
        "def fonction_metier(model, X_test, y_test, precision_recall=False, adjusted_treshold=False, treshold=None):\n",
        "    '''fonction to see : precision recall cruve, classification report and confusion matrice\n",
        "    possibility te readapt treshold to see the result'''\n",
        "    y_scores_proba = model.predict_proba(X_test)[:, 1]\n",
        "    y_scores = model.predict(X_test)\n",
        "    if adjusted_treshold:\n",
        "        y_scores = adjusted_classes(y_scores_proba, treshold)\n",
        "    \n",
        "    if precision_recall :\n",
        "        p, r, thresholds = precision_recall_curve(y_test, y_scores_proba)\n",
        "        plot_precision_recall_vs_threshold(p, r, thresholds)\n",
        "\n",
        "    print(classification_report(y_test, y_scores))\n",
        "    print('auc', auc_(y_test, y_scores))\n",
        "\n",
        "    cm = confusion_matrix(y_test, y_scores, labels=model.classes_)\n",
        "    disp = ConfusionMatrixDisplay(confusion_matrix=cm,\n",
        "                              display_labels=model.classes_)\n",
        "    disp.plot()\n",
        "    print(' ')\n",
        "    print('____________')\n",
        "    print(' ')\n",
        "\n",
        "    \n",
        "def adjusted_classes(y_scores, t):\n",
        "    \"\"\"\n",
        "    This function adjusts class predictions based on the prediction threshold (t).\n",
        "    Will only work for binary classification problems.\n",
        "    \"\"\"\n",
        "    return [1 if y >= t else 0 for y in y_scores]\n",
        "\n",
        "\n",
        "\n",
        "def evaluate(model,\n",
        "             model_name:str,\n",
        "             X,\n",
        "             y,\n",
        "             k_fold=5,\n",
        "             beta=2,\n",
        "             show_confusion_matrice=False,\n",
        "             apply_undersampling=False,\n",
        "             apply_smote=False,\n",
        "             smote_params=None,\n",
        "             move_treshold=False,\n",
        "             treshold=None) -> tuple:\n",
        "    '''\n",
        "    take a model, X, y, apply smote or not, smote_params={'k_neighbors':int, 'sampling_strategy':float}\n",
        "    and return 4 metrics with a n Kfold cros validated \n",
        "    and \"mean\" confusion matrice (with possibility to display\n",
        "    '''\n",
        "    # instanciate skf\n",
        "    skf = StratifiedKFold(n_splits=k_fold, random_state=123, shuffle=True)\n",
        "    \n",
        "    scores = {'f_beta_score_' : [],\n",
        "              'precision_' : [],\n",
        "              'recall_' : [],\n",
        "              'accuracy_' : [],}\n",
        "    cm = np.array([[0, 0], [0, 0]])\n",
        "    \n",
        "    for train_ix, test_ix in skf.split(X, y):\n",
        "        X_train, X_test = X.iloc[train_ix], X.iloc[test_ix]\n",
        "        y_train, y_test = y.iloc[train_ix], y.iloc[test_ix]\n",
        "        \n",
        "        if apply_smote:\n",
        "            oversample = SMOTE(k_neighbors=smote_params['k_neighbors'],\n",
        "                               sampling_strategy=smote_params['sampling_strategy'])\n",
        "            X_train, y_train = oversample.fit_resample(X_train, y_train)\n",
        "        \n",
        "        if apply_undersampling:\n",
        "            undersample = NearMiss(version=1, n_neighbors=100, sampling_strategy=0.5)\n",
        "            X_train, y_train = undersample.fit_resample(X_train, y_train)\n",
        "        \n",
        "        if move_treshold:\n",
        "            model.fit(X_train, y_train)\n",
        "            probabilities = model.predict_proba(X_test)[:,1]\n",
        "            predictions = adjusted_classes(probabilities, treshold)\n",
        "            \n",
        "        else :\n",
        "        # predict\n",
        "            predictions = fit_and_predict(model, X_train, y_train, X_test)\n",
        "\n",
        "        scores['f_beta_score_'].append(fbeta_score(y_test, predictions, beta=beta))\n",
        "        scores['precision_'].append(accuracy_score(y_test, predictions))\n",
        "        scores['recall_'].append(recall_score(y_test, predictions))\n",
        "        scores['accuracy_'].append(accuracy_score(y_test, predictions))\n",
        "\n",
        "        cm += confusion_matrix(y_test, predictions)\n",
        "    \n",
        "    # return mean for metrics\n",
        "    for metric, scores_values in scores.items() :\n",
        "        scores[metric] = np.mean(scores_values)\n",
        "    \n",
        "    # return mean cm\n",
        "    cm = cm // k_fold\n",
        "    \n",
        "    if show_confusion_matrice:\n",
        "        ConfusionMatrixDisplay(cm, display_labels=model.classes_).plot()\n",
        "    \n",
        "    return pd.DataFrame.from_dict(scores, orient='index').rename(columns={0:model_name}), cm\n",
        "    \n",
        "    "
      ],
      "metadata": {
        "id": "OvuxUvUdOd63"
      },
      "execution_count": 2,
      "outputs": []
    },
    {
      "cell_type": "code",
      "execution_count": 3,
      "metadata": {
        "colab": {
          "base_uri": "https://localhost:8080/"
        },
        "id": "etE62jHUZSh7",
        "outputId": "1f37d9f9-7d3c-4518-8266-f8b7a98f9a9a"
      },
      "outputs": [
        {
          "output_type": "stream",
          "name": "stdout",
          "text": [
            "Mounted at /content/drive\n"
          ]
        }
      ],
      "source": [
        "drive.mount('/content/drive')\n",
        "\n",
        "data_path = '/content/drive/MyDrive/implementer_modele_scoring_data'"
      ]
    },
    {
      "cell_type": "code",
      "source": [
        "feature_cols = [\n",
        "    'SK_ID_CURR',\n",
        "    'EXT_SOURCE_1',\n",
        "    'EXT_SOURCE_2',\n",
        "    'EXT_SOURCE_3',\n",
        "    'DAYS_BIRTH',\n",
        "    'AMT_CREDIT',\n",
        "    'AMT_ANNUITY',\n",
        "    'DAYS_EMPLOYED',\n",
        "    'AMT_GOODS_PRICE',\n",
        "    'DAYS_ID_PUBLISH',\n",
        "    'OWN_CAR_AGE',\n",
        "    'BUREAU_MAX_DAYS_CREDIT',\n",
        "    'BUREAU_MAX_DAYS_CREDIT_ENDDATE',\n",
        "    'BUREAU_MAX_DAYS_ENDDATE_FACT',\n",
        "    'PREV_SUM_MIN_AMT_PAYMENT',\n",
        "    'PREV_MEAN_MIN_AMT_PAYMENT'\n",
        "    ]"
      ],
      "metadata": {
        "id": "bhtXmgzZAfyQ"
      },
      "execution_count": 4,
      "outputs": []
    },
    {
      "cell_type": "code",
      "source": [
        "def load_data():\n",
        "  data = {}\n",
        "  for file in os.listdir(data_path):\n",
        "    name = file.split('.')[0]\n",
        "    data[name] = pd.read_csv(''.join([data_path,'/', file]), encoding='Latin-1')\n",
        "  return data\n",
        "\n",
        "def bureau(data, df, df_test):\n",
        "  bureau_cols = ['DAYS_CREDIT', 'DAYS_CREDIT_ENDDATE', 'DAYS_ENDDATE_FACT']\n",
        "  bureau_cols_max = ['BUREAU_MAX_' + c for c in bureau_cols]\n",
        "  key = 'SK_ID_CURR'\n",
        "  data['bureau'][[key] + bureau_cols].groupby(key).max().rename(\n",
        "          columns=dict(zip(bureau_cols, bureau_cols_max)))\n",
        "  bureau_cols = ['DAYS_CREDIT', 'DAYS_CREDIT_ENDDATE', 'DAYS_ENDDATE_FACT']\n",
        "\n",
        "  bureau_cols_max = ['BUREAU_MAX_' + c for c in bureau_cols]\n",
        "\n",
        "  df = pd.merge(\n",
        "      left=df,\n",
        "      right=data['bureau'][[key] + bureau_cols].groupby(key).max().rename(\n",
        "          columns=dict(zip(bureau_cols, bureau_cols_max))),\n",
        "      left_on=key,\n",
        "      right_index=True, \n",
        "      how='left'\n",
        "  )\n",
        "  df_test = pd.merge(\n",
        "      left=df_test,\n",
        "      right=data['bureau'][[key] + bureau_cols].groupby(key).max().rename(\n",
        "          columns=dict(zip(bureau_cols, bureau_cols_max))),\n",
        "      left_on=key,\n",
        "      right_index=True, \n",
        "      how='left'\n",
        "  )\n",
        "  return df, df_test\n",
        "\n",
        "\n",
        "def previous_app_and_installements(data, df, df_test):\n",
        "  key_prev = 'SK_ID_PREV'\n",
        "  payment_cols = ['AMT_PAYMENT']\n",
        "\n",
        "  # Min payment for all previous loans\n",
        "  data['previous_application'] = pd.merge(\n",
        "      left=data['previous_application'],\n",
        "      right=data['installments_payments'][[key_prev] + payment_cols].groupby(key_prev).min(),\n",
        "      left_on=key_prev,\n",
        "      right_index=True,\n",
        "      how='left'\n",
        "  )\n",
        "  key = 'SK_ID_CURR'\n",
        "  prev_agg_cols = ['PREV_SUM_MIN_AMT_PAYMENT', 'PREV_MEAN_MIN_AMT_PAYMENT']\n",
        "\n",
        "  # Sum and mean of minimum payments across all previous loans\n",
        "  df_prev_agg = data['previous_application'][[key] + payment_cols].groupby(key).agg(['sum', 'mean']);\n",
        "  df_prev_agg.columns = prev_agg_cols\n",
        "\n",
        "  df = pd.merge(\n",
        "      left=df,\n",
        "      right=df_prev_agg,\n",
        "      left_on=key,\n",
        "      right_index=True,\n",
        "      how='left'\n",
        "  )\n",
        "\n",
        "  df_test = pd.merge(\n",
        "      left=df_test,\n",
        "      right=df_prev_agg,\n",
        "      left_on=key,\n",
        "      right_index=True,\n",
        "      how='left'\n",
        "  )\n",
        "  return df, df_test\n",
        "\n",
        "\n",
        "def select_columns(df, df_test, feature_cols):\n",
        "  return df[feature_cols], df_test[feature_cols], df['TARGET']\n",
        "\n",
        "\n",
        "def main():\n",
        "  data = load_data()\n",
        "  df, df_test = data['application_train'], data['application_test']\n",
        "  df, df_test = bureau(data, df, df_test)\n",
        "  df, df_test = previous_app_and_installements(data, df, df_test)\n",
        "  df, df_test, y = select_columns(df, df_test, feature_cols)\n",
        "\n",
        "  df = df.fillna(value=df.mean())\n",
        "  df_test = df_test.fillna(value=df.mean())\n",
        "\n",
        "  df.SK_ID_CURR = df.SK_ID_CURR.astype(int)\n",
        "  df_test.SK_ID_CURR = df_test.SK_ID_CURR.astype(int)\n",
        "  return df, df_test, y\n",
        "\n",
        "df, df_test, y = main()"
      ],
      "metadata": {
        "id": "7AcDhWXB9hRU"
      },
      "execution_count": 5,
      "outputs": []
    },
    {
      "cell_type": "code",
      "source": [
        "X = df.drop(columns=['SK_ID_CURR'])"
      ],
      "metadata": {
        "id": "uTl3SnKHGIYC"
      },
      "execution_count": 6,
      "outputs": []
    },
    {
      "cell_type": "code",
      "source": [
        "\n",
        "X_train, X_test, y_train, y_test = train_test_split(\n",
        "    X, y, test_size=0.30, random_state=42)\n",
        "X_train, X_val, y_train, y_val = train_test_split(\n",
        "    X_train, y_train, test_size=0.20, random_state=42)\n",
        "\n",
        "# LightGBM parameters found by Bayesian optimization\n",
        "clf = LGBMClassifier(\n",
        "    nthread=4,\n",
        "    n_estimators=10000,\n",
        "    learning_rate=0.02,\n",
        "    num_leaves=34,\n",
        "    colsample_bytree=0.9497036,\n",
        "    subsample=0.8715623,\n",
        "    max_depth=8,\n",
        "    reg_alpha=0.041545473,\n",
        "    reg_lambda=0.0735294,\n",
        "    min_split_gain=0.0222415,\n",
        "    min_child_weight=39.3259775,\n",
        "    silent=-1,\n",
        "    verbose=-1, )\n",
        "\n",
        "clf.fit(X_train, y_train, eval_metric='auc', eval_set=[(X_train, y_train), (X_val, y_val)],\n",
        "        verbose= 200, early_stopping_rounds= 200)"
      ],
      "metadata": {
        "colab": {
          "base_uri": "https://localhost:8080/"
        },
        "id": "1DWrqN0FkX9v",
        "outputId": "b5a226e0-90ac-4a8a-bc68-8fec8c32bfb7"
      },
      "execution_count": null,
      "outputs": [
        {
          "output_type": "stream",
          "name": "stdout",
          "text": [
            "Training until validation scores don't improve for 200 rounds.\n",
            "[200]\ttraining's auc: 0.773408\ttraining's binary_logloss: 0.241935\tvalid_1's auc: 0.748868\tvalid_1's binary_logloss: 0.250785\n",
            "[400]\ttraining's auc: 0.789717\ttraining's binary_logloss: 0.236279\tvalid_1's auc: 0.75432\tvalid_1's binary_logloss: 0.249055\n",
            "[600]\ttraining's auc: 0.800728\ttraining's binary_logloss: 0.232576\tvalid_1's auc: 0.755626\tvalid_1's binary_logloss: 0.248736\n",
            "[800]\ttraining's auc: 0.81011\ttraining's binary_logloss: 0.229487\tvalid_1's auc: 0.755766\tvalid_1's binary_logloss: 0.24872\n",
            "Early stopping, best iteration is:\n",
            "[728]\ttraining's auc: 0.807105\ttraining's binary_logloss: 0.230476\tvalid_1's auc: 0.755957\tvalid_1's binary_logloss: 0.24868\n"
          ]
        },
        {
          "output_type": "execute_result",
          "data": {
            "text/plain": [
              "LGBMClassifier(colsample_bytree=0.9497036, learning_rate=0.02, max_depth=8,\n",
              "               min_child_weight=39.3259775, min_split_gain=0.0222415,\n",
              "               n_estimators=10000, nthread=4, num_leaves=34,\n",
              "               reg_alpha=0.041545473, reg_lambda=0.0735294, silent=-1,\n",
              "               subsample=0.8715623, verbose=-1)"
            ]
          },
          "metadata": {},
          "execution_count": 14
        }
      ]
    },
    {
      "cell_type": "code",
      "source": [
        "predictions = clf.predict(X_test)"
      ],
      "metadata": {
        "id": "EQPt8b-saKhf"
      },
      "execution_count": null,
      "outputs": []
    },
    {
      "cell_type": "code",
      "source": [
        "clf = LGBMClassifier(\n",
        "    nthread=4,\n",
        "    n_estimators=10000,\n",
        "    learning_rate=0.02,\n",
        "    num_leaves=34,\n",
        "    colsample_bytree=0.9497036,\n",
        "    subsample=0.8715623,\n",
        "    max_depth=8,\n",
        "    reg_alpha=0.041545473,\n",
        "    reg_lambda=0.0735294,\n",
        "    min_split_gain=0.0222415,\n",
        "    min_child_weight=39.3259775,\n",
        "    silent=-1,\n",
        "    verbose=-1, )\n",
        "\n",
        "\n",
        "score, mc = evaluate(clf,\n",
        "                  'lgbm',\n",
        "                  X,\n",
        "                  y,\n",
        "                  k_fold=5,\n",
        "                  beta=2,\n",
        "                  show_confusion_matrice=True,\n",
        "                  apply_undersampling=False,\n",
        "                  apply_smote=False,\n",
        "                  smote_params=None,\n",
        "                  move_treshold=False,\n",
        "                  treshold=None)"
      ],
      "metadata": {
        "colab": {
          "base_uri": "https://localhost:8080/",
          "height": 361
        },
        "id": "yghddS2mOqdq",
        "outputId": "ee0f498e-7cde-49c7-cdc0-68bc2c193200"
      },
      "execution_count": null,
      "outputs": [
        {
          "output_type": "display_data",
          "data": {
            "text/plain": [
              "<Figure size 576x396 with 2 Axes>"
            ],
            "image/png": "[encoded data removed]"
          },
          "metadata": {}
        }
      ]
    },
    {
      "cell_type": "code",
      "source": [
        "clf = LGBMClassifier(is_unbalance=True)\n",
        "\n",
        "\n",
        "score, mc = evaluate(clf,\n",
        "                  'lgbm',\n",
        "                  X,\n",
        "                  y,\n",
        "                  k_fold=5,\n",
        "                  beta=2,\n",
        "                  show_confusion_matrice=True,\n",
        "                  apply_undersampling=False,\n",
        "                  apply_smote=False,\n",
        "                  smote_params=None,\n",
        "                  move_treshold=False,\n",
        "                  treshold=None)\n",
        "print(score)"
      ],
      "metadata": {
        "colab": {
          "base_uri": "https://localhost:8080/",
          "height": 450
        },
        "id": "PLaLouKwYAj-",
        "outputId": "0c20ddb9-7f82-4a7e-806a-4661ec46e062"
      },
      "execution_count": 13,
      "outputs": [
        {
          "output_type": "stream",
          "name": "stdout",
          "text": [
            "                   lgbm\n",
            "f_beta_score_  0.420850\n",
            "precision_     0.698720\n",
            "recall_        0.681329\n",
            "accuracy_      0.698720\n"
          ]
        },
        {
          "output_type": "display_data",
          "data": {
            "text/plain": [
              "<Figure size 576x396 with 2 Axes>"
            ],
            "image/png": "[encoded data removed]"
          },
          "metadata": {}
        }
      ]
    },
    {
      "cell_type": "code",
      "source": [
        "from xgboost import XGBClassifier\n",
        "xgb = XGBClassifier(scale_pos_weight=10)\n",
        "score, mc = evaluate(xgb,\n",
        "                  'xgb',\n",
        "                  X,\n",
        "                  y,\n",
        "                  k_fold=5,\n",
        "                  beta=2,\n",
        "                  show_confusion_matrice=True,\n",
        "                  apply_undersampling=False,\n",
        "                  apply_smote=False,\n",
        "                  smote_params=None,\n",
        "                  move_treshold=False,\n",
        "                  treshold=None)"
      ],
      "metadata": {
        "colab": {
          "base_uri": "https://localhost:8080/",
          "height": 361
        },
        "id": "tX1XI_BOO-qa",
        "outputId": "050587a3-83e4-4c51-8d4e-db138a33c47a"
      },
      "execution_count": null,
      "outputs": [
        {
          "output_type": "display_data",
          "data": {
            "text/plain": [
              "<Figure size 576x396 with 2 Axes>"
            ],
            "image/png": "[encoded data removed]"
          },
          "metadata": {}
        }
      ]
    },
    {
      "cell_type": "code",
      "source": [
        "display(score)"
      ],
      "metadata": {
        "colab": {
          "base_uri": "https://localhost:8080/",
          "height": 175
        },
        "id": "u1bsE2ZggiGd",
        "outputId": "c11bece8-4aae-46bf-8e39-ab9572127728"
      },
      "execution_count": null,
      "outputs": [
        {
          "output_type": "display_data",
          "data": {
            "text/plain": [
              "                    xgb\n",
              "f_beta_score_  0.415747\n",
              "precision_     0.729330\n",
              "recall_        0.633595\n",
              "accuracy_      0.729330"
            ],
            "text/html": [
              "\n",
              "  <div id=\"df-1d621ac8-0a4c-42de-84f0-ffbe43469e8d\">\n",
              "    <div class=\"colab-df-container\">\n",
              "      <div>\n",
              "<style scoped>\n",
              "    .dataframe tbody tr th:only-of-type {\n",
              "        vertical-align: middle;\n",
              "    }\n",
              "\n",
              "    .dataframe tbody tr th {\n",
              "        vertical-align: top;\n",
              "    }\n",
              "\n",
              "    .dataframe thead th {\n",
              "        text-align: right;\n",
              "    }\n",
              "</style>\n",
              "<table border=\"1\" class=\"dataframe\">\n",
              "  <thead>\n",
              "    <tr style=\"text-align: right;\">\n",
              "      <th></th>\n",
              "      <th>xgb</th>\n",
              "    </tr>\n",
              "  </thead>\n",
              "  <tbody>\n",
              "    <tr>\n",
              "      <th>f_beta_score_</th>\n",
              "      <td>0.415747</td>\n",
              "    </tr>\n",
              "    <tr>\n",
              "      <th>precision_</th>\n",
              "      <td>0.729330</td>\n",
              "    </tr>\n",
              "    <tr>\n",
              "      <th>recall_</th>\n",
              "      <td>0.633595</td>\n",
              "    </tr>\n",
              "    <tr>\n",
              "      <th>accuracy_</th>\n",
              "      <td>0.729330</td>\n",
              "    </tr>\n",
              "  </tbody>\n",
              "</table>\n",
              "</div>\n",
              "      <button class=\"colab-df-convert\" onclick=\"convertToInteractive('df-1d621ac8-0a4c-42de-84f0-ffbe43469e8d')\"\n",
              "              title=\"Convert this dataframe to an interactive table.\"\n",
              "              style=\"display:none;\">\n",
              "        \n",
              "  <svg xmlns=\"http://www.w3.org/2000/svg\" height=\"24px\"viewBox=\"0 0 24 24\"\n",
              "       width=\"24px\">\n",
              "    <path d=\"M0 0h24v24H0V0z\" fill=\"none\"/>\n",
              "    <path d=\"M18.56 5.44l.94 2.06.94-2.06 2.06-.94-2.06-.94-.94-2.06-.94 2.06-2.06.94zm-11 1L8.5 8.5l.94-2.06 2.06-.94-2.06-.94L8.5 2.5l-.94 2.06-2.06.94zm10 10l.94 2.06.94-2.06 2.06-.94-2.06-.94-.94-2.06-.94 2.06-2.06.94z\"/><path d=\"M17.41 7.96l-1.37-1.37c-.4-.4-.92-.59-1.43-.59-.52 0-1.04.2-1.43.59L10.3 9.45l-7.72 7.72c-.78.78-.78 2.05 0 2.83L4 21.41c.39.39.9.59 1.41.59.51 0 1.02-.2 1.41-.59l7.78-7.78 2.81-2.81c.8-.78.8-2.07 0-2.86zM5.41 20L4 18.59l7.72-7.72 1.47 1.35L5.41 20z\"/>\n",
              "  </svg>\n",
              "      </button>\n",
              "      \n",
              "  <style>\n",
              "    .colab-df-container {\n",
              "      display:flex;\n",
              "      flex-wrap:wrap;\n",
              "      gap: 12px;\n",
              "    }\n",
              "\n",
              "    .colab-df-convert {\n",
              "      background-color: #E8F0FE;\n",
              "      border: none;\n",
              "      border-radius: 50%;\n",
              "      cursor: pointer;\n",
              "      display: none;\n",
              "      fill: #1967D2;\n",
              "      height: 32px;\n",
              "      padding: 0 0 0 0;\n",
              "      width: 32px;\n",
              "    }\n",
              "\n",
              "    .colab-df-convert:hover {\n",
              "      background-color: #E2EBFA;\n",
              "      box-shadow: 0px 1px 2px rgba(60, 64, 67, 0.3), 0px 1px 3px 1px rgba(60, 64, 67, 0.15);\n",
              "      fill: #174EA6;\n",
              "    }\n",
              "\n",
              "    [theme=dark] .colab-df-convert {\n",
              "      background-color: #3B4455;\n",
              "      fill: #D2E3FC;\n",
              "    }\n",
              "\n",
              "    [theme=dark] .colab-df-convert:hover {\n",
              "      background-color: #434B5C;\n",
              "      box-shadow: 0px 1px 3px 1px rgba(0, 0, 0, 0.15);\n",
              "      filter: drop-shadow(0px 1px 2px rgba(0, 0, 0, 0.3));\n",
              "      fill: #FFFFFF;\n",
              "    }\n",
              "  </style>\n",
              "\n",
              "      <script>\n",
              "        const buttonEl =\n",
              "          document.querySelector('#df-1d621ac8-0a4c-42de-84f0-ffbe43469e8d button.colab-df-convert');\n",
              "        buttonEl.style.display =\n",
              "          google.colab.kernel.accessAllowed ? 'block' : 'none';\n",
              "\n",
              "        async function convertToInteractive(key) {\n",
              "          const element = document.querySelector('#df-1d621ac8-0a4c-42de-84f0-ffbe43469e8d');\n",
              "          const dataTable =\n",
              "            await google.colab.kernel.invokeFunction('convertToInteractive',\n",
              "                                                     [key], {});\n",
              "          if (!dataTable) return;\n",
              "\n",
              "          const docLinkHtml = 'Like what you see? Visit the ' +\n",
              "            '<a target=\"_blank\" href=https://colab.research.google.com/notebooks/data_table.ipynb>data table notebook</a>'\n",
              "            + ' to learn more about interactive tables.';\n",
              "          element.innerHTML = '';\n",
              "          dataTable['output_type'] = 'display_data';\n",
              "          await google.colab.output.renderOutput(dataTable, element);\n",
              "          const docLink = document.createElement('div');\n",
              "          docLink.innerHTML = docLinkHtml;\n",
              "          element.appendChild(docLink);\n",
              "        }\n",
              "      </script>\n",
              "    </div>\n",
              "  </div>\n",
              "  "
            ]
          },
          "metadata": {}
        }
      ]
    },
    {
      "cell_type": "code",
      "source": [
        "params = {\n",
        "        'gamma': [0.5, 2, 5],\n",
        "        'scale_pos_weight': [8, 9, 10],\n",
        "        'subsample': [0.6, 0.8, 1.0],\n",
        "        'colsample_bytree': [0.6, 0.8, 1.0],\n",
        "        'max_depth': [3, 4, 5],\n",
        "        }\n"
      ],
      "metadata": {
        "id": "JKEOU4IxDAVo"
      },
      "execution_count": 7,
      "outputs": []
    },
    {
      "cell_type": "code",
      "source": [
        "from xgboost import XGBClassifier\n",
        "xgb = XGBClassifier()\n",
        "\n",
        "score, params = make_grisearch(xgb, X, y, param_grid=params)\n",
        "print(score, params)"
      ],
      "metadata": {
        "id": "rLRtqwPdiXyP",
        "colab": {
          "base_uri": "https://localhost:8080/"
        },
        "outputId": "334be6f6-348e-46aa-d63b-dfad3bac3dcc"
      },
      "execution_count": 8,
      "outputs": [
        {
          "output_type": "stream",
          "name": "stdout",
          "text": [
            "0.41840701174337075 {'colsample_bytree': 1.0, 'gamma': 0.5, 'max_depth': 4, 'scale_pos_weight': 10, 'subsample': 1.0}\n"
          ]
        }
      ]
    },
    {
      "cell_type": "code",
      "source": [
        "xgb = XGBClassifier(colsample_bytree =1.0, gamma= 0.5, max_depth= 4, scale_pos_weight= 10, subsample= 1.0)\n",
        "score, mc = evaluate(xgb,\n",
        "                  'xgb',\n",
        "                  X,\n",
        "                  y,\n",
        "                  k_fold=5,\n",
        "                  beta=2,\n",
        "                  show_confusion_matrice=True,\n",
        "                  apply_undersampling=False,\n",
        "                  apply_smote=False,\n",
        "                  smote_params=None,\n",
        "                  move_treshold=False,\n",
        "                  treshold=None)\n",
        "print(score)"
      ],
      "metadata": {
        "id": "olvw2gmQDplo",
        "colab": {
          "base_uri": "https://localhost:8080/",
          "height": 450
        },
        "outputId": "d724369f-5153-49c6-8573-3c84ae208936"
      },
      "execution_count": 16,
      "outputs": [
        {
          "output_type": "stream",
          "name": "stdout",
          "text": [
            "                    xgb\n",
            "f_beta_score_  0.418020\n",
            "precision_     0.732501\n",
            "recall_        0.633797\n",
            "accuracy_      0.732501\n"
          ]
        },
        {
          "output_type": "display_data",
          "data": {
            "text/plain": [
              "<Figure size 576x396 with 2 Axes>"
            ],
            "image/png": "[encoded data removed]"
          },
          "metadata": {}
        }
      ]
    },
    {
      "cell_type": "code",
      "source": [],
      "metadata": {
        "id": "aiSMHWgk26Ni"
      },
      "execution_count": null,
      "outputs": []
    }
  ]
}